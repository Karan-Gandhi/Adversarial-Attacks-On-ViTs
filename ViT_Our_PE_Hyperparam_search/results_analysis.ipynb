{
 "cells": [
  {
   "cell_type": "code",
   "execution_count": 2,
   "id": "55cc472f",
   "metadata": {},
   "outputs": [],
   "source": [
    "import pandas as pd\n",
    "results = pd.read_csv('vit_attack_results_2.csv')\n",
    "import matplotlib.pyplot as plt\n",
    "import numpy as np"
   ]
  },
  {
   "cell_type": "code",
   "execution_count": 3,
   "id": "25a160c6",
   "metadata": {},
   "outputs": [],
   "source": [
    "no_pos = results[results[\"pos_emb_ratio\"] == 0.0]\n",
    "one_eighth = results[results[\"pos_emb_ratio\"] == 0.125]\n",
    "one_fourth = results[results[\"pos_emb_ratio\"] == 0.25]\n",
    "one_half = results[results[\"pos_emb_ratio\"] == 0.5]\n",
    "one_fifth = results[results[\"pos_emb_ratio\"] == 0.2]"
   ]
  },
  {
   "cell_type": "code",
   "execution_count": 4,
   "id": "e36d26d5",
   "metadata": {},
   "outputs": [
    {
     "data": {
      "text/plain": [
       "Index(['Patch_Size', 'Dim', 'Depth', 'Heads', 'pos_emb_ratio', 'Accuracy_old',\n",
       "       'Accuracy_new', 'phase_strong_old', 'magnitude_strong_old',\n",
       "       'normal_strong_old', 'FGSM_strong_old', 'fourier_strong_old',\n",
       "       'phase_strong_new', 'magnitude_strong_new', 'normal_strong_new',\n",
       "       'FGSM_strong_new', 'fourier_strong_new'],\n",
       "      dtype='object')"
      ]
     },
     "execution_count": 4,
     "metadata": {},
     "output_type": "execute_result"
    }
   ],
   "source": [
    "results.columns"
   ]
  },
  {
   "cell_type": "code",
   "execution_count": 5,
   "id": "e4d76f94",
   "metadata": {},
   "outputs": [],
   "source": [
    "all_attacks = [\"phase_strong\", \"magnitude_strong\", \"normal_strong\", \"FGSM_strong\", \"fourier_strong\"]"
   ]
  },
  {
   "cell_type": "code",
   "execution_count": 6,
   "id": "76fd3bf6",
   "metadata": {},
   "outputs": [
    {
     "name": "stdout",
     "output_type": "stream",
     "text": [
      "Best ratio for phase_strong: 0.125, increase: 0.953 std: 1.643, best: 5.560, worst: -3.720\n",
      "Best ratio for magnitude_strong: 0.125, increase: 0.995 std: 1.581, best: 4.930, worst: -3.310\n",
      "Best ratio for normal_strong: 0.125, increase: 1.451 std: 2.248, best: 8.780, worst: -4.950\n",
      "Best ratio for FGSM_strong: 0.500, increase: 0.194 std: 0.924, best: 2.160, worst: -2.570\n",
      "Best ratio for fourier_strong: 0.500, increase: 0.239 std: 0.656, best: 2.320, worst: -1.410\n"
     ]
    }
   ],
   "source": [
    "for attack in all_attacks:\n",
    "    best_ratio = 0.0\n",
    "    best_increase = 0.0\n",
    "    for ratio in [0.0, 0.125, 0.2, 0.25, 0.5]:\n",
    "        attack_old = f\"{attack}_old\"\n",
    "        attack_new = f\"{attack}_new\"\n",
    "        old = results[results[\"pos_emb_ratio\"] == ratio][attack_old].values\n",
    "        new = results[results[\"pos_emb_ratio\"] == ratio][attack_new].values\n",
    "        inc = new-old\n",
    "        mean_inc = np.mean(inc)\n",
    "        std_inc = np.std(inc)\n",
    "        worst_inc = np.min(inc)\n",
    "        best_inc = np.max(inc)\n",
    "        if mean_inc > best_increase:\n",
    "            best_increase = mean_inc\n",
    "            best_ratio = ratio\n",
    "            best_std = std_inc\n",
    "            best_best_inc = best_inc\n",
    "            best_worst_inc = worst_inc\n",
    "    print(f\"Best ratio for {attack}: {best_ratio:.3f}, increase: {best_increase:.3f} std: {best_std:.3f}, best: {best_best_inc:.3f}, worst: {best_worst_inc:.3f}\")\n",
    "\n"
   ]
  },
  {
   "cell_type": "code",
   "execution_count": 7,
   "id": "42321966",
   "metadata": {},
   "outputs": [
    {
     "name": "stderr",
     "output_type": "stream",
     "text": [
      "/tmp/ipykernel_276380/312580925.py:20: FutureWarning: The behavior of DataFrame concatenation with empty or all-NA entries is deprecated. In a future version, this will no longer exclude empty or all-NA columns when determining the result dtypes. To retain the old behavior, exclude the relevant entries before the concat operation.\n",
      "  results_table = pd.concat([results_table, pd.DataFrame([row])], ignore_index=True)\n"
     ]
    }
   ],
   "source": [
    "# results_table = pd.DataFrame(columns=[\"ratio\", \"attack\", \"old\", \"new\", \"inc\"])\n",
    "results_table = pd.DataFrame(columns=[\"ratio\", \"attack\", \"inc\"])\n",
    "for ratio in [0.0, 0.125, 0.2, 0.25, 0.5]:\n",
    "    for attack in all_attacks:\n",
    "        attack_old = f\"{attack}_old\"\n",
    "        attack_new = f\"{attack}_new\"\n",
    "        old = results[results[\"pos_emb_ratio\"] == ratio][attack_old].values\n",
    "        new = results[results[\"pos_emb_ratio\"] == ratio][attack_new].values\n",
    "        inc = new-old\n",
    "        old_mean = np.mean(old)\n",
    "        new_mean = np.mean(new)\n",
    "        inc_mean = np.mean(inc)\n",
    "        row = {\n",
    "            \"ratio\": ratio,\n",
    "            \"attack\": attack,\n",
    "            # \"old\": old_mean,\n",
    "            # \"new\": new_mean,\n",
    "            \"inc\": inc_mean\n",
    "        }\n",
    "        results_table = pd.concat([results_table, pd.DataFrame([row])], ignore_index=True)\n",
    "\n",
    "results_table = results_table.pivot(index=\"ratio\", columns=\"attack\", values=\"inc\")"
   ]
  },
  {
   "cell_type": "code",
   "execution_count": 8,
   "id": "3c40b112",
   "metadata": {},
   "outputs": [],
   "source": [
    "results_table.to_csv(\"vit_attack_results_table.csv\")"
   ]
  },
  {
   "cell_type": "code",
   "execution_count": 9,
   "id": "4a896c1b",
   "metadata": {},
   "outputs": [
    {
     "name": "stdout",
     "output_type": "stream",
     "text": [
      "New model accuracy:  72.15\n"
     ]
    },
    {
     "data": {
      "text/html": [
       "<div>\n",
       "<style scoped>\n",
       "    .dataframe tbody tr th:only-of-type {\n",
       "        vertical-align: middle;\n",
       "    }\n",
       "\n",
       "    .dataframe tbody tr th {\n",
       "        vertical-align: top;\n",
       "    }\n",
       "\n",
       "    .dataframe thead th {\n",
       "        text-align: right;\n",
       "    }\n",
       "</style>\n",
       "<table border=\"1\" class=\"dataframe\">\n",
       "  <thead>\n",
       "    <tr style=\"text-align: right;\">\n",
       "      <th></th>\n",
       "      <th>Patch_Size</th>\n",
       "      <th>Dim</th>\n",
       "      <th>Depth</th>\n",
       "      <th>Heads</th>\n",
       "      <th>pos_emb_ratio</th>\n",
       "      <th>Accuracy_old</th>\n",
       "      <th>Accuracy_new</th>\n",
       "      <th>phase_strong_old</th>\n",
       "      <th>magnitude_strong_old</th>\n",
       "      <th>normal_strong_old</th>\n",
       "      <th>FGSM_strong_old</th>\n",
       "      <th>fourier_strong_old</th>\n",
       "      <th>phase_strong_new</th>\n",
       "      <th>magnitude_strong_new</th>\n",
       "      <th>normal_strong_new</th>\n",
       "      <th>FGSM_strong_new</th>\n",
       "      <th>fourier_strong_new</th>\n",
       "    </tr>\n",
       "  </thead>\n",
       "  <tbody>\n",
       "    <tr>\n",
       "      <th>2</th>\n",
       "      <td>4.0</td>\n",
       "      <td>256.0</td>\n",
       "      <td>8.0</td>\n",
       "      <td>8.0</td>\n",
       "      <td>0.2</td>\n",
       "      <td>70.49</td>\n",
       "      <td>72.15</td>\n",
       "      <td>18.4</td>\n",
       "      <td>18.51</td>\n",
       "      <td>25.55</td>\n",
       "      <td>13.46</td>\n",
       "      <td>0.37</td>\n",
       "      <td>19.66</td>\n",
       "      <td>19.97</td>\n",
       "      <td>27.55</td>\n",
       "      <td>13.81</td>\n",
       "      <td>0.19</td>\n",
       "    </tr>\n",
       "  </tbody>\n",
       "</table>\n",
       "</div>"
      ],
      "text/plain": [
       "   Patch_Size    Dim  Depth  Heads  pos_emb_ratio  Accuracy_old  Accuracy_new  \\\n",
       "2         4.0  256.0    8.0    8.0            0.2         70.49         72.15   \n",
       "\n",
       "   phase_strong_old  magnitude_strong_old  normal_strong_old  FGSM_strong_old  \\\n",
       "2              18.4                 18.51              25.55            13.46   \n",
       "\n",
       "   fourier_strong_old  phase_strong_new  magnitude_strong_new  \\\n",
       "2                0.37             19.66                 19.97   \n",
       "\n",
       "   normal_strong_new  FGSM_strong_new  fourier_strong_new  \n",
       "2              27.55            13.81                0.19  "
      ]
     },
     "metadata": {},
     "output_type": "display_data"
    }
   ],
   "source": [
    "# Finding best model\n",
    "new_accs = results[\"Accuracy_new\"].values\n",
    "print(\"New model accuracy: \", new_accs.max())\n",
    "best_model = results[results[\"Accuracy_new\"] == new_accs.max()]\n",
    "display(best_model)"
   ]
  },
  {
   "cell_type": "code",
   "execution_count": 17,
   "id": "b21ef6c2",
   "metadata": {},
   "outputs": [
    {
     "name": "stdout",
     "output_type": "stream",
     "text": [
      "Ratio: 0.000, inc: -2.006 std: 1.801\n",
      "Ratio: 0.125, inc: 0.872 std: 1.164\n",
      "Ratio: 0.200, inc: 0.866 std: 1.028\n",
      "Ratio: 0.250, inc: 0.559 std: 0.998\n",
      "Ratio: 0.500, inc: -0.477 std: 1.301\n"
     ]
    }
   ],
   "source": [
    "for ratio in [0.0, 0.125, 0.2, 0.25, 0.5]:\n",
    "    acc_old = results[results[\"pos_emb_ratio\"] == ratio][\"Accuracy_old\"].values\n",
    "    acc_new = results[results[\"pos_emb_ratio\"] == ratio][\"Accuracy_new\"].values\n",
    "    inc = acc_new - acc_old\n",
    "    mean_inc = np.mean(inc)\n",
    "    std_inc = np.std(inc)\n",
    "    print(f\"Ratio: {ratio:.3f}, inc: {mean_inc:.3f} std: {std_inc:.3f}\")"
   ]
  },
  {
   "cell_type": "code",
   "execution_count": 11,
   "id": "1f1d8a40",
   "metadata": {},
   "outputs": [
    {
     "data": {
      "text/plain": [
       "np.float64(1.7775999999999998)"
      ]
     },
     "execution_count": 11,
     "metadata": {},
     "output_type": "execute_result"
    }
   ],
   "source": [
    "results[\"fourier_strong_old\"].values.mean()"
   ]
  },
  {
   "cell_type": "code",
   "execution_count": 12,
   "id": "25633d4f",
   "metadata": {},
   "outputs": [
    {
     "data": {
      "text/plain": [
       "np.float64(-2.0056)"
      ]
     },
     "execution_count": 12,
     "metadata": {},
     "output_type": "execute_result"
    }
   ],
   "source": [
    "np.mean(np.array(no_pos[\"Accuracy_new\"] - no_pos[\"Accuracy_old\"]))"
   ]
  },
  {
   "cell_type": "code",
   "execution_count": 13,
   "id": "44ee2047",
   "metadata": {},
   "outputs": [
    {
     "data": {
      "text/plain": [
       "np.float64(0.8721000000000001)"
      ]
     },
     "execution_count": 13,
     "metadata": {},
     "output_type": "execute_result"
    }
   ],
   "source": [
    "np.mean(np.array(one_eighth[\"Accuracy_new\"] - one_eighth[\"Accuracy_old\"]))"
   ]
  },
  {
   "cell_type": "code",
   "execution_count": 14,
   "id": "2d456feb",
   "metadata": {},
   "outputs": [
    {
     "data": {
      "text/plain": [
       "np.float64(0.5594000000000005)"
      ]
     },
     "execution_count": 14,
     "metadata": {},
     "output_type": "execute_result"
    }
   ],
   "source": [
    "np.mean(np.array(one_fourth[\"Accuracy_new\"] - one_fourth[\"Accuracy_old\"]))\n"
   ]
  },
  {
   "cell_type": "code",
   "execution_count": 15,
   "id": "6f1a1e5a",
   "metadata": {},
   "outputs": [
    {
     "data": {
      "text/plain": [
       "np.float64(-0.4767999999999997)"
      ]
     },
     "execution_count": 15,
     "metadata": {},
     "output_type": "execute_result"
    }
   ],
   "source": [
    "np.mean(np.array(one_half[\"Accuracy_new\"] - one_half[\"Accuracy_old\"]))"
   ]
  },
  {
   "cell_type": "code",
   "execution_count": 16,
   "id": "6afca707",
   "metadata": {},
   "outputs": [
    {
     "data": {
      "text/plain": [
       "np.float64(0.8656000000000006)"
      ]
     },
     "execution_count": 16,
     "metadata": {},
     "output_type": "execute_result"
    }
   ],
   "source": [
    "np.mean(np.array(one_fifth[\"Accuracy_new\"] - one_fifth[\"Accuracy_old\"]))"
   ]
  }
 ],
 "metadata": {
  "kernelspec": {
   "display_name": "ml",
   "language": "python",
   "name": "python3"
  },
  "language_info": {
   "codemirror_mode": {
    "name": "ipython",
    "version": 3
   },
   "file_extension": ".py",
   "mimetype": "text/x-python",
   "name": "python",
   "nbconvert_exporter": "python",
   "pygments_lexer": "ipython3",
   "version": "3.10.16"
  }
 },
 "nbformat": 4,
 "nbformat_minor": 5
}
