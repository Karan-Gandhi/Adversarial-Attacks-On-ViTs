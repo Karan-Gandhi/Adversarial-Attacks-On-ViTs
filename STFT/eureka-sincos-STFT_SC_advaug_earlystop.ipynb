{
 "cells": [
  {
   "cell_type": "code",
   "execution_count": 5,
   "metadata": {},
   "outputs": [
    {
     "name": "stdout",
     "output_type": "stream",
     "text": [
      "Using device: cuda\n"
     ]
    }
   ],
   "source": [
    "import torch\n",
    "import torch.nn as nn\n",
    "import torch.nn.functional as F\n",
    "import torch.optim as optim\n",
    "from torch.utils.data import DataLoader\n",
    "from torchvision import datasets, transforms\n",
    "import math\n",
    "import matplotlib.pyplot as plt\n",
    "import numpy as np\n",
    "from tqdm import tqdm\n",
    "import random\n",
    "import numpy as np\n",
    "import torch\n",
    "import torchvision.transforms.functional as TF\n",
    "\n",
    "# Set random seed for reproducibility\n",
    "seed = 42\n",
    "random.seed(seed)\n",
    "np.random.seed(seed)\n",
    "torch.manual_seed(seed)\n",
    "torch.cuda.manual_seed_all(seed)\n",
    "device = torch.device(\"cuda\" if torch.cuda.is_available() else \"cpu\")\n",
    "print(f\"Using device: {device}\")"
   ]
  },
  {
   "cell_type": "code",
   "execution_count": 6,
   "metadata": {},
   "outputs": [],
   "source": [
    "# Hyperparameters\n",
    "batch_size = 128\n",
    "num_epochs =100\n",
    "early_stopping_patience = 10\n",
    "\n",
    "learning_rate = 3e-4\n",
    "weight_decay = 1e-4\n",
    "\n",
    "image_size = 32\n",
    "patch_size = 4\n",
    "num_classes = 10\n",
    "dim = 256  # Total dimension\n",
    "proj_dim = 256 - 64  # Dimension for patch projections (3d/4)\n",
    "pos_dim = 64  # Dimension for positional encodings (d/4)\n",
    "depth = 6\n",
    "heads = 8\n",
    "mlp_dim = 512\n",
    "channels = 3\n",
    "dropout = 0.1"
   ]
  },
  {
   "cell_type": "code",
   "execution_count": 7,
   "metadata": {},
   "outputs": [],
   "source": [
    "class PhasePerturbation:\n",
    "    def __init__(self, epsilon=0.05):\n",
    "        self.epsilon = epsilon\n",
    "\n",
    "    def __call__(self, img):\n",
    "        if isinstance(img, torch.Tensor):\n",
    "            img_tensor = img\n",
    "        else:\n",
    "            img_tensor = TF.to_tensor(img)\n",
    "        f_transform = torch.fft.fft2(img_tensor)\n",
    "        magnitude = torch.abs(f_transform)\n",
    "        phase = torch.angle(f_transform)\n",
    "        phase_noise = torch.randn_like(phase) * self.epsilon\n",
    "        perturbed_phase = phase + phase_noise\n",
    "        perturbed_fft = magnitude * torch.exp(1j * perturbed_phase)\n",
    "        perturbed_img = torch.fft.ifft2(perturbed_fft).real\n",
    "        return perturbed_img\n",
    "\n",
    "class MagnitudePerturbation:\n",
    "    def __init__(self, epsilon=0.05):\n",
    "        self.epsilon = epsilon\n",
    "\n",
    "    def __call__(self, img):\n",
    "        if isinstance(img, torch.Tensor):\n",
    "            img_tensor = img\n",
    "        else:\n",
    "            img_tensor = TF.to_tensor(img)\n",
    "        f_transform = torch.fft.fft2(img_tensor)\n",
    "        magnitude = torch.abs(f_transform)\n",
    "        phase = torch.angle(f_transform)\n",
    "        magnitude_noise = torch.randn_like(magnitude) * self.epsilon * magnitude\n",
    "        perturbed_magnitude = magnitude + magnitude_noise\n",
    "        perturbed_fft = perturbed_magnitude * torch.exp(1j * phase)\n",
    "        perturbed_img = torch.fft.ifft2(perturbed_fft).real\n",
    "        return perturbed_img\n"
   ]
  },
  {
   "cell_type": "code",
   "execution_count": 8,
   "metadata": {},
   "outputs": [
    {
     "name": "stderr",
     "output_type": "stream",
     "text": [
      "Epoch 1/100: 100%|██████████| 391/391 [00:18<00:00, 21.13it/s, loss=1.96, acc=27.8]\n"
     ]
    },
    {
     "name": "stdout",
     "output_type": "stream",
     "text": [
      "Test Loss: 1.4709, Test Acc: 47.41%\n",
      "Epoch 1/100: Train Loss: 1.9610, Train Acc: 27.83%, Test Loss: 1.4709, Test Acc: 47.41%\n"
     ]
    },
    {
     "name": "stderr",
     "output_type": "stream",
     "text": [
      "Epoch 2/100: 100%|██████████| 391/391 [00:18<00:00, 21.33it/s, loss=1.65, acc=40.4]\n"
     ]
    },
    {
     "name": "stdout",
     "output_type": "stream",
     "text": [
      "Test Loss: 1.3510, Test Acc: 50.81%\n",
      "Epoch 2/100: Train Loss: 1.6537, Train Acc: 40.38%, Test Loss: 1.3510, Test Acc: 50.81%\n"
     ]
    },
    {
     "name": "stderr",
     "output_type": "stream",
     "text": [
      "Epoch 3/100: 100%|██████████| 391/391 [00:18<00:00, 21.37it/s, loss=1.53, acc=44.8]\n"
     ]
    },
    {
     "name": "stdout",
     "output_type": "stream",
     "text": [
      "Test Loss: 1.3401, Test Acc: 51.62%\n",
      "Epoch 3/100: Train Loss: 1.5313, Train Acc: 44.83%, Test Loss: 1.3401, Test Acc: 51.62%\n"
     ]
    },
    {
     "name": "stderr",
     "output_type": "stream",
     "text": [
      "Epoch 4/100: 100%|██████████| 391/391 [00:18<00:00, 21.25it/s, loss=1.47, acc=47.4]\n"
     ]
    },
    {
     "name": "stdout",
     "output_type": "stream",
     "text": [
      "Test Loss: 1.2966, Test Acc: 53.31%\n",
      "Epoch 4/100: Train Loss: 1.4664, Train Acc: 47.44%, Test Loss: 1.2966, Test Acc: 53.31%\n"
     ]
    },
    {
     "name": "stderr",
     "output_type": "stream",
     "text": [
      "Epoch 5/100: 100%|██████████| 391/391 [00:18<00:00, 21.31it/s, loss=1.41, acc=49.6]\n"
     ]
    },
    {
     "name": "stdout",
     "output_type": "stream",
     "text": [
      "Test Loss: 1.1447, Test Acc: 58.67%\n",
      "Epoch 5/100: Train Loss: 1.4092, Train Acc: 49.56%, Test Loss: 1.1447, Test Acc: 58.67%\n"
     ]
    },
    {
     "name": "stderr",
     "output_type": "stream",
     "text": [
      "Epoch 6/100: 100%|██████████| 391/391 [00:18<00:00, 21.25it/s, loss=1.37, acc=50.7]\n"
     ]
    },
    {
     "name": "stdout",
     "output_type": "stream",
     "text": [
      "Test Loss: 1.2386, Test Acc: 54.86%\n",
      "Epoch 6/100: Train Loss: 1.3683, Train Acc: 50.73%, Test Loss: 1.2386, Test Acc: 54.86%\n"
     ]
    },
    {
     "name": "stderr",
     "output_type": "stream",
     "text": [
      "Epoch 7/100: 100%|██████████| 391/391 [00:18<00:00, 21.30it/s, loss=1.32, acc=52.7]\n"
     ]
    },
    {
     "name": "stdout",
     "output_type": "stream",
     "text": [
      "Test Loss: 1.1243, Test Acc: 59.64%\n",
      "Epoch 7/100: Train Loss: 1.3247, Train Acc: 52.70%, Test Loss: 1.1243, Test Acc: 59.64%\n"
     ]
    },
    {
     "name": "stderr",
     "output_type": "stream",
     "text": [
      "Epoch 8/100: 100%|██████████| 391/391 [00:18<00:00, 21.31it/s, loss=1.3, acc=53.6] \n"
     ]
    },
    {
     "name": "stdout",
     "output_type": "stream",
     "text": [
      "Test Loss: 1.1432, Test Acc: 59.34%\n",
      "Epoch 8/100: Train Loss: 1.2994, Train Acc: 53.60%, Test Loss: 1.1432, Test Acc: 59.34%\n"
     ]
    },
    {
     "name": "stderr",
     "output_type": "stream",
     "text": [
      "Epoch 9/100: 100%|██████████| 391/391 [00:18<00:00, 21.21it/s, loss=1.27, acc=54.6]\n"
     ]
    },
    {
     "name": "stdout",
     "output_type": "stream",
     "text": [
      "Test Loss: 1.1531, Test Acc: 58.93%\n",
      "Epoch 9/100: Train Loss: 1.2747, Train Acc: 54.62%, Test Loss: 1.1531, Test Acc: 58.93%\n"
     ]
    },
    {
     "name": "stderr",
     "output_type": "stream",
     "text": [
      "Epoch 10/100: 100%|██████████| 391/391 [00:18<00:00, 21.16it/s, loss=1.25, acc=55.5]\n"
     ]
    },
    {
     "name": "stdout",
     "output_type": "stream",
     "text": [
      "Test Loss: 1.0659, Test Acc: 62.41%\n",
      "Epoch 10/100: Train Loss: 1.2460, Train Acc: 55.52%, Test Loss: 1.0659, Test Acc: 62.41%\n"
     ]
    },
    {
     "name": "stderr",
     "output_type": "stream",
     "text": [
      "Epoch 11/100: 100%|██████████| 391/391 [00:18<00:00, 21.14it/s, loss=1.22, acc=56.7]\n"
     ]
    },
    {
     "name": "stdout",
     "output_type": "stream",
     "text": [
      "Test Loss: 1.0717, Test Acc: 62.14%\n",
      "Epoch 11/100: Train Loss: 1.2180, Train Acc: 56.69%, Test Loss: 1.0717, Test Acc: 62.14%\n"
     ]
    },
    {
     "name": "stderr",
     "output_type": "stream",
     "text": [
      "Epoch 12/100: 100%|██████████| 391/391 [00:18<00:00, 21.18it/s, loss=1.2, acc=57.3] \n"
     ]
    },
    {
     "name": "stdout",
     "output_type": "stream",
     "text": [
      "Test Loss: 1.1196, Test Acc: 60.82%\n",
      "Epoch 12/100: Train Loss: 1.2012, Train Acc: 57.31%, Test Loss: 1.1196, Test Acc: 60.82%\n"
     ]
    },
    {
     "name": "stderr",
     "output_type": "stream",
     "text": [
      "Epoch 13/100: 100%|██████████| 391/391 [00:18<00:00, 21.24it/s, loss=1.18, acc=58.2]\n"
     ]
    },
    {
     "name": "stdout",
     "output_type": "stream",
     "text": [
      "Test Loss: 1.0177, Test Acc: 63.64%\n",
      "Epoch 13/100: Train Loss: 1.1756, Train Acc: 58.15%, Test Loss: 1.0177, Test Acc: 63.64%\n"
     ]
    },
    {
     "name": "stderr",
     "output_type": "stream",
     "text": [
      "Epoch 14/100: 100%|██████████| 391/391 [00:18<00:00, 21.29it/s, loss=1.17, acc=58.5]\n"
     ]
    },
    {
     "name": "stdout",
     "output_type": "stream",
     "text": [
      "Test Loss: 1.0254, Test Acc: 63.86%\n",
      "Epoch 14/100: Train Loss: 1.1654, Train Acc: 58.47%, Test Loss: 1.0254, Test Acc: 63.86%\n"
     ]
    },
    {
     "name": "stderr",
     "output_type": "stream",
     "text": [
      "Epoch 15/100: 100%|██████████| 391/391 [00:18<00:00, 21.12it/s, loss=1.14, acc=59.2]\n"
     ]
    },
    {
     "name": "stdout",
     "output_type": "stream",
     "text": [
      "Test Loss: 1.0908, Test Acc: 61.71%\n",
      "Epoch 15/100: Train Loss: 1.1405, Train Acc: 59.22%, Test Loss: 1.0908, Test Acc: 61.71%\n"
     ]
    },
    {
     "name": "stderr",
     "output_type": "stream",
     "text": [
      "Epoch 16/100: 100%|██████████| 391/391 [00:18<00:00, 21.14it/s, loss=1.13, acc=59.8]\n"
     ]
    },
    {
     "name": "stdout",
     "output_type": "stream",
     "text": [
      "Test Loss: 1.1131, Test Acc: 61.97%\n",
      "Epoch 16/100: Train Loss: 1.1282, Train Acc: 59.84%, Test Loss: 1.1131, Test Acc: 61.97%\n"
     ]
    },
    {
     "name": "stderr",
     "output_type": "stream",
     "text": [
      "Epoch 17/100: 100%|██████████| 391/391 [00:18<00:00, 21.31it/s, loss=1.11, acc=60.7]\n"
     ]
    },
    {
     "name": "stdout",
     "output_type": "stream",
     "text": [
      "Test Loss: 1.0002, Test Acc: 65.18%\n",
      "Epoch 17/100: Train Loss: 1.1052, Train Acc: 60.68%, Test Loss: 1.0002, Test Acc: 65.18%\n"
     ]
    },
    {
     "name": "stderr",
     "output_type": "stream",
     "text": [
      "Epoch 18/100: 100%|██████████| 391/391 [00:23<00:00, 16.52it/s, loss=1.09, acc=61.4]\n"
     ]
    },
    {
     "name": "stdout",
     "output_type": "stream",
     "text": [
      "Test Loss: 0.9907, Test Acc: 65.56%\n",
      "Epoch 18/100: Train Loss: 1.0909, Train Acc: 61.37%, Test Loss: 0.9907, Test Acc: 65.56%\n"
     ]
    },
    {
     "name": "stderr",
     "output_type": "stream",
     "text": [
      "Epoch 19/100: 100%|██████████| 391/391 [00:25<00:00, 15.37it/s, loss=1.07, acc=62]  \n"
     ]
    },
    {
     "name": "stdout",
     "output_type": "stream",
     "text": [
      "Test Loss: 0.9896, Test Acc: 65.99%\n",
      "Epoch 19/100: Train Loss: 1.0749, Train Acc: 62.04%, Test Loss: 0.9896, Test Acc: 65.99%\n"
     ]
    },
    {
     "name": "stderr",
     "output_type": "stream",
     "text": [
      "Epoch 20/100: 100%|██████████| 391/391 [00:22<00:00, 17.59it/s, loss=1.07, acc=62.1]\n"
     ]
    },
    {
     "name": "stdout",
     "output_type": "stream",
     "text": [
      "Test Loss: 0.9835, Test Acc: 66.00%\n",
      "Epoch 20/100: Train Loss: 1.0656, Train Acc: 62.10%, Test Loss: 0.9835, Test Acc: 66.00%\n"
     ]
    },
    {
     "name": "stderr",
     "output_type": "stream",
     "text": [
      "Epoch 21/100: 100%|██████████| 391/391 [00:26<00:00, 14.93it/s, loss=1.04, acc=63.1]\n"
     ]
    },
    {
     "name": "stdout",
     "output_type": "stream",
     "text": [
      "Test Loss: 0.9470, Test Acc: 67.04%\n",
      "Epoch 21/100: Train Loss: 1.0431, Train Acc: 63.12%, Test Loss: 0.9470, Test Acc: 67.04%\n"
     ]
    },
    {
     "name": "stderr",
     "output_type": "stream",
     "text": [
      "Epoch 22/100: 100%|██████████| 391/391 [00:20<00:00, 18.77it/s, loss=1.03, acc=63.5]\n"
     ]
    },
    {
     "name": "stdout",
     "output_type": "stream",
     "text": [
      "Test Loss: 0.9909, Test Acc: 65.44%\n",
      "Epoch 22/100: Train Loss: 1.0264, Train Acc: 63.53%, Test Loss: 0.9909, Test Acc: 65.44%\n"
     ]
    },
    {
     "name": "stderr",
     "output_type": "stream",
     "text": [
      "Epoch 23/100: 100%|██████████| 391/391 [00:21<00:00, 17.94it/s, loss=1.01, acc=63.8]\n"
     ]
    },
    {
     "name": "stdout",
     "output_type": "stream",
     "text": [
      "Test Loss: 0.9075, Test Acc: 68.20%\n",
      "Epoch 23/100: Train Loss: 1.0144, Train Acc: 63.83%, Test Loss: 0.9075, Test Acc: 68.20%\n"
     ]
    },
    {
     "name": "stderr",
     "output_type": "stream",
     "text": [
      "Epoch 24/100: 100%|██████████| 391/391 [00:23<00:00, 16.73it/s, loss=1.01, acc=64.6] \n"
     ]
    },
    {
     "name": "stdout",
     "output_type": "stream",
     "text": [
      "Test Loss: 0.9512, Test Acc: 66.40%\n",
      "Epoch 24/100: Train Loss: 1.0062, Train Acc: 64.58%, Test Loss: 0.9512, Test Acc: 66.40%\n"
     ]
    },
    {
     "name": "stderr",
     "output_type": "stream",
     "text": [
      "Epoch 25/100: 100%|██████████| 391/391 [00:21<00:00, 18.11it/s, loss=0.987, acc=64.8]\n"
     ]
    },
    {
     "name": "stdout",
     "output_type": "stream",
     "text": [
      "Test Loss: 0.9241, Test Acc: 67.69%\n",
      "Epoch 25/100: Train Loss: 0.9874, Train Acc: 64.76%, Test Loss: 0.9241, Test Acc: 67.69%\n"
     ]
    },
    {
     "name": "stderr",
     "output_type": "stream",
     "text": [
      "Epoch 26/100: 100%|██████████| 391/391 [00:23<00:00, 16.97it/s, loss=0.977, acc=65.2]\n"
     ]
    },
    {
     "name": "stdout",
     "output_type": "stream",
     "text": [
      "Test Loss: 0.9082, Test Acc: 68.30%\n",
      "Epoch 26/100: Train Loss: 0.9772, Train Acc: 65.25%, Test Loss: 0.9082, Test Acc: 68.30%\n"
     ]
    },
    {
     "name": "stderr",
     "output_type": "stream",
     "text": [
      "Epoch 27/100:  18%|█▊        | 72/391 [00:04<00:20, 15.59it/s, loss=0.966, acc=65.8]\n"
     ]
    },
    {
     "ename": "KeyboardInterrupt",
     "evalue": "",
     "output_type": "error",
     "traceback": [
      "\u001b[0;31m---------------------------------------------------------------------------\u001b[0m",
      "\u001b[0;31mKeyboardInterrupt\u001b[0m                         Traceback (most recent call last)",
      "Cell \u001b[0;32mIn[8], line 462\u001b[0m\n\u001b[1;32m    459\u001b[0m \u001b[38;5;66;03m# Main training loop\u001b[39;00m\n\u001b[1;32m    460\u001b[0m \u001b[38;5;28;01mfor\u001b[39;00m epoch \u001b[38;5;129;01min\u001b[39;00m \u001b[38;5;28mrange\u001b[39m(num_epochs):\n\u001b[1;32m    461\u001b[0m     \u001b[38;5;66;03m# Train\u001b[39;00m\n\u001b[0;32m--> 462\u001b[0m     train_loss, train_acc \u001b[38;5;241m=\u001b[39m \u001b[43mtrain_one_epoch\u001b[49m\u001b[43m(\u001b[49m\u001b[43mmodel\u001b[49m\u001b[43m,\u001b[49m\u001b[43m \u001b[49m\u001b[43mtrain_loader\u001b[49m\u001b[43m,\u001b[49m\u001b[43m \u001b[49m\u001b[43moptimizer\u001b[49m\u001b[43m,\u001b[49m\u001b[43m \u001b[49m\u001b[43mcriterion\u001b[49m\u001b[43m,\u001b[49m\u001b[43m \u001b[49m\u001b[43mepoch\u001b[49m\u001b[43m)\u001b[49m\n\u001b[1;32m    463\u001b[0m     train_losses\u001b[38;5;241m.\u001b[39mappend(train_loss)\n\u001b[1;32m    464\u001b[0m     train_accs\u001b[38;5;241m.\u001b[39mappend(train_acc)\n",
      "Cell \u001b[0;32mIn[8], line 416\u001b[0m, in \u001b[0;36mtrain_one_epoch\u001b[0;34m(model, train_loader, optimizer, criterion, epoch)\u001b[0m\n\u001b[1;32m    413\u001b[0m optimizer\u001b[38;5;241m.\u001b[39mstep()\n\u001b[1;32m    415\u001b[0m \u001b[38;5;66;03m# Statistics\u001b[39;00m\n\u001b[0;32m--> 416\u001b[0m running_loss \u001b[38;5;241m+\u001b[39m\u001b[38;5;241m=\u001b[39m \u001b[43mloss\u001b[49m\u001b[38;5;241;43m.\u001b[39;49m\u001b[43mitem\u001b[49m\u001b[43m(\u001b[49m\u001b[43m)\u001b[49m\n\u001b[1;32m    417\u001b[0m _, predicted \u001b[38;5;241m=\u001b[39m outputs\u001b[38;5;241m.\u001b[39mmax(\u001b[38;5;241m1\u001b[39m)\n\u001b[1;32m    418\u001b[0m total \u001b[38;5;241m+\u001b[39m\u001b[38;5;241m=\u001b[39m targets\u001b[38;5;241m.\u001b[39msize(\u001b[38;5;241m0\u001b[39m)\n",
      "\u001b[0;31mKeyboardInterrupt\u001b[0m: "
     ]
    }
   ],
   "source": [
    "# Data Loading and Preprocessing\n",
    "# transform_train = transforms.Compose([\n",
    "#     transforms.RandomHorizontalFlip(),\n",
    "#     transforms.RandAugment(num_ops = 2, magnitude = 9),\n",
    "#     transforms.ToTensor(),\n",
    "#     transforms.Normalize((0.4914, 0.4822, 0.4465), (0.2023, 0.1994, 0.2010)),\n",
    "# ])\n",
    "\n",
    "transform_train = transforms.Compose([\n",
    "    transforms.RandAugment(num_ops = 2, magnitude = 9),\n",
    "    transforms.RandomHorizontalFlip(),\n",
    "    transforms.ToTensor(),\n",
    "    transforms.RandomApply([PhasePerturbation(epsilon=0.3)], p=0.5),\n",
    "    transforms.RandomApply([MagnitudePerturbation(epsilon=0.3)], p=0.5),\n",
    "    # transforms.RandomResizedCrop(32, scale=(0.7, 1.0)),\n",
    "    transforms.Lambda(lambda x: x + torch.randn_like(x) * 0.1),  # Normal noise\n",
    "    transforms.Normalize((0.4914, 0.4822, 0.4465), (0.2023, 0.1994, 0.2010))\n",
    "])\n",
    "\n",
    "transform_test = transforms.Compose([\n",
    "    transforms.ToTensor(),\n",
    "    transforms.Normalize((0.4914, 0.4822, 0.4465), (0.2023, 0.1994, 0.2010)),\n",
    "])\n",
    "\n",
    "train_dataset = datasets.CIFAR10(root='./data', train=True, download=True, transform=transform_train)\n",
    "test_dataset = datasets.CIFAR10(root='./data', train=False, download=True, transform=transform_test)\n",
    "\n",
    "train_loader = DataLoader(train_dataset, batch_size=batch_size, shuffle=True, num_workers=4)\n",
    "test_loader = DataLoader(test_dataset, batch_size=batch_size, shuffle=False, num_workers=4)\n",
    "\n",
    "\n",
    "# Sinusoidal Positional Encoding\n",
    "class SinCosPositionalEncoding(nn.Module):\n",
    "    def __init__(self, dim, n_position=200):\n",
    "        super(SinCosPositionalEncoding, self).__init__()\n",
    "        self.dim = dim\n",
    "        \n",
    "        # Create constant positional encoding matrix\n",
    "        pe = torch.zeros(n_position, dim)\n",
    "        position = torch.arange(0, n_position).unsqueeze(1).float()\n",
    "        div_term = torch.exp(torch.arange(0, dim, 2).float() * -(math.log(10000.0) / dim))\n",
    "        \n",
    "        pe[:, 0::2] = torch.sin(position * div_term)\n",
    "        pe[:, 1::2] = torch.cos(position * div_term)\n",
    "        pe = pe.unsqueeze(0)\n",
    "        self.register_buffer('pe', pe)\n",
    "        \n",
    "    def forward(self, x):\n",
    "        return x + self.pe[:, :x.size(1)].to(x.device)\n",
    "\n",
    "# 2D Sinusoidal Positional Encoding for Vision Transformer\n",
    "class SinCos2DPositionalEncoding(nn.Module):\n",
    "    def __init__(self, dim, h=8, w=8):\n",
    "        super(SinCos2DPositionalEncoding, self).__init__()\n",
    "        \n",
    "        # Create 2D positional encoding\n",
    "        pos_enc = torch.zeros(h, w, dim)\n",
    "        \n",
    "        # Separate channels for width and height dimensions\n",
    "        dim_h = dim // 2\n",
    "        dim_w = dim // 2\n",
    "        \n",
    "        # Position indices\n",
    "        y_pos = torch.arange(h).unsqueeze(1).repeat(1, w).reshape(h, w)\n",
    "        x_pos = torch.arange(w).unsqueeze(0).repeat(h, 1).reshape(h, w)\n",
    "        \n",
    "        # Create division term for computing positional encoding values\n",
    "        div_term_h = torch.exp(torch.arange(0, dim_h, 2).float() * -(math.log(10000.0) / dim_h))\n",
    "        div_term_w = torch.exp(torch.arange(0, dim_w, 2).float() * -(math.log(10000.0) / dim_w))\n",
    "        \n",
    "        # Apply sin and cos to odd and even indices\n",
    "        for i in range(0, dim_h, 2):\n",
    "            if i < dim_h:\n",
    "                pos_enc[:, :, i] = torch.sin(y_pos.float() * div_term_h[i//2])\n",
    "                pos_enc[:, :, i+1] = torch.cos(y_pos.float() * div_term_h[i//2])\n",
    "            \n",
    "        for i in range(0, dim_w, 2):\n",
    "            if i + dim_h < dim:\n",
    "                pos_enc[:, :, i+dim_h] = torch.sin(x_pos.float() * div_term_w[i//2])\n",
    "                pos_enc[:, :, i+dim_h+1] = torch.cos(x_pos.float() * div_term_w[i//2])\n",
    "        \n",
    "        # Flatten the positional encoding to match the sequence format (h*w, dim)\n",
    "        pos_enc = pos_enc.reshape(h * w, dim)\n",
    "        \n",
    "        # Add extra position for class token\n",
    "        cls_pos_enc = torch.zeros(1, dim)\n",
    "        pos_enc = torch.cat([cls_pos_enc, pos_enc], dim=0)\n",
    "        \n",
    "        # Register as buffer (persistent but not model parameter)\n",
    "        self.register_buffer('pos_enc', pos_enc.unsqueeze(0))\n",
    "        self.cls_pos_enc = cls_pos_enc.unsqueeze(0)\n",
    "\n",
    "        \n",
    "    def forward(self, x):\n",
    "        return x + self.pos_enc\n",
    "\n",
    "\n",
    "class DFT2DPositionalEncoding(nn.Module):\n",
    "    def __init__(self, patch_size=16, dim=768, add_cls_token=True):\n",
    "        \"\"\"\n",
    "        Args:\n",
    "            patch_size: Size of each square image patch (e.g., 16 for 16x16 patches).\n",
    "            dim: Output embedding dimension (flattened DFT length should match this).\n",
    "            add_cls_token: Whether to reserve space for a class token.\n",
    "        \"\"\"\n",
    "        super().__init__()\n",
    "        self.patch_size = patch_size\n",
    "        self.dim = dim\n",
    "        self.add_cls_token = add_cls_token\n",
    "        \n",
    "        # Ensure the DFT output will match dim (real + imag parts)\n",
    "        self.dft_len = patch_size * patch_size * 2  # real and imag parts\n",
    "        # assert self.dft_len >= dim, f\"DFT vector too small for dim={dim}\"\n",
    "\n",
    "        # Optional projection to dim if needed\n",
    "        self.project = nn.Linear(self.dft_len, dim)\n",
    "\n",
    "    def forward(self, x):\n",
    "        \"\"\"\n",
    "        Args:\n",
    "            x: Tensor of shape (B, N, patch_size*patch_size), where N is number of patches\n",
    "        Returns:\n",
    "            Positional embeddings: (B, N, dim) to be added to patch embeddings\n",
    "        \"\"\"\n",
    "        B, N, P2 = x.shape\n",
    "        P = self.patch_size\n",
    "        assert P2 == P * P, \"Each patch must be flattened 2D (P*P)\"\n",
    "\n",
    "        # Reshape patches to (B*N, P, P)\n",
    "        x = x.view(B * N, P, P)\n",
    "\n",
    "        # Apply 2D FFT\n",
    "        fft = torch.fft.fft2(x)  # (B*N, P, P), complex\n",
    "\n",
    "        # Get real and imaginary parts and flatten\n",
    "        fft_real = fft.real.reshape(B * N, -1)\n",
    "        fft_imag = fft.imag.reshape(B * N, -1)\n",
    "        fft_features = torch.cat([fft_real, fft_imag], dim=-1)  # (B*N, 2*P*P)\n",
    "\n",
    "        # Project to desired dim\n",
    "        pos_emb = self.project(fft_features)  # (B*N, dim)\n",
    "        pos_emb = pos_emb.view(B, N, self.dim)\n",
    "\n",
    "        if self.add_cls_token:\n",
    "            # Add CLS token (same for every position)\n",
    "            cls_token = torch.zeros(B, 1, self.dim, device=x.device)\n",
    "            pos_emb = torch.cat([cls_token, pos_emb], dim=1)\n",
    "\n",
    "        return pos_emb\n",
    "\n",
    "\n",
    "\n",
    "# 2D Sinusoidal Positional Encoding Generator\n",
    "class SinCos2DPositionalEncodingAppend:\n",
    "    def __init__(self, pos_dim, h, w):\n",
    "        \"\"\"\n",
    "        Generate 2D sinusoidal positional encodings for image patches\n",
    "        \n",
    "        Args:\n",
    "            pos_dim: Dimension of the positional encoding vector\n",
    "            h: Number of patches in height dimension\n",
    "            w: Number of patches in width dimension\n",
    "        \"\"\"\n",
    "        self.pos_dim = pos_dim\n",
    "        self.h = h\n",
    "        self.w = w\n",
    "        \n",
    "        # Initialize positional encodings\n",
    "        self.generate_encodings()\n",
    "        \n",
    "    def generate_encodings(self):\n",
    "        # Create position indices\n",
    "        y_pos = torch.arange(self.h).unsqueeze(1).repeat(1, self.w).reshape(self.h, self.w)\n",
    "        x_pos = torch.arange(self.w).unsqueeze(0).repeat(self.h, 1).reshape(self.h, self.w)\n",
    "        \n",
    "        # Split dimensions for height and width\n",
    "        dim_h = self.pos_dim // 2\n",
    "        dim_w = self.pos_dim - dim_h  # In case pos_dim is odd\n",
    "        \n",
    "        # Division terms for computing positional encoding\n",
    "        div_term_h = torch.exp(torch.arange(0, dim_h, 2).float() * -(math.log(10000.0) / dim_h))\n",
    "        div_term_w = torch.exp(torch.arange(0, dim_w, 2).float() * -(math.log(10000.0) / dim_w))\n",
    "        \n",
    "        # Create positional encoding tensor\n",
    "        pos_enc = torch.zeros(self.h, self.w, self.pos_dim)\n",
    "        \n",
    "        # Apply sin and cos to encode height positions\n",
    "        for i in range(0, dim_h, 2):\n",
    "            if i < dim_h:\n",
    "                pos_enc[:, :, i] = torch.sin(y_pos.float() * div_term_h[i//2])\n",
    "                if i + 1 < dim_h:\n",
    "                    pos_enc[:, :, i+1] = torch.cos(y_pos.float() * div_term_h[i//2])\n",
    "        \n",
    "        # Apply sin and cos to encode width positions\n",
    "        for i in range(0, dim_w, 2):\n",
    "            if i + dim_h < self.pos_dim:\n",
    "                pos_enc[:, :, i+dim_h] = torch.sin(x_pos.float() * div_term_w[i//2])\n",
    "                if i + dim_h + 1 < self.pos_dim:\n",
    "                    pos_enc[:, :, i+dim_h+1] = torch.cos(x_pos.float() * div_term_w[i//2])\n",
    "        \n",
    "        # Reshape to (h*w, pos_dim)\n",
    "        self.pos_enc = pos_enc.reshape(self.h * self.w, self.pos_dim)\n",
    "        \n",
    "        # Create a special positional encoding for the class token\n",
    "        self.cls_pos_enc = torch.zeros(1, self.pos_dim)\n",
    "\n",
    "\n",
    "\n",
    "# Multi-head Self Attention\n",
    "class MultiHeadSelfAttention(nn.Module):\n",
    "    def __init__(self, dim, heads=8, dropout=0.1):\n",
    "        super(MultiHeadSelfAttention, self).__init__()\n",
    "        self.heads = heads\n",
    "        self.head_dim = dim // heads\n",
    "        self.scale = self.head_dim ** -0.5\n",
    "        \n",
    "        self.to_qkv = nn.Linear(dim, dim * 3, bias=False)\n",
    "        self.to_out = nn.Linear(dim, dim)\n",
    "        self.dropout = nn.Dropout(dropout)\n",
    "        \n",
    "    def forward(self, x):\n",
    "        b, n, c = x.shape\n",
    "        qkv = self.to_qkv(x).chunk(3, dim=-1)\n",
    "        q, k, v = map(lambda t: t.reshape(b, n, self.heads, self.head_dim).transpose(1, 2), qkv)\n",
    "        \n",
    "        # Attention\n",
    "        dots = torch.matmul(q, k.transpose(-1, -2)) * self.scale\n",
    "        attn = F.softmax(dots, dim=-1)\n",
    "        attn = self.dropout(attn)\n",
    "        \n",
    "        # Apply attention to v\n",
    "        out = torch.matmul(attn, v)\n",
    "        out = out.transpose(1, 2).reshape(b, n, c)\n",
    "        out = self.to_out(out)\n",
    "        return out\n",
    "\n",
    "# MLP Block\n",
    "class MLP(nn.Module):\n",
    "    def __init__(self, dim, hidden_dim, dropout=0.1):\n",
    "        super(MLP, self).__init__()\n",
    "        self.net = nn.Sequential(\n",
    "            nn.Linear(dim, hidden_dim),\n",
    "            nn.GELU(),\n",
    "            nn.Dropout(dropout),\n",
    "            nn.Linear(hidden_dim, dim),\n",
    "            nn.Dropout(dropout)\n",
    "        )\n",
    "    \n",
    "    def forward(self, x):\n",
    "        return self.net(x)\n",
    "\n",
    "# Transformer Encoder Block\n",
    "class TransformerBlock(nn.Module):\n",
    "    def __init__(self, dim, heads, mlp_dim, dropout=0.1):\n",
    "        super(TransformerBlock, self).__init__()\n",
    "        self.norm1 = nn.LayerNorm(dim)\n",
    "        self.attn = MultiHeadSelfAttention(dim, heads, dropout)\n",
    "        self.norm2 = nn.LayerNorm(dim)\n",
    "        self.mlp = MLP(dim, mlp_dim, dropout)\n",
    "        \n",
    "    def forward(self, x):\n",
    "        x = x + self.attn(self.norm1(x))\n",
    "        x = x + self.mlp(self.norm2(x))\n",
    "        return x\n",
    "\n",
    "# Vision Transformer with Concatenated Positional Encodings\n",
    "class ViT(nn.Module):\n",
    "    def __init__(\n",
    "        self, \n",
    "        image_size, \n",
    "        patch_size, \n",
    "        num_classes, \n",
    "        dim, \n",
    "        proj_dim,\n",
    "        pos_dim,\n",
    "        depth, \n",
    "        heads, \n",
    "        mlp_dim, \n",
    "        channels=3, \n",
    "        dropout=0.1\n",
    "    ):\n",
    "        super(ViT, self).__init__()\n",
    "        assert image_size % patch_size == 0, 'Image size must be divisible by patch size'\n",
    "        assert dim == proj_dim + pos_dim, 'proj_dim + pos_dim must equal dim'\n",
    "        \n",
    "        self.num_patches = (image_size // patch_size) ** 2\n",
    "        patch_dim = channels * patch_size ** 2\n",
    "        \n",
    "        self.patch_size = patch_size\n",
    "        self.h_patches = image_size // patch_size\n",
    "        self.w_patches = image_size // patch_size\n",
    "        \n",
    "        # Patch embedding - project to lower dimension (3d/4)\n",
    "        self.to_patch_embedding = nn.Linear(patch_dim, proj_dim)\n",
    "        \n",
    "        # Class token\n",
    "        self.cls_token = nn.Parameter(torch.randn(1, 1, dim))\n",
    "        \n",
    "        # Generate positional encodings\n",
    "        # self.pos_encoder = SinCos2DPositionalEncoding(pos_dim, self.h_patches, self.w_patches)\n",
    "        self.pos_encoder_1 = DFT2DPositionalEncoding(\n",
    "            patch_size=patch_size,\n",
    "            dim=pos_dim//2,\n",
    "            add_cls_token=True\n",
    "        )\n",
    "        self.pos_encoder_2 = SinCos2DPositionalEncoding(pos_dim//2, self.h_patches, self.w_patches)\n",
    "\n",
    "        # Register positional encodings as buffers\n",
    "        # self.register_buffer('patch_pos_enc', self.pos_encoder.pos_enc)\n",
    "        # self.register_buffer('cls_pos_enc', self.pos_encoder.cls_pos_enc)\n",
    "        \n",
    "        # Dropout\n",
    "        self.dropout = nn.Dropout(dropout)\n",
    "        \n",
    "        # Transformer blocks\n",
    "        self.transformer_blocks = nn.ModuleList([\n",
    "            TransformerBlock(dim, heads, mlp_dim, dropout) for _ in range(depth)\n",
    "        ])\n",
    "        \n",
    "        # MLP Head\n",
    "        self.mlp_head = nn.Sequential(\n",
    "            nn.LayerNorm(dim),\n",
    "            nn.Linear(dim, num_classes)\n",
    "        )\n",
    "        \n",
    "    def forward(self, img):\n",
    "        # Get batch size and reshape image into patches\n",
    "        b, c, h, w = img.shape\n",
    "        \n",
    "        # Split image into patches\n",
    "        patches = img.unfold(2, self.patch_size, self.patch_size).unfold(3, self.patch_size, self.patch_size)\n",
    "        patches = patches.contiguous().view(b, c, -1, self.patch_size, self.patch_size)\n",
    "        # patches = patches.permute(0, 2, 1, 3, 4).contiguous().view(b, -1, c * self.patch_size * self.patch_size)\n",
    "        patches = patches.permute(0, 2, 1, 3, 4)\n",
    "\n",
    "        patches_avg = patches.mean(dim=2)\n",
    "        patches_flat = patches_avg.reshape(b, -1, self.patch_size * self.patch_size)\n",
    "        # Project patches to embedding dimension (3d/4)\n",
    "        # x = self.to_patch_embedding(patches)  # (b, num_patches, proj_dim)\n",
    "        patches_proj = patches.reshape(b, -1, c * self.patch_size * self.patch_size)\n",
    "        x = self.to_patch_embedding(patches_proj)\n",
    "        pos_enc_1 = self.pos_encoder_1(patches_flat)[:, 1:, :]  # (B, N, pos_dim)\n",
    "        pos_enc_2 = self.pos_encoder_2.pos_enc[:, 1:, :].repeat(b, 1, 1)  \n",
    "        # print(x.shape)\n",
    "        # Get positional encodings for all patches (d/4)\n",
    "        # pos_enc = self.patch_pos_enc.repeat(b, 1, 1)  # (b, num_patches, pos_dim)\n",
    "        # pos_enc = self.pos_encoder.pos_enc[:, 1:, :].repeat(b, 1, 1)\n",
    "        # pos_enc = self.pos_encoder(patches)[:, 1:, :]\n",
    "        # Concatenate embeddings with positional encodings\n",
    "        x = torch.cat([x, pos_enc_1, pos_enc_2], dim=2)  # (b, num_patches, dim)\n",
    "        \n",
    "        # Add class token (already of full dimension)\n",
    "        cls_tokens = self.cls_token.expand(b, -1, -1)\n",
    "        x = torch.cat((cls_tokens, x), dim=1)  # (b, 1+num_patches, dim)\n",
    "        \n",
    "        # Apply dropout\n",
    "        x = self.dropout(x)\n",
    "        \n",
    "        # Apply transformer blocks\n",
    "        for block in self.transformer_blocks:\n",
    "            x = block(x)\n",
    "        \n",
    "        # Get the class token representation\n",
    "        x = x[:, 0]\n",
    "        \n",
    "        # MLP head\n",
    "        return self.mlp_head(x)\n",
    "\n",
    "# Create model, optimizer, and loss function\n",
    "model = ViT(\n",
    "    image_size=image_size,\n",
    "    patch_size=patch_size,\n",
    "    num_classes=num_classes,\n",
    "    dim=dim,\n",
    "    proj_dim=proj_dim,\n",
    "    pos_dim=pos_dim,\n",
    "    depth=depth,\n",
    "    heads=heads,\n",
    "    mlp_dim=mlp_dim,\n",
    "    channels=channels,\n",
    "    dropout=dropout\n",
    ").to(device)\n",
    "\n",
    "optimizer = optim.AdamW(model.parameters(), lr=learning_rate, weight_decay=weight_decay)\n",
    "scheduler = optim.lr_scheduler.CosineAnnealingLR(optimizer, T_max=num_epochs)\n",
    "criterion = nn.CrossEntropyLoss()\n",
    "\n",
    "# Training loop\n",
    "train_losses = []\n",
    "train_accs = []\n",
    "test_losses = []\n",
    "test_accs = []\n",
    "\n",
    "def train_one_epoch(model, train_loader, optimizer, criterion, epoch):\n",
    "    model.train()\n",
    "    running_loss = 0.0\n",
    "    correct = 0\n",
    "    total = 0\n",
    "    \n",
    "    pbar = tqdm(train_loader, desc=f'Epoch {epoch+1}/{num_epochs}')\n",
    "    for batch_idx, (inputs, targets) in enumerate(pbar):\n",
    "        inputs, targets = inputs.to(device), targets.to(device)\n",
    "        \n",
    "        # Zero gradients\n",
    "        optimizer.zero_grad()\n",
    "        \n",
    "        # Forward pass\n",
    "        outputs = model(inputs)\n",
    "        loss = criterion(outputs, targets)\n",
    "        \n",
    "        # Backward pass and optimize\n",
    "        loss.backward()\n",
    "        optimizer.step()\n",
    "        \n",
    "        # Statistics\n",
    "        running_loss += loss.item()\n",
    "        _, predicted = outputs.max(1)\n",
    "        total += targets.size(0)\n",
    "        correct += predicted.eq(targets).sum().item()\n",
    "        \n",
    "        # Update progress bar\n",
    "        pbar.set_postfix({\n",
    "            'loss': running_loss / (batch_idx + 1),\n",
    "            'acc': 100. * correct / total\n",
    "        })\n",
    "    \n",
    "    train_loss = running_loss / len(train_loader)\n",
    "    train_acc = 100. * correct / total\n",
    "    \n",
    "    return train_loss, train_acc\n",
    "\n",
    "def test(model, test_loader, criterion):\n",
    "    model.eval()\n",
    "    running_loss = 0.0\n",
    "    correct = 0\n",
    "    total = 0\n",
    "    \n",
    "    with torch.no_grad():\n",
    "        for batch_idx, (inputs, targets) in enumerate(test_loader):\n",
    "            inputs, targets = inputs.to(device), targets.to(device)\n",
    "            \n",
    "            # Forward pass\n",
    "            outputs = model(inputs)\n",
    "            loss = criterion(outputs, targets)\n",
    "            \n",
    "            # Statistics\n",
    "            running_loss += loss.item()\n",
    "            _, predicted = outputs.max(1)\n",
    "            total += targets.size(0)\n",
    "            correct += predicted.eq(targets).sum().item()\n",
    "    \n",
    "    test_loss = running_loss / len(test_loader)\n",
    "    test_acc = 100. * correct / total\n",
    "    \n",
    "    print(f'Test Loss: {test_loss:.4f}, Test Acc: {test_acc:.2f}%')\n",
    "    \n",
    "    return test_loss, test_acc\n",
    "\n",
    "# Main training loop\n",
    "for epoch in range(num_epochs):\n",
    "    # Train\n",
    "    train_loss, train_acc = train_one_epoch(model, train_loader, optimizer, criterion, epoch)\n",
    "    train_losses.append(train_loss)\n",
    "    train_accs.append(train_acc)\n",
    "    \n",
    "    # Test\n",
    "    test_loss, test_acc = test(model, test_loader, criterion)\n",
    "    test_losses.append(test_loss)\n",
    "    test_accs.append(test_acc)\n",
    "    \n",
    "    # Update learning rate\n",
    "    scheduler.step()\n",
    "    \n",
    "    print(f'Epoch {epoch+1}/{num_epochs}: Train Loss: {train_loss:.4f}, Train Acc: {train_acc:.2f}%, Test Loss: {test_loss:.4f}, Test Acc: {test_acc:.2f}%')\n",
    "\n",
    "# Plot training and testing curves\n",
    "plt.figure(figsize=(12, 5))\n",
    "\n",
    "plt.subplot(1, 2, 1)\n",
    "plt.plot(train_losses, label='Train Loss')\n",
    "plt.plot(test_losses, label='Test Loss')\n",
    "plt.xlabel('Epoch')\n",
    "plt.ylabel('Loss')\n",
    "plt.legend()\n",
    "plt.title('Loss Curves')\n",
    "\n",
    "plt.subplot(1, 2, 2)\n",
    "plt.plot(train_accs, label='Train Accuracy')\n",
    "plt.plot(test_accs, label='Test Accuracy')\n",
    "plt.xlabel('Epoch')\n",
    "plt.ylabel('Accuracy (%)')\n",
    "plt.legend()\n",
    "plt.title('Accuracy Curves')\n",
    "\n",
    "plt.tight_layout()\n",
    "plt.savefig('vit_training_curves.png')\n",
    "plt.show()\n",
    "\n",
    "# Save the model\n",
    "# torch.save(model.state_dict(), f'vit_cifar10_1_3-stft-sc-heavyaug-{num_epochs}ep.pth')\n",
    "print(f'Training complete. Model saved to vit_cifar10_1_3-stft-sc-heavyaug-{num_epochs}ep.pth')"
   ]
  },
  {
   "cell_type": "code",
   "execution_count": 9,
   "metadata": {},
   "outputs": [],
   "source": [
    "import torch\n",
    "import torch.nn as nn\n",
    "import numpy as np\n",
    "import torch.fft as fft\n",
    "\n",
    "class FrequencyPixelAttacks(nn.Module):\n",
    "    \"\"\"\n",
    "    A PyTorch transform to apply various frequency-based and pixel-based attacks.\n",
    "    \"\"\"\n",
    "    def __init__(self, attack_type='phase', epsilon=0.1, frequency_radius=0.1, num_pixels=100, noise_std=0.05, seed=None):\n",
    "        super(FrequencyPixelAttacks, self).__init__()\n",
    "        self.attack_type = attack_type\n",
    "        self.epsilon = epsilon\n",
    "        self.frequency_radius = frequency_radius\n",
    "        self.num_pixels = num_pixels\n",
    "        self.noise_std = noise_std\n",
    "        if seed is not None:\n",
    "            torch.manual_seed(seed)\n",
    "            np.random.seed(seed)\n",
    "    \n",
    "    def forward(self, img):\n",
    "        perturbed_img = img.clone().detach()\n",
    "        if self.attack_type == 'phase':\n",
    "            perturbed_img = self._phase_attack(perturbed_img)\n",
    "        elif self.attack_type == 'magnitude':\n",
    "            perturbed_img = self._magnitude_attack(perturbed_img)\n",
    "        elif self.attack_type == 'low_freq':\n",
    "            perturbed_img = self._low_frequency_attack(perturbed_img)\n",
    "        elif self.attack_type == 'high_freq':\n",
    "            perturbed_img = self._high_frequency_attack(perturbed_img)\n",
    "        elif self.attack_type == 'pixel':\n",
    "            perturbed_img = self._pixel_attack(perturbed_img)\n",
    "        elif self.attack_type == 'normal':\n",
    "            perturbed_img = self._normal_noise_attack(perturbed_img)\n",
    "        else:\n",
    "            raise ValueError(f\"Unknown attack type: {self.attack_type}\")\n",
    "        return torch.clamp(perturbed_img, 0, 1)\n",
    "    \n",
    "    def _phase_attack(self, img):\n",
    "        batch, channels, height, width = img.shape\n",
    "        perturbed_img = torch.zeros_like(img)\n",
    "        for c in range(channels):\n",
    "            f_transform = fft.fftshift(fft.fft2(img[:, c]))\n",
    "            magnitude = torch.abs(f_transform)\n",
    "            phase = torch.angle(f_transform)\n",
    "            phase_noise = torch.randn_like(phase) * self.epsilon\n",
    "            perturbed_phase = phase + phase_noise\n",
    "            f_transform_perturbed = magnitude * torch.exp(1j * perturbed_phase)\n",
    "            img_perturbed = fft.ifft2(fft.ifftshift(f_transform_perturbed)).real\n",
    "            perturbed_img[:, c] = img_perturbed\n",
    "        return perturbed_img\n",
    "    \n",
    "    def _magnitude_attack(self, img):\n",
    "        batch, channels, height, width = img.shape\n",
    "        perturbed_img = torch.zeros_like(img)\n",
    "        for c in range(channels):\n",
    "            f_transform = fft.fftshift(fft.fft2(img[:, c]))\n",
    "            magnitude = torch.abs(f_transform)\n",
    "            phase = torch.angle(f_transform)\n",
    "            magnitude_noise = torch.randn_like(magnitude) * self.epsilon * magnitude\n",
    "            perturbed_magnitude = magnitude + magnitude_noise\n",
    "            f_transform_perturbed = perturbed_magnitude * torch.exp(1j * phase)\n",
    "            img_perturbed = fft.ifft2(fft.ifftshift(f_transform_perturbed)).real\n",
    "            perturbed_img[:, c] = img_perturbed\n",
    "        return perturbed_img\n",
    "    \n",
    "    def _create_frequency_mask(self, height, width, is_low_freq=True):\n",
    "        y_indices, x_indices = torch.meshgrid(torch.arange(height), torch.arange(width), indexing='ij')\n",
    "        y_indices = y_indices - height // 2\n",
    "        x_indices = x_indices - width // 2\n",
    "        distance = torch.sqrt(y_indices**2 + x_indices**2).float()\n",
    "        max_distance = torch.sqrt(torch.tensor(height**2 + width**2, dtype=torch.float32))\n",
    "        distance /= max_distance\n",
    "        return (distance <= self.frequency_radius).float() if is_low_freq else (distance >= (1 - self.frequency_radius)).float()\n",
    "    \n",
    "    def _low_frequency_attack(self, img):\n",
    "        batch, channels, height, width = img.shape\n",
    "        perturbed_img = torch.zeros_like(img)\n",
    "        mask = self._create_frequency_mask(height, width, is_low_freq=True).to(img.device)\n",
    "        for c in range(channels):\n",
    "            f_transform = fft.fftshift(fft.fft2(img[:, c]))\n",
    "            noise = (torch.randn_like(f_transform.real) + 1j * torch.randn_like(f_transform.imag)) * self.epsilon\n",
    "            f_transform_perturbed = f_transform + noise * mask\n",
    "            img_perturbed = fft.ifft2(fft.ifftshift(f_transform_perturbed)).real\n",
    "            perturbed_img[:, c] = img_perturbed\n",
    "        return perturbed_img\n",
    "    \n",
    "    def _high_frequency_attack(self, img):\n",
    "        batch, channels, height, width = img.shape\n",
    "        perturbed_img = torch.zeros_like(img)\n",
    "        mask = self._create_frequency_mask(height, width, is_low_freq=False).to(img.device)\n",
    "        for c in range(channels):\n",
    "            f_transform = fft.fftshift(fft.fft2(img[:, c]))\n",
    "            noise = (torch.randn_like(f_transform.real) + 1j * torch.randn_like(f_transform.imag)) * self.epsilon\n",
    "            f_transform_perturbed = f_transform + noise * mask\n",
    "            img_perturbed = fft.ifft2(fft.ifftshift(f_transform_perturbed)).real\n",
    "            perturbed_img[:, c] = img_perturbed\n",
    "        return perturbed_img\n",
    "    \n",
    "    def _pixel_attack(self, img):\n",
    "        batch, channels, height, width = img.shape\n",
    "        perturbed_img = img.clone()\n",
    "        num_pixels = min(self.num_pixels, height * width)\n",
    "        pixel_indices = torch.randint(0, height * width, (batch, num_pixels))\n",
    "        y_indices, x_indices = pixel_indices // width, pixel_indices % width\n",
    "        for b in range(batch):\n",
    "            for c in range(channels):\n",
    "                for i in range(num_pixels):\n",
    "                    perturbed_img[b, c, y_indices[b, i], x_indices[b, i]] += torch.randn(1).item() * self.epsilon\n",
    "        return perturbed_img\n",
    "    \n",
    "    def _normal_noise_attack(self, img):\n",
    "        noise = torch.randn_like(img) * self.noise_std\n",
    "        return img + noise\n",
    "\n",
    "def display_image(original, adversarial):\n",
    "    \"\"\"Display last batch of original and adversarial images.\"\"\"\n",
    "    fig, axes = plt.subplots(2, len(original), figsize=(16, 10))\n",
    "    \n",
    "    for i in range(len(original)):\n",
    "        orig_img = original[i].permute(1, 2, 0).cpu().numpy()\n",
    "        adv_img = adversarial[i].permute(1, 2, 0).cpu().numpy()\n",
    "        \n",
    "        orig_img = np.clip(orig_img, 0, 1)\n",
    "        adv_img = np.clip(adv_img, 0, 1)\n",
    "\n",
    "        \n",
    "        axes[0, i].imshow(orig_img)\n",
    "        axes[0, i].axis(\"off\")\n",
    "\n",
    "        axes[1, i].imshow(adv_img)\n",
    "        axes[1, i].axis(\"off\")\n",
    "\n",
    "    plt.show()\n",
    "\n",
    "\n",
    "def train_adversary(model):\n",
    "    device = torch.device(\"cuda\" if torch.cuda.is_available() else \"cpu\")\n",
    "\n",
    "    # 1. Freeze the model (so only adversary parameters are updated)\n",
    "    for param in model.parameters():\n",
    "        param.requires_grad = False\n",
    "    model.eval()\n",
    "    \n",
    "    # 2. Evaluate adversarial attack on test data\n",
    "    # _, test_loader, _ = load_dataset(\n",
    "    #     dataset_name='cifar10', \n",
    "    #     batch_size=1, \n",
    "    #     img_size=32\n",
    "    # )\n",
    "    test_dataset = datasets.CIFAR10(root='./data', train=False, download=True, transform=transform_test)\n",
    "    \n",
    "    test_loader = DataLoader(test_dataset, batch_size=1, shuffle=False, num_workers=4)\n",
    "    \n",
    "    # test_loader = load_pets_test(batch_size=1)  # Load test dataset\n",
    "    test_dataset = test_loader.dataset  # Get dataset without batching\n",
    "\n",
    "    attacks = [\n",
    "        {'attack_type': 'phase', 'epsilon': 0.1, 'frequency_radius': 0.1, 'num_pixels': 100, 'noise_std': 0.05, 'name': 'phase_weak'},\n",
    "        {'attack_type': 'phase', 'epsilon': 0.5, 'frequency_radius': 0.1, 'num_pixels': 100, 'noise_std': 0.05, 'name': 'phase_strong'},\n",
    "        {'attack_type': 'magnitude', 'epsilon': 0.1, 'frequency_radius': 0.1, 'num_pixels': 100, 'noise_std': 0.05, 'name': 'magnitude_weak'},\n",
    "        {'attack_type': 'magnitude', 'epsilon': 0.5, 'frequency_radius': 0.1, 'num_pixels': 100, 'noise_std': 0.05, 'name': 'magnitude_strong'},\n",
    "        # {'attack_type': 'low_freq', 'epsilon': 0.2, 'frequency_radius': 0.1, 'num_pixels': 100, 'noise_std': 0.05, 'name': 'low_freq_small_radius'},\n",
    "        # {'attack_type': 'low_freq', 'epsilon': 0.2, 'frequency_radius': 0.3, 'num_pixels': 100, 'noise_std': 0.05, 'name': 'low_freq_large_radius'},\n",
    "        # {'attack_type': 'high_freq', 'epsilon': 0.2, 'frequency_radius': 0.1, 'num_pixels': 100, 'noise_std': 0.05, 'name': 'high_freq_small_radius'},\n",
    "        # {'attack_type': 'high_freq', 'epsilon': 0.2, 'frequency_radius': 0.3, 'num_pixels': 100, 'noise_std': 0.05, 'name': 'high_freq_large_radius'},\n",
    "        {'attack_type': 'normal', 'epsilon': 0.1,  'frequency_radius': 0.1, 'num_pixels': 100, 'noise_std': 0.05, 'name': 'normal_weak'},\n",
    "        {'attack_type': 'normal', 'epsilon': 0.1, 'frequency_radius': 0.1, 'num_pixels': 100, 'noise_std': 0.2, 'name': 'normal_strong'},\n",
    "        # {'attack_type': 'pixel', 'epsilon': 0.5, 'frequency_radius': 0.1, 'num_pixels': 100, 'noise_std': 0.05, 'name': 'pixel_few'},\n",
    "        # {'attack_type': 'pixel', 'epsilon': 0.5, 'frequency_radius': 0.1, 'num_pixels': 1000, 'noise_std': 0.05, 'name': 'pixel_many'}\n",
    "    ]\n",
    "\n",
    "    for attack in attacks:\n",
    "        total_correct_original = 0\n",
    "        total_correct_perturbed = 0\n",
    "        total_samples = 0\n",
    "        last_batch_images = []\n",
    "        last_batch_perturbed = []\n",
    "        \n",
    "        adversary = FrequencyPixelAttacks(attack[\"attack_type\"], attack[\"epsilon\"], attack[\"frequency_radius\"], attack[\"num_pixels\"], attack[\"noise_std\"])\n",
    "\n",
    "        # Process each image individually\n",
    "        for i in range(len(test_dataset)):\n",
    "            image, label = test_dataset[i]  # Get single image and label\n",
    "            image, label = image.to(device).unsqueeze(0), torch.tensor([label]).to(device)  # Add batch dimension\n",
    "\n",
    "            # image = image.squeeze(0)  # Removes the batch dimension\n",
    "            perturbed_image = adversary(image)\n",
    "            \n",
    "            with torch.no_grad():\n",
    "                y_hat = model(image)\n",
    "                y_pred = model(perturbed_image)\n",
    "            \n",
    "            pred_original = torch.argmax(y_hat, dim=1)\n",
    "            pred_perturbed = torch.argmax(y_pred, dim=1)\n",
    "            \n",
    "            total_correct_original += (pred_original == label).item()\n",
    "            total_correct_perturbed += (pred_perturbed == label).item()\n",
    "            total_samples += 1  # Each image is processed individually\n",
    "            \n",
    "            if i < 5:  # Store only a few images for visualization\n",
    "                last_batch_images.append(image.cpu().squeeze(0))\n",
    "                last_batch_perturbed.append(perturbed_image.cpu().squeeze(0))\n",
    "\n",
    "        original_acc = (total_correct_original / total_samples) * 100\n",
    "        perturbed_acc = (total_correct_perturbed / total_samples) * 100\n",
    "    \n",
    "        print(f\"Attack: {attack['name']}\")\n",
    "        print(\"Total Samples: \", total_samples)\n",
    "        print(f\"Accuracy on Original Images: {original_acc:.2f}%\")\n",
    "        print(f\"Accuracy on Perturbed Images: {perturbed_acc:.2f}%\")\n",
    "\n",
    "        display_image(last_batch_images, last_batch_perturbed)"
   ]
  },
  {
   "cell_type": "code",
   "execution_count": 10,
   "metadata": {
    "execution": {
     "iopub.execute_input": "2025-04-01T14:40:29.029414Z",
     "iopub.status.busy": "2025-04-01T14:40:29.029120Z",
     "iopub.status.idle": "2025-04-01T14:53:38.128938Z",
     "shell.execute_reply": "2025-04-01T14:53:38.128191Z",
     "shell.execute_reply.started": "2025-04-01T14:40:29.029393Z"
    },
    "trusted": true
   },
   "outputs": [
    {
     "name": "stdout",
     "output_type": "stream",
     "text": [
      "Attack: phase_weak\n",
      "Total Samples:  10000\n",
      "Accuracy on Original Images: 68.61%\n",
      "Accuracy on Perturbed Images: 25.05%\n"
     ]
    },
    {
     "data": {
      "image/png": "[encoded data removed]",
      "text/plain": [
       "<Figure size 1600x1000 with 10 Axes>"
      ]
     },
     "metadata": {},
     "output_type": "display_data"
    },
    {
     "name": "stdout",
     "output_type": "stream",
     "text": [
      "Attack: phase_strong\n",
      "Total Samples:  10000\n",
      "Accuracy on Original Images: 68.61%\n",
      "Accuracy on Perturbed Images: 22.61%\n"
     ]
    },
    {
     "data": {
      "image/png": "[encoded data removed]",
      "text/plain": [
       "<Figure size 1600x1000 with 10 Axes>"
      ]
     },
     "metadata": {},
     "output_type": "display_data"
    },
    {
     "name": "stdout",
     "output_type": "stream",
     "text": [
      "Attack: magnitude_weak\n",
      "Total Samples:  10000\n",
      "Accuracy on Original Images: 68.61%\n",
      "Accuracy on Perturbed Images: 25.03%\n"
     ]
    },
    {
     "data": {
      "image/png": "[encoded data removed]",
      "text/plain": [
       "<Figure size 1600x1000 with 10 Axes>"
      ]
     },
     "metadata": {},
     "output_type": "display_data"
    },
    {
     "ename": "KeyboardInterrupt",
     "evalue": "",
     "output_type": "error",
     "traceback": [
      "\u001b[0;31m---------------------------------------------------------------------------\u001b[0m",
      "\u001b[0;31mKeyboardInterrupt\u001b[0m                         Traceback (most recent call last)",
      "Cell \u001b[0;32mIn[10], line 1\u001b[0m\n\u001b[0;32m----> 1\u001b[0m \u001b[43mtrain_adversary\u001b[49m\u001b[43m(\u001b[49m\u001b[43mmodel\u001b[49m\u001b[43m)\u001b[49m\n",
      "Cell \u001b[0;32mIn[9], line 191\u001b[0m, in \u001b[0;36mtrain_adversary\u001b[0;34m(model)\u001b[0m\n\u001b[1;32m    188\u001b[0m perturbed_image \u001b[38;5;241m=\u001b[39m adversary(image)\n\u001b[1;32m    190\u001b[0m \u001b[38;5;28;01mwith\u001b[39;00m torch\u001b[38;5;241m.\u001b[39mno_grad():\n\u001b[0;32m--> 191\u001b[0m     y_hat \u001b[38;5;241m=\u001b[39m \u001b[43mmodel\u001b[49m\u001b[43m(\u001b[49m\u001b[43mimage\u001b[49m\u001b[43m)\u001b[49m\n\u001b[1;32m    192\u001b[0m     y_pred \u001b[38;5;241m=\u001b[39m model(perturbed_image)\n\u001b[1;32m    194\u001b[0m pred_original \u001b[38;5;241m=\u001b[39m torch\u001b[38;5;241m.\u001b[39margmax(y_hat, dim\u001b[38;5;241m=\u001b[39m\u001b[38;5;241m1\u001b[39m)\n",
      "File \u001b[0;32m~/miniconda/envs/ml/lib/python3.10/site-packages/torch/nn/modules/module.py:1739\u001b[0m, in \u001b[0;36mModule._wrapped_call_impl\u001b[0;34m(self, *args, **kwargs)\u001b[0m\n\u001b[1;32m   1737\u001b[0m     \u001b[38;5;28;01mreturn\u001b[39;00m \u001b[38;5;28mself\u001b[39m\u001b[38;5;241m.\u001b[39m_compiled_call_impl(\u001b[38;5;241m*\u001b[39margs, \u001b[38;5;241m*\u001b[39m\u001b[38;5;241m*\u001b[39mkwargs)  \u001b[38;5;66;03m# type: ignore[misc]\u001b[39;00m\n\u001b[1;32m   1738\u001b[0m \u001b[38;5;28;01melse\u001b[39;00m:\n\u001b[0;32m-> 1739\u001b[0m     \u001b[38;5;28;01mreturn\u001b[39;00m \u001b[38;5;28;43mself\u001b[39;49m\u001b[38;5;241;43m.\u001b[39;49m\u001b[43m_call_impl\u001b[49m\u001b[43m(\u001b[49m\u001b[38;5;241;43m*\u001b[39;49m\u001b[43margs\u001b[49m\u001b[43m,\u001b[49m\u001b[43m \u001b[49m\u001b[38;5;241;43m*\u001b[39;49m\u001b[38;5;241;43m*\u001b[39;49m\u001b[43mkwargs\u001b[49m\u001b[43m)\u001b[49m\n",
      "File \u001b[0;32m~/miniconda/envs/ml/lib/python3.10/site-packages/torch/nn/modules/module.py:1750\u001b[0m, in \u001b[0;36mModule._call_impl\u001b[0;34m(self, *args, **kwargs)\u001b[0m\n\u001b[1;32m   1745\u001b[0m \u001b[38;5;66;03m# If we don't have any hooks, we want to skip the rest of the logic in\u001b[39;00m\n\u001b[1;32m   1746\u001b[0m \u001b[38;5;66;03m# this function, and just call forward.\u001b[39;00m\n\u001b[1;32m   1747\u001b[0m \u001b[38;5;28;01mif\u001b[39;00m \u001b[38;5;129;01mnot\u001b[39;00m (\u001b[38;5;28mself\u001b[39m\u001b[38;5;241m.\u001b[39m_backward_hooks \u001b[38;5;129;01mor\u001b[39;00m \u001b[38;5;28mself\u001b[39m\u001b[38;5;241m.\u001b[39m_backward_pre_hooks \u001b[38;5;129;01mor\u001b[39;00m \u001b[38;5;28mself\u001b[39m\u001b[38;5;241m.\u001b[39m_forward_hooks \u001b[38;5;129;01mor\u001b[39;00m \u001b[38;5;28mself\u001b[39m\u001b[38;5;241m.\u001b[39m_forward_pre_hooks\n\u001b[1;32m   1748\u001b[0m         \u001b[38;5;129;01mor\u001b[39;00m _global_backward_pre_hooks \u001b[38;5;129;01mor\u001b[39;00m _global_backward_hooks\n\u001b[1;32m   1749\u001b[0m         \u001b[38;5;129;01mor\u001b[39;00m _global_forward_hooks \u001b[38;5;129;01mor\u001b[39;00m _global_forward_pre_hooks):\n\u001b[0;32m-> 1750\u001b[0m     \u001b[38;5;28;01mreturn\u001b[39;00m \u001b[43mforward_call\u001b[49m\u001b[43m(\u001b[49m\u001b[38;5;241;43m*\u001b[39;49m\u001b[43margs\u001b[49m\u001b[43m,\u001b[49m\u001b[43m \u001b[49m\u001b[38;5;241;43m*\u001b[39;49m\u001b[38;5;241;43m*\u001b[39;49m\u001b[43mkwargs\u001b[49m\u001b[43m)\u001b[49m\n\u001b[1;32m   1752\u001b[0m result \u001b[38;5;241m=\u001b[39m \u001b[38;5;28;01mNone\u001b[39;00m\n\u001b[1;32m   1753\u001b[0m called_always_called_hooks \u001b[38;5;241m=\u001b[39m \u001b[38;5;28mset\u001b[39m()\n",
      "Cell \u001b[0;32mIn[8], line 361\u001b[0m, in \u001b[0;36mViT.forward\u001b[0;34m(self, img)\u001b[0m\n\u001b[1;32m    359\u001b[0m \u001b[38;5;66;03m# Apply transformer blocks\u001b[39;00m\n\u001b[1;32m    360\u001b[0m \u001b[38;5;28;01mfor\u001b[39;00m block \u001b[38;5;129;01min\u001b[39;00m \u001b[38;5;28mself\u001b[39m\u001b[38;5;241m.\u001b[39mtransformer_blocks:\n\u001b[0;32m--> 361\u001b[0m     x \u001b[38;5;241m=\u001b[39m \u001b[43mblock\u001b[49m\u001b[43m(\u001b[49m\u001b[43mx\u001b[49m\u001b[43m)\u001b[49m\n\u001b[1;32m    363\u001b[0m \u001b[38;5;66;03m# Get the class token representation\u001b[39;00m\n\u001b[1;32m    364\u001b[0m x \u001b[38;5;241m=\u001b[39m x[:, \u001b[38;5;241m0\u001b[39m]\n",
      "File \u001b[0;32m~/miniconda/envs/ml/lib/python3.10/site-packages/torch/nn/modules/module.py:1739\u001b[0m, in \u001b[0;36mModule._wrapped_call_impl\u001b[0;34m(self, *args, **kwargs)\u001b[0m\n\u001b[1;32m   1737\u001b[0m     \u001b[38;5;28;01mreturn\u001b[39;00m \u001b[38;5;28mself\u001b[39m\u001b[38;5;241m.\u001b[39m_compiled_call_impl(\u001b[38;5;241m*\u001b[39margs, \u001b[38;5;241m*\u001b[39m\u001b[38;5;241m*\u001b[39mkwargs)  \u001b[38;5;66;03m# type: ignore[misc]\u001b[39;00m\n\u001b[1;32m   1738\u001b[0m \u001b[38;5;28;01melse\u001b[39;00m:\n\u001b[0;32m-> 1739\u001b[0m     \u001b[38;5;28;01mreturn\u001b[39;00m \u001b[38;5;28;43mself\u001b[39;49m\u001b[38;5;241;43m.\u001b[39;49m\u001b[43m_call_impl\u001b[49m\u001b[43m(\u001b[49m\u001b[38;5;241;43m*\u001b[39;49m\u001b[43margs\u001b[49m\u001b[43m,\u001b[49m\u001b[43m \u001b[49m\u001b[38;5;241;43m*\u001b[39;49m\u001b[38;5;241;43m*\u001b[39;49m\u001b[43mkwargs\u001b[49m\u001b[43m)\u001b[49m\n",
      "File \u001b[0;32m~/miniconda/envs/ml/lib/python3.10/site-packages/torch/nn/modules/module.py:1750\u001b[0m, in \u001b[0;36mModule._call_impl\u001b[0;34m(self, *args, **kwargs)\u001b[0m\n\u001b[1;32m   1745\u001b[0m \u001b[38;5;66;03m# If we don't have any hooks, we want to skip the rest of the logic in\u001b[39;00m\n\u001b[1;32m   1746\u001b[0m \u001b[38;5;66;03m# this function, and just call forward.\u001b[39;00m\n\u001b[1;32m   1747\u001b[0m \u001b[38;5;28;01mif\u001b[39;00m \u001b[38;5;129;01mnot\u001b[39;00m (\u001b[38;5;28mself\u001b[39m\u001b[38;5;241m.\u001b[39m_backward_hooks \u001b[38;5;129;01mor\u001b[39;00m \u001b[38;5;28mself\u001b[39m\u001b[38;5;241m.\u001b[39m_backward_pre_hooks \u001b[38;5;129;01mor\u001b[39;00m \u001b[38;5;28mself\u001b[39m\u001b[38;5;241m.\u001b[39m_forward_hooks \u001b[38;5;129;01mor\u001b[39;00m \u001b[38;5;28mself\u001b[39m\u001b[38;5;241m.\u001b[39m_forward_pre_hooks\n\u001b[1;32m   1748\u001b[0m         \u001b[38;5;129;01mor\u001b[39;00m _global_backward_pre_hooks \u001b[38;5;129;01mor\u001b[39;00m _global_backward_hooks\n\u001b[1;32m   1749\u001b[0m         \u001b[38;5;129;01mor\u001b[39;00m _global_forward_hooks \u001b[38;5;129;01mor\u001b[39;00m _global_forward_pre_hooks):\n\u001b[0;32m-> 1750\u001b[0m     \u001b[38;5;28;01mreturn\u001b[39;00m \u001b[43mforward_call\u001b[49m\u001b[43m(\u001b[49m\u001b[38;5;241;43m*\u001b[39;49m\u001b[43margs\u001b[49m\u001b[43m,\u001b[49m\u001b[43m \u001b[49m\u001b[38;5;241;43m*\u001b[39;49m\u001b[38;5;241;43m*\u001b[39;49m\u001b[43mkwargs\u001b[49m\u001b[43m)\u001b[49m\n\u001b[1;32m   1752\u001b[0m result \u001b[38;5;241m=\u001b[39m \u001b[38;5;28;01mNone\u001b[39;00m\n\u001b[1;32m   1753\u001b[0m called_always_called_hooks \u001b[38;5;241m=\u001b[39m \u001b[38;5;28mset\u001b[39m()\n",
      "Cell \u001b[0;32mIn[8], line 263\u001b[0m, in \u001b[0;36mTransformerBlock.forward\u001b[0;34m(self, x)\u001b[0m\n\u001b[1;32m    261\u001b[0m \u001b[38;5;28;01mdef\u001b[39;00m \u001b[38;5;21mforward\u001b[39m(\u001b[38;5;28mself\u001b[39m, x):\n\u001b[1;32m    262\u001b[0m     x \u001b[38;5;241m=\u001b[39m x \u001b[38;5;241m+\u001b[39m \u001b[38;5;28mself\u001b[39m\u001b[38;5;241m.\u001b[39mattn(\u001b[38;5;28mself\u001b[39m\u001b[38;5;241m.\u001b[39mnorm1(x))\n\u001b[0;32m--> 263\u001b[0m     x \u001b[38;5;241m=\u001b[39m x \u001b[38;5;241m+\u001b[39m \u001b[38;5;28;43mself\u001b[39;49m\u001b[38;5;241;43m.\u001b[39;49m\u001b[43mmlp\u001b[49m\u001b[43m(\u001b[49m\u001b[38;5;28;43mself\u001b[39;49m\u001b[38;5;241;43m.\u001b[39;49m\u001b[43mnorm2\u001b[49m\u001b[43m(\u001b[49m\u001b[43mx\u001b[49m\u001b[43m)\u001b[49m\u001b[43m)\u001b[49m\n\u001b[1;32m    264\u001b[0m     \u001b[38;5;28;01mreturn\u001b[39;00m x\n",
      "File \u001b[0;32m~/miniconda/envs/ml/lib/python3.10/site-packages/torch/nn/modules/module.py:1739\u001b[0m, in \u001b[0;36mModule._wrapped_call_impl\u001b[0;34m(self, *args, **kwargs)\u001b[0m\n\u001b[1;32m   1737\u001b[0m     \u001b[38;5;28;01mreturn\u001b[39;00m \u001b[38;5;28mself\u001b[39m\u001b[38;5;241m.\u001b[39m_compiled_call_impl(\u001b[38;5;241m*\u001b[39margs, \u001b[38;5;241m*\u001b[39m\u001b[38;5;241m*\u001b[39mkwargs)  \u001b[38;5;66;03m# type: ignore[misc]\u001b[39;00m\n\u001b[1;32m   1738\u001b[0m \u001b[38;5;28;01melse\u001b[39;00m:\n\u001b[0;32m-> 1739\u001b[0m     \u001b[38;5;28;01mreturn\u001b[39;00m \u001b[38;5;28;43mself\u001b[39;49m\u001b[38;5;241;43m.\u001b[39;49m\u001b[43m_call_impl\u001b[49m\u001b[43m(\u001b[49m\u001b[38;5;241;43m*\u001b[39;49m\u001b[43margs\u001b[49m\u001b[43m,\u001b[49m\u001b[43m \u001b[49m\u001b[38;5;241;43m*\u001b[39;49m\u001b[38;5;241;43m*\u001b[39;49m\u001b[43mkwargs\u001b[49m\u001b[43m)\u001b[49m\n",
      "File \u001b[0;32m~/miniconda/envs/ml/lib/python3.10/site-packages/torch/nn/modules/module.py:1750\u001b[0m, in \u001b[0;36mModule._call_impl\u001b[0;34m(self, *args, **kwargs)\u001b[0m\n\u001b[1;32m   1745\u001b[0m \u001b[38;5;66;03m# If we don't have any hooks, we want to skip the rest of the logic in\u001b[39;00m\n\u001b[1;32m   1746\u001b[0m \u001b[38;5;66;03m# this function, and just call forward.\u001b[39;00m\n\u001b[1;32m   1747\u001b[0m \u001b[38;5;28;01mif\u001b[39;00m \u001b[38;5;129;01mnot\u001b[39;00m (\u001b[38;5;28mself\u001b[39m\u001b[38;5;241m.\u001b[39m_backward_hooks \u001b[38;5;129;01mor\u001b[39;00m \u001b[38;5;28mself\u001b[39m\u001b[38;5;241m.\u001b[39m_backward_pre_hooks \u001b[38;5;129;01mor\u001b[39;00m \u001b[38;5;28mself\u001b[39m\u001b[38;5;241m.\u001b[39m_forward_hooks \u001b[38;5;129;01mor\u001b[39;00m \u001b[38;5;28mself\u001b[39m\u001b[38;5;241m.\u001b[39m_forward_pre_hooks\n\u001b[1;32m   1748\u001b[0m         \u001b[38;5;129;01mor\u001b[39;00m _global_backward_pre_hooks \u001b[38;5;129;01mor\u001b[39;00m _global_backward_hooks\n\u001b[1;32m   1749\u001b[0m         \u001b[38;5;129;01mor\u001b[39;00m _global_forward_hooks \u001b[38;5;129;01mor\u001b[39;00m _global_forward_pre_hooks):\n\u001b[0;32m-> 1750\u001b[0m     \u001b[38;5;28;01mreturn\u001b[39;00m \u001b[43mforward_call\u001b[49m\u001b[43m(\u001b[49m\u001b[38;5;241;43m*\u001b[39;49m\u001b[43margs\u001b[49m\u001b[43m,\u001b[49m\u001b[43m \u001b[49m\u001b[38;5;241;43m*\u001b[39;49m\u001b[38;5;241;43m*\u001b[39;49m\u001b[43mkwargs\u001b[49m\u001b[43m)\u001b[49m\n\u001b[1;32m   1752\u001b[0m result \u001b[38;5;241m=\u001b[39m \u001b[38;5;28;01mNone\u001b[39;00m\n\u001b[1;32m   1753\u001b[0m called_always_called_hooks \u001b[38;5;241m=\u001b[39m \u001b[38;5;28mset\u001b[39m()\n",
      "Cell \u001b[0;32mIn[8], line 250\u001b[0m, in \u001b[0;36mMLP.forward\u001b[0;34m(self, x)\u001b[0m\n\u001b[1;32m    249\u001b[0m \u001b[38;5;28;01mdef\u001b[39;00m \u001b[38;5;21mforward\u001b[39m(\u001b[38;5;28mself\u001b[39m, x):\n\u001b[0;32m--> 250\u001b[0m     \u001b[38;5;28;01mreturn\u001b[39;00m \u001b[38;5;28;43mself\u001b[39;49m\u001b[38;5;241;43m.\u001b[39;49m\u001b[43mnet\u001b[49m\u001b[43m(\u001b[49m\u001b[43mx\u001b[49m\u001b[43m)\u001b[49m\n",
      "File \u001b[0;32m~/miniconda/envs/ml/lib/python3.10/site-packages/torch/nn/modules/module.py:1739\u001b[0m, in \u001b[0;36mModule._wrapped_call_impl\u001b[0;34m(self, *args, **kwargs)\u001b[0m\n\u001b[1;32m   1737\u001b[0m     \u001b[38;5;28;01mreturn\u001b[39;00m \u001b[38;5;28mself\u001b[39m\u001b[38;5;241m.\u001b[39m_compiled_call_impl(\u001b[38;5;241m*\u001b[39margs, \u001b[38;5;241m*\u001b[39m\u001b[38;5;241m*\u001b[39mkwargs)  \u001b[38;5;66;03m# type: ignore[misc]\u001b[39;00m\n\u001b[1;32m   1738\u001b[0m \u001b[38;5;28;01melse\u001b[39;00m:\n\u001b[0;32m-> 1739\u001b[0m     \u001b[38;5;28;01mreturn\u001b[39;00m \u001b[38;5;28;43mself\u001b[39;49m\u001b[38;5;241;43m.\u001b[39;49m\u001b[43m_call_impl\u001b[49m\u001b[43m(\u001b[49m\u001b[38;5;241;43m*\u001b[39;49m\u001b[43margs\u001b[49m\u001b[43m,\u001b[49m\u001b[43m \u001b[49m\u001b[38;5;241;43m*\u001b[39;49m\u001b[38;5;241;43m*\u001b[39;49m\u001b[43mkwargs\u001b[49m\u001b[43m)\u001b[49m\n",
      "File \u001b[0;32m~/miniconda/envs/ml/lib/python3.10/site-packages/torch/nn/modules/module.py:1750\u001b[0m, in \u001b[0;36mModule._call_impl\u001b[0;34m(self, *args, **kwargs)\u001b[0m\n\u001b[1;32m   1745\u001b[0m \u001b[38;5;66;03m# If we don't have any hooks, we want to skip the rest of the logic in\u001b[39;00m\n\u001b[1;32m   1746\u001b[0m \u001b[38;5;66;03m# this function, and just call forward.\u001b[39;00m\n\u001b[1;32m   1747\u001b[0m \u001b[38;5;28;01mif\u001b[39;00m \u001b[38;5;129;01mnot\u001b[39;00m (\u001b[38;5;28mself\u001b[39m\u001b[38;5;241m.\u001b[39m_backward_hooks \u001b[38;5;129;01mor\u001b[39;00m \u001b[38;5;28mself\u001b[39m\u001b[38;5;241m.\u001b[39m_backward_pre_hooks \u001b[38;5;129;01mor\u001b[39;00m \u001b[38;5;28mself\u001b[39m\u001b[38;5;241m.\u001b[39m_forward_hooks \u001b[38;5;129;01mor\u001b[39;00m \u001b[38;5;28mself\u001b[39m\u001b[38;5;241m.\u001b[39m_forward_pre_hooks\n\u001b[1;32m   1748\u001b[0m         \u001b[38;5;129;01mor\u001b[39;00m _global_backward_pre_hooks \u001b[38;5;129;01mor\u001b[39;00m _global_backward_hooks\n\u001b[1;32m   1749\u001b[0m         \u001b[38;5;129;01mor\u001b[39;00m _global_forward_hooks \u001b[38;5;129;01mor\u001b[39;00m _global_forward_pre_hooks):\n\u001b[0;32m-> 1750\u001b[0m     \u001b[38;5;28;01mreturn\u001b[39;00m \u001b[43mforward_call\u001b[49m\u001b[43m(\u001b[49m\u001b[38;5;241;43m*\u001b[39;49m\u001b[43margs\u001b[49m\u001b[43m,\u001b[49m\u001b[43m \u001b[49m\u001b[38;5;241;43m*\u001b[39;49m\u001b[38;5;241;43m*\u001b[39;49m\u001b[43mkwargs\u001b[49m\u001b[43m)\u001b[49m\n\u001b[1;32m   1752\u001b[0m result \u001b[38;5;241m=\u001b[39m \u001b[38;5;28;01mNone\u001b[39;00m\n\u001b[1;32m   1753\u001b[0m called_always_called_hooks \u001b[38;5;241m=\u001b[39m \u001b[38;5;28mset\u001b[39m()\n",
      "File \u001b[0;32m~/miniconda/envs/ml/lib/python3.10/site-packages/torch/nn/modules/container.py:250\u001b[0m, in \u001b[0;36mSequential.forward\u001b[0;34m(self, input)\u001b[0m\n\u001b[1;32m    248\u001b[0m \u001b[38;5;28;01mdef\u001b[39;00m \u001b[38;5;21mforward\u001b[39m(\u001b[38;5;28mself\u001b[39m, \u001b[38;5;28minput\u001b[39m):\n\u001b[1;32m    249\u001b[0m     \u001b[38;5;28;01mfor\u001b[39;00m module \u001b[38;5;129;01min\u001b[39;00m \u001b[38;5;28mself\u001b[39m:\n\u001b[0;32m--> 250\u001b[0m         \u001b[38;5;28minput\u001b[39m \u001b[38;5;241m=\u001b[39m \u001b[43mmodule\u001b[49m\u001b[43m(\u001b[49m\u001b[38;5;28;43minput\u001b[39;49m\u001b[43m)\u001b[49m\n\u001b[1;32m    251\u001b[0m     \u001b[38;5;28;01mreturn\u001b[39;00m \u001b[38;5;28minput\u001b[39m\n",
      "File \u001b[0;32m~/miniconda/envs/ml/lib/python3.10/site-packages/torch/nn/modules/module.py:1739\u001b[0m, in \u001b[0;36mModule._wrapped_call_impl\u001b[0;34m(self, *args, **kwargs)\u001b[0m\n\u001b[1;32m   1737\u001b[0m     \u001b[38;5;28;01mreturn\u001b[39;00m \u001b[38;5;28mself\u001b[39m\u001b[38;5;241m.\u001b[39m_compiled_call_impl(\u001b[38;5;241m*\u001b[39margs, \u001b[38;5;241m*\u001b[39m\u001b[38;5;241m*\u001b[39mkwargs)  \u001b[38;5;66;03m# type: ignore[misc]\u001b[39;00m\n\u001b[1;32m   1738\u001b[0m \u001b[38;5;28;01melse\u001b[39;00m:\n\u001b[0;32m-> 1739\u001b[0m     \u001b[38;5;28;01mreturn\u001b[39;00m \u001b[38;5;28;43mself\u001b[39;49m\u001b[38;5;241;43m.\u001b[39;49m\u001b[43m_call_impl\u001b[49m\u001b[43m(\u001b[49m\u001b[38;5;241;43m*\u001b[39;49m\u001b[43margs\u001b[49m\u001b[43m,\u001b[49m\u001b[43m \u001b[49m\u001b[38;5;241;43m*\u001b[39;49m\u001b[38;5;241;43m*\u001b[39;49m\u001b[43mkwargs\u001b[49m\u001b[43m)\u001b[49m\n",
      "File \u001b[0;32m~/miniconda/envs/ml/lib/python3.10/site-packages/torch/nn/modules/module.py:1750\u001b[0m, in \u001b[0;36mModule._call_impl\u001b[0;34m(self, *args, **kwargs)\u001b[0m\n\u001b[1;32m   1745\u001b[0m \u001b[38;5;66;03m# If we don't have any hooks, we want to skip the rest of the logic in\u001b[39;00m\n\u001b[1;32m   1746\u001b[0m \u001b[38;5;66;03m# this function, and just call forward.\u001b[39;00m\n\u001b[1;32m   1747\u001b[0m \u001b[38;5;28;01mif\u001b[39;00m \u001b[38;5;129;01mnot\u001b[39;00m (\u001b[38;5;28mself\u001b[39m\u001b[38;5;241m.\u001b[39m_backward_hooks \u001b[38;5;129;01mor\u001b[39;00m \u001b[38;5;28mself\u001b[39m\u001b[38;5;241m.\u001b[39m_backward_pre_hooks \u001b[38;5;129;01mor\u001b[39;00m \u001b[38;5;28mself\u001b[39m\u001b[38;5;241m.\u001b[39m_forward_hooks \u001b[38;5;129;01mor\u001b[39;00m \u001b[38;5;28mself\u001b[39m\u001b[38;5;241m.\u001b[39m_forward_pre_hooks\n\u001b[1;32m   1748\u001b[0m         \u001b[38;5;129;01mor\u001b[39;00m _global_backward_pre_hooks \u001b[38;5;129;01mor\u001b[39;00m _global_backward_hooks\n\u001b[1;32m   1749\u001b[0m         \u001b[38;5;129;01mor\u001b[39;00m _global_forward_hooks \u001b[38;5;129;01mor\u001b[39;00m _global_forward_pre_hooks):\n\u001b[0;32m-> 1750\u001b[0m     \u001b[38;5;28;01mreturn\u001b[39;00m \u001b[43mforward_call\u001b[49m\u001b[43m(\u001b[49m\u001b[38;5;241;43m*\u001b[39;49m\u001b[43margs\u001b[49m\u001b[43m,\u001b[49m\u001b[43m \u001b[49m\u001b[38;5;241;43m*\u001b[39;49m\u001b[38;5;241;43m*\u001b[39;49m\u001b[43mkwargs\u001b[49m\u001b[43m)\u001b[49m\n\u001b[1;32m   1752\u001b[0m result \u001b[38;5;241m=\u001b[39m \u001b[38;5;28;01mNone\u001b[39;00m\n\u001b[1;32m   1753\u001b[0m called_always_called_hooks \u001b[38;5;241m=\u001b[39m \u001b[38;5;28mset\u001b[39m()\n",
      "File \u001b[0;32m~/miniconda/envs/ml/lib/python3.10/site-packages/torch/nn/modules/activation.py:734\u001b[0m, in \u001b[0;36mGELU.forward\u001b[0;34m(self, input)\u001b[0m\n\u001b[1;32m    733\u001b[0m \u001b[38;5;28;01mdef\u001b[39;00m \u001b[38;5;21mforward\u001b[39m(\u001b[38;5;28mself\u001b[39m, \u001b[38;5;28minput\u001b[39m: Tensor) \u001b[38;5;241m-\u001b[39m\u001b[38;5;241m>\u001b[39m Tensor:\n\u001b[0;32m--> 734\u001b[0m     \u001b[38;5;28;01mreturn\u001b[39;00m \u001b[43mF\u001b[49m\u001b[38;5;241;43m.\u001b[39;49m\u001b[43mgelu\u001b[49m\u001b[43m(\u001b[49m\u001b[38;5;28;43minput\u001b[39;49m\u001b[43m,\u001b[49m\u001b[43m \u001b[49m\u001b[43mapproximate\u001b[49m\u001b[38;5;241;43m=\u001b[39;49m\u001b[38;5;28;43mself\u001b[39;49m\u001b[38;5;241;43m.\u001b[39;49m\u001b[43mapproximate\u001b[49m\u001b[43m)\u001b[49m\n",
      "\u001b[0;31mKeyboardInterrupt\u001b[0m: "
     ]
    }
   ],
   "source": [
    "train_adversary(model)"
   ]
  },
  {
   "cell_type": "code",
   "execution_count": null,
   "metadata": {},
   "outputs": [
    {
     "name": "stdout",
     "output_type": "stream",
     "text": [
      "Total number of parameters: 3171818\n"
     ]
    }
   ],
   "source": [
    "total_params = sum(p.numel() for p in model.parameters())\n",
    "print(f\"Total number of parameters: {total_params}\")"
   ]
  },
  {
   "cell_type": "code",
   "execution_count": null,
   "metadata": {},
   "outputs": [
    {
     "name": "stdout",
     "output_type": "stream",
     "text": [
      "ViT(\n",
      "  (to_patch_embedding): Linear(in_features=48, out_features=192, bias=True)\n",
      "  (pos_encoder_1): DFT2DPositionalEncoding(\n",
      "    (project): Linear(in_features=32, out_features=32, bias=True)\n",
      "  )\n",
      "  (pos_encoder_2): SinCos2DPositionalEncoding()\n",
      "  (dropout): Dropout(p=0.1, inplace=False)\n",
      "  (transformer_blocks): ModuleList(\n",
      "    (0-5): 6 x TransformerBlock(\n",
      "      (norm1): LayerNorm((256,), eps=1e-05, elementwise_affine=True)\n",
      "      (attn): MultiHeadSelfAttention(\n",
      "        (to_qkv): Linear(in_features=256, out_features=768, bias=False)\n",
      "        (to_out): Linear(in_features=256, out_features=256, bias=True)\n",
      "        (dropout): Dropout(p=0.1, inplace=False)\n",
      "      )\n",
      "      (norm2): LayerNorm((256,), eps=1e-05, elementwise_affine=True)\n",
      "      (mlp): MLP(\n",
      "        (net): Sequential(\n",
      "          (0): Linear(in_features=256, out_features=512, bias=True)\n",
      "          (1): GELU(approximate='none')\n",
      "          (2): Dropout(p=0.1, inplace=False)\n",
      "          (3): Linear(in_features=512, out_features=256, bias=True)\n",
      "          (4): Dropout(p=0.1, inplace=False)\n",
      "        )\n",
      "      )\n",
      "    )\n",
      "  )\n",
      "  (mlp_head): Sequential(\n",
      "    (0): LayerNorm((256,), eps=1e-05, elementwise_affine=True)\n",
      "    (1): Linear(in_features=256, out_features=10, bias=True)\n",
      "  )\n",
      ")\n"
     ]
    }
   ],
   "source": [
    "print(model)"
   ]
  }
 ],
 "metadata": {
  "kaggle": {
   "accelerator": "gpu",
   "dataSources": [],
   "dockerImageVersionId": 30919,
   "isGpuEnabled": true,
   "isInternetEnabled": true,
   "language": "python",
   "sourceType": "notebook"
  },
  "kernelspec": {
   "display_name": "ml",
   "language": "python",
   "name": "python3"
  },
  "language_info": {
   "codemirror_mode": {
    "name": "ipython",
    "version": 3
   },
   "file_extension": ".py",
   "mimetype": "text/x-python",
   "name": "python",
   "nbconvert_exporter": "python",
   "pygments_lexer": "ipython3",
   "version": "3.10.16"
  }
 },
 "nbformat": 4,
 "nbformat_minor": 4
}
