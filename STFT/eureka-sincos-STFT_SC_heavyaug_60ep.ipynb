{
 "cells": [
  {
   "cell_type": "code",
   "execution_count": 1,
   "metadata": {},
   "outputs": [
    {
     "name": "stdout",
     "output_type": "stream",
     "text": [
      "Using device: cuda\n"
     ]
    },
    {
     "name": "stderr",
     "output_type": "stream",
     "text": [
      "Epoch 1/60: 100%|██████████| 391/391 [00:18<00:00, 21.10it/s, loss=1.78, acc=34.5]\n"
     ]
    },
    {
     "name": "stdout",
     "output_type": "stream",
     "text": [
      "Test Loss: 1.2991, Test Acc: 52.91%\n",
      "Epoch 1/60: Train Loss: 1.7773, Train Acc: 34.53%, Test Loss: 1.2991, Test Acc: 52.91%\n"
     ]
    },
    {
     "name": "stderr",
     "output_type": "stream",
     "text": [
      "Epoch 2/60: 100%|██████████| 391/391 [00:18<00:00, 21.65it/s, loss=1.4, acc=49.5] \n"
     ]
    },
    {
     "name": "stdout",
     "output_type": "stream",
     "text": [
      "Test Loss: 1.0970, Test Acc: 60.18%\n",
      "Epoch 2/60: Train Loss: 1.3960, Train Acc: 49.49%, Test Loss: 1.0970, Test Acc: 60.18%\n"
     ]
    },
    {
     "name": "stderr",
     "output_type": "stream",
     "text": [
      "Epoch 3/60: 100%|██████████| 391/391 [00:18<00:00, 21.47it/s, loss=1.25, acc=55]  \n"
     ]
    },
    {
     "name": "stdout",
     "output_type": "stream",
     "text": [
      "Test Loss: 1.0274, Test Acc: 63.20%\n",
      "Epoch 3/60: Train Loss: 1.2529, Train Acc: 54.98%, Test Loss: 1.0274, Test Acc: 63.20%\n"
     ]
    },
    {
     "name": "stderr",
     "output_type": "stream",
     "text": [
      "Epoch 4/60: 100%|██████████| 391/391 [00:18<00:00, 21.42it/s, loss=1.17, acc=58.2]\n"
     ]
    },
    {
     "name": "stdout",
     "output_type": "stream",
     "text": [
      "Test Loss: 0.9655, Test Acc: 65.20%\n",
      "Epoch 4/60: Train Loss: 1.1688, Train Acc: 58.22%, Test Loss: 0.9655, Test Acc: 65.20%\n"
     ]
    },
    {
     "name": "stderr",
     "output_type": "stream",
     "text": [
      "Epoch 5/60: 100%|██████████| 391/391 [00:18<00:00, 21.49it/s, loss=1.1, acc=60.5] \n"
     ]
    },
    {
     "name": "stdout",
     "output_type": "stream",
     "text": [
      "Test Loss: 0.8945, Test Acc: 67.92%\n",
      "Epoch 5/60: Train Loss: 1.1037, Train Acc: 60.55%, Test Loss: 0.8945, Test Acc: 67.92%\n"
     ]
    },
    {
     "name": "stderr",
     "output_type": "stream",
     "text": [
      "Epoch 6/60: 100%|██████████| 391/391 [00:18<00:00, 21.33it/s, loss=1.06, acc=62.4]\n"
     ]
    },
    {
     "name": "stdout",
     "output_type": "stream",
     "text": [
      "Test Loss: 0.8761, Test Acc: 68.03%\n",
      "Epoch 6/60: Train Loss: 1.0556, Train Acc: 62.40%, Test Loss: 0.8761, Test Acc: 68.03%\n"
     ]
    },
    {
     "name": "stderr",
     "output_type": "stream",
     "text": [
      "Epoch 7/60: 100%|██████████| 391/391 [00:18<00:00, 21.20it/s, loss=1.01, acc=63.7]\n"
     ]
    },
    {
     "name": "stdout",
     "output_type": "stream",
     "text": [
      "Test Loss: 0.8240, Test Acc: 70.85%\n",
      "Epoch 7/60: Train Loss: 1.0121, Train Acc: 63.69%, Test Loss: 0.8240, Test Acc: 70.85%\n"
     ]
    },
    {
     "name": "stderr",
     "output_type": "stream",
     "text": [
      "Epoch 8/60: 100%|██████████| 391/391 [00:18<00:00, 21.34it/s, loss=0.973, acc=65.4]\n"
     ]
    },
    {
     "name": "stdout",
     "output_type": "stream",
     "text": [
      "Test Loss: 0.7974, Test Acc: 71.72%\n",
      "Epoch 8/60: Train Loss: 0.9731, Train Acc: 65.40%, Test Loss: 0.7974, Test Acc: 71.72%\n"
     ]
    },
    {
     "name": "stderr",
     "output_type": "stream",
     "text": [
      "Epoch 9/60: 100%|██████████| 391/391 [00:18<00:00, 21.33it/s, loss=0.945, acc=66.4]\n"
     ]
    },
    {
     "name": "stdout",
     "output_type": "stream",
     "text": [
      "Test Loss: 0.7757, Test Acc: 72.65%\n",
      "Epoch 9/60: Train Loss: 0.9447, Train Acc: 66.39%, Test Loss: 0.7757, Test Acc: 72.65%\n"
     ]
    },
    {
     "name": "stderr",
     "output_type": "stream",
     "text": [
      "Epoch 10/60: 100%|██████████| 391/391 [00:18<00:00, 21.35it/s, loss=0.909, acc=67.7]\n"
     ]
    },
    {
     "name": "stdout",
     "output_type": "stream",
     "text": [
      "Test Loss: 0.7365, Test Acc: 74.00%\n",
      "Epoch 10/60: Train Loss: 0.9090, Train Acc: 67.72%, Test Loss: 0.7365, Test Acc: 74.00%\n"
     ]
    },
    {
     "name": "stderr",
     "output_type": "stream",
     "text": [
      "Epoch 11/60: 100%|██████████| 391/391 [00:18<00:00, 21.27it/s, loss=0.875, acc=69.1]\n"
     ]
    },
    {
     "name": "stdout",
     "output_type": "stream",
     "text": [
      "Test Loss: 0.7154, Test Acc: 75.11%\n",
      "Epoch 11/60: Train Loss: 0.8753, Train Acc: 69.13%, Test Loss: 0.7154, Test Acc: 75.11%\n"
     ]
    },
    {
     "name": "stderr",
     "output_type": "stream",
     "text": [
      "Epoch 12/60: 100%|██████████| 391/391 [00:18<00:00, 21.34it/s, loss=0.851, acc=69.8]\n"
     ]
    },
    {
     "name": "stdout",
     "output_type": "stream",
     "text": [
      "Test Loss: 0.7325, Test Acc: 74.64%\n",
      "Epoch 12/60: Train Loss: 0.8508, Train Acc: 69.75%, Test Loss: 0.7325, Test Acc: 74.64%\n"
     ]
    },
    {
     "name": "stderr",
     "output_type": "stream",
     "text": [
      "Epoch 13/60: 100%|██████████| 391/391 [00:18<00:00, 21.33it/s, loss=0.822, acc=70.8]\n"
     ]
    },
    {
     "name": "stdout",
     "output_type": "stream",
     "text": [
      "Test Loss: 0.6898, Test Acc: 75.59%\n",
      "Epoch 13/60: Train Loss: 0.8222, Train Acc: 70.82%, Test Loss: 0.6898, Test Acc: 75.59%\n"
     ]
    },
    {
     "name": "stderr",
     "output_type": "stream",
     "text": [
      "Epoch 14/60: 100%|██████████| 391/391 [00:18<00:00, 21.21it/s, loss=0.799, acc=71.7]\n"
     ]
    },
    {
     "name": "stdout",
     "output_type": "stream",
     "text": [
      "Test Loss: 0.6840, Test Acc: 76.23%\n",
      "Epoch 14/60: Train Loss: 0.7990, Train Acc: 71.66%, Test Loss: 0.6840, Test Acc: 76.23%\n"
     ]
    },
    {
     "name": "stderr",
     "output_type": "stream",
     "text": [
      "Epoch 15/60: 100%|██████████| 391/391 [00:18<00:00, 21.26it/s, loss=0.781, acc=72.2]\n"
     ]
    },
    {
     "name": "stdout",
     "output_type": "stream",
     "text": [
      "Test Loss: 0.6713, Test Acc: 76.43%\n",
      "Epoch 15/60: Train Loss: 0.7807, Train Acc: 72.23%, Test Loss: 0.6713, Test Acc: 76.43%\n"
     ]
    },
    {
     "name": "stderr",
     "output_type": "stream",
     "text": [
      "Epoch 16/60: 100%|██████████| 391/391 [00:18<00:00, 21.30it/s, loss=0.759, acc=73.2]\n"
     ]
    },
    {
     "name": "stdout",
     "output_type": "stream",
     "text": [
      "Test Loss: 0.6305, Test Acc: 78.02%\n",
      "Epoch 16/60: Train Loss: 0.7590, Train Acc: 73.24%, Test Loss: 0.6305, Test Acc: 78.02%\n"
     ]
    },
    {
     "name": "stderr",
     "output_type": "stream",
     "text": [
      "Epoch 17/60: 100%|██████████| 391/391 [00:18<00:00, 21.21it/s, loss=0.733, acc=74]  \n"
     ]
    },
    {
     "name": "stdout",
     "output_type": "stream",
     "text": [
      "Test Loss: 0.6154, Test Acc: 78.30%\n",
      "Epoch 17/60: Train Loss: 0.7331, Train Acc: 74.04%, Test Loss: 0.6154, Test Acc: 78.30%\n"
     ]
    },
    {
     "name": "stderr",
     "output_type": "stream",
     "text": [
      "Epoch 18/60: 100%|██████████| 391/391 [00:18<00:00, 21.39it/s, loss=0.719, acc=74.6]\n"
     ]
    },
    {
     "name": "stdout",
     "output_type": "stream",
     "text": [
      "Test Loss: 0.6090, Test Acc: 78.58%\n",
      "Epoch 18/60: Train Loss: 0.7187, Train Acc: 74.56%, Test Loss: 0.6090, Test Acc: 78.58%\n"
     ]
    },
    {
     "name": "stderr",
     "output_type": "stream",
     "text": [
      "Epoch 19/60: 100%|██████████| 391/391 [00:18<00:00, 21.25it/s, loss=0.691, acc=75.4]\n"
     ]
    },
    {
     "name": "stdout",
     "output_type": "stream",
     "text": [
      "Test Loss: 0.6072, Test Acc: 79.05%\n",
      "Epoch 19/60: Train Loss: 0.6915, Train Acc: 75.40%, Test Loss: 0.6072, Test Acc: 79.05%\n"
     ]
    },
    {
     "name": "stderr",
     "output_type": "stream",
     "text": [
      "Epoch 20/60: 100%|██████████| 391/391 [00:18<00:00, 21.17it/s, loss=0.676, acc=76.1]\n"
     ]
    },
    {
     "name": "stdout",
     "output_type": "stream",
     "text": [
      "Test Loss: 0.6013, Test Acc: 79.23%\n",
      "Epoch 20/60: Train Loss: 0.6758, Train Acc: 76.09%, Test Loss: 0.6013, Test Acc: 79.23%\n"
     ]
    },
    {
     "name": "stderr",
     "output_type": "stream",
     "text": [
      "Epoch 21/60: 100%|██████████| 391/391 [00:18<00:00, 21.30it/s, loss=0.659, acc=76.8]\n"
     ]
    },
    {
     "name": "stdout",
     "output_type": "stream",
     "text": [
      "Test Loss: 0.5906, Test Acc: 79.70%\n",
      "Epoch 21/60: Train Loss: 0.6595, Train Acc: 76.79%, Test Loss: 0.5906, Test Acc: 79.70%\n"
     ]
    },
    {
     "name": "stderr",
     "output_type": "stream",
     "text": [
      "Epoch 22/60: 100%|██████████| 391/391 [00:18<00:00, 21.33it/s, loss=0.641, acc=77.4]\n"
     ]
    },
    {
     "name": "stdout",
     "output_type": "stream",
     "text": [
      "Test Loss: 0.5882, Test Acc: 79.92%\n",
      "Epoch 22/60: Train Loss: 0.6412, Train Acc: 77.43%, Test Loss: 0.5882, Test Acc: 79.92%\n"
     ]
    },
    {
     "name": "stderr",
     "output_type": "stream",
     "text": [
      "Epoch 23/60: 100%|██████████| 391/391 [00:18<00:00, 21.32it/s, loss=0.626, acc=77.9]\n"
     ]
    },
    {
     "name": "stdout",
     "output_type": "stream",
     "text": [
      "Test Loss: 0.5610, Test Acc: 81.06%\n",
      "Epoch 23/60: Train Loss: 0.6260, Train Acc: 77.89%, Test Loss: 0.5610, Test Acc: 81.06%\n"
     ]
    },
    {
     "name": "stderr",
     "output_type": "stream",
     "text": [
      "Epoch 24/60: 100%|██████████| 391/391 [00:18<00:00, 21.29it/s, loss=0.611, acc=78.5]\n"
     ]
    },
    {
     "name": "stdout",
     "output_type": "stream",
     "text": [
      "Test Loss: 0.5520, Test Acc: 81.26%\n",
      "Epoch 24/60: Train Loss: 0.6113, Train Acc: 78.49%, Test Loss: 0.5520, Test Acc: 81.26%\n"
     ]
    },
    {
     "name": "stderr",
     "output_type": "stream",
     "text": [
      "Epoch 25/60: 100%|██████████| 391/391 [00:18<00:00, 21.33it/s, loss=0.592, acc=79.2]\n"
     ]
    },
    {
     "name": "stdout",
     "output_type": "stream",
     "text": [
      "Test Loss: 0.5343, Test Acc: 82.23%\n",
      "Epoch 25/60: Train Loss: 0.5924, Train Acc: 79.16%, Test Loss: 0.5343, Test Acc: 82.23%\n"
     ]
    },
    {
     "name": "stderr",
     "output_type": "stream",
     "text": [
      "Epoch 26/60: 100%|██████████| 391/391 [00:18<00:00, 21.33it/s, loss=0.578, acc=79.5]\n"
     ]
    },
    {
     "name": "stdout",
     "output_type": "stream",
     "text": [
      "Test Loss: 0.5406, Test Acc: 81.97%\n",
      "Epoch 26/60: Train Loss: 0.5778, Train Acc: 79.50%, Test Loss: 0.5406, Test Acc: 81.97%\n"
     ]
    },
    {
     "name": "stderr",
     "output_type": "stream",
     "text": [
      "Epoch 27/60: 100%|██████████| 391/391 [00:18<00:00, 21.37it/s, loss=0.565, acc=80.1]\n"
     ]
    },
    {
     "name": "stdout",
     "output_type": "stream",
     "text": [
      "Test Loss: 0.5399, Test Acc: 81.87%\n",
      "Epoch 27/60: Train Loss: 0.5650, Train Acc: 80.06%, Test Loss: 0.5399, Test Acc: 81.87%\n"
     ]
    },
    {
     "name": "stderr",
     "output_type": "stream",
     "text": [
      "Epoch 28/60: 100%|██████████| 391/391 [00:18<00:00, 21.42it/s, loss=0.544, acc=80.8]\n"
     ]
    },
    {
     "name": "stdout",
     "output_type": "stream",
     "text": [
      "Test Loss: 0.5239, Test Acc: 82.28%\n",
      "Epoch 28/60: Train Loss: 0.5444, Train Acc: 80.83%, Test Loss: 0.5239, Test Acc: 82.28%\n"
     ]
    },
    {
     "name": "stderr",
     "output_type": "stream",
     "text": [
      "Epoch 29/60: 100%|██████████| 391/391 [00:18<00:00, 21.40it/s, loss=0.536, acc=81.3]\n"
     ]
    },
    {
     "name": "stdout",
     "output_type": "stream",
     "text": [
      "Test Loss: 0.5217, Test Acc: 82.11%\n",
      "Epoch 29/60: Train Loss: 0.5355, Train Acc: 81.29%, Test Loss: 0.5217, Test Acc: 82.11%\n"
     ]
    },
    {
     "name": "stderr",
     "output_type": "stream",
     "text": [
      "Epoch 30/60: 100%|██████████| 391/391 [00:18<00:00, 21.38it/s, loss=0.522, acc=81.6]\n"
     ]
    },
    {
     "name": "stdout",
     "output_type": "stream",
     "text": [
      "Test Loss: 0.5363, Test Acc: 82.31%\n",
      "Epoch 30/60: Train Loss: 0.5224, Train Acc: 81.63%, Test Loss: 0.5363, Test Acc: 82.31%\n"
     ]
    },
    {
     "name": "stderr",
     "output_type": "stream",
     "text": [
      "Epoch 31/60: 100%|██████████| 391/391 [00:18<00:00, 21.35it/s, loss=0.508, acc=82.1]\n"
     ]
    },
    {
     "name": "stdout",
     "output_type": "stream",
     "text": [
      "Test Loss: 0.4981, Test Acc: 83.71%\n",
      "Epoch 31/60: Train Loss: 0.5078, Train Acc: 82.05%, Test Loss: 0.4981, Test Acc: 83.71%\n"
     ]
    },
    {
     "name": "stderr",
     "output_type": "stream",
     "text": [
      "Epoch 32/60: 100%|██████████| 391/391 [00:18<00:00, 21.38it/s, loss=0.497, acc=82.1]\n"
     ]
    },
    {
     "name": "stdout",
     "output_type": "stream",
     "text": [
      "Test Loss: 0.5116, Test Acc: 82.82%\n",
      "Epoch 32/60: Train Loss: 0.4971, Train Acc: 82.07%, Test Loss: 0.5116, Test Acc: 82.82%\n"
     ]
    },
    {
     "name": "stderr",
     "output_type": "stream",
     "text": [
      "Epoch 33/60: 100%|██████████| 391/391 [00:18<00:00, 21.35it/s, loss=0.483, acc=82.8]\n"
     ]
    },
    {
     "name": "stdout",
     "output_type": "stream",
     "text": [
      "Test Loss: 0.5037, Test Acc: 83.11%\n",
      "Epoch 33/60: Train Loss: 0.4825, Train Acc: 82.83%, Test Loss: 0.5037, Test Acc: 83.11%\n"
     ]
    },
    {
     "name": "stderr",
     "output_type": "stream",
     "text": [
      "Epoch 34/60: 100%|██████████| 391/391 [00:18<00:00, 21.40it/s, loss=0.467, acc=83.4]\n"
     ]
    },
    {
     "name": "stdout",
     "output_type": "stream",
     "text": [
      "Test Loss: 0.5098, Test Acc: 83.36%\n",
      "Epoch 34/60: Train Loss: 0.4667, Train Acc: 83.43%, Test Loss: 0.5098, Test Acc: 83.36%\n"
     ]
    },
    {
     "name": "stderr",
     "output_type": "stream",
     "text": [
      "Epoch 35/60: 100%|██████████| 391/391 [00:18<00:00, 21.30it/s, loss=0.454, acc=84]  \n"
     ]
    },
    {
     "name": "stdout",
     "output_type": "stream",
     "text": [
      "Test Loss: 0.5000, Test Acc: 84.17%\n",
      "Epoch 35/60: Train Loss: 0.4535, Train Acc: 83.99%, Test Loss: 0.5000, Test Acc: 84.17%\n"
     ]
    },
    {
     "name": "stderr",
     "output_type": "stream",
     "text": [
      "Epoch 36/60: 100%|██████████| 391/391 [00:18<00:00, 21.36it/s, loss=0.442, acc=84.5]\n"
     ]
    },
    {
     "name": "stdout",
     "output_type": "stream",
     "text": [
      "Test Loss: 0.5058, Test Acc: 83.84%\n",
      "Epoch 36/60: Train Loss: 0.4418, Train Acc: 84.50%, Test Loss: 0.5058, Test Acc: 83.84%\n"
     ]
    },
    {
     "name": "stderr",
     "output_type": "stream",
     "text": [
      "Epoch 37/60: 100%|██████████| 391/391 [00:18<00:00, 21.36it/s, loss=0.436, acc=84.6]\n"
     ]
    },
    {
     "name": "stdout",
     "output_type": "stream",
     "text": [
      "Test Loss: 0.4958, Test Acc: 83.95%\n",
      "Epoch 37/60: Train Loss: 0.4356, Train Acc: 84.63%, Test Loss: 0.4958, Test Acc: 83.95%\n"
     ]
    },
    {
     "name": "stderr",
     "output_type": "stream",
     "text": [
      "Epoch 38/60: 100%|██████████| 391/391 [00:18<00:00, 21.37it/s, loss=0.42, acc=85.1] \n"
     ]
    },
    {
     "name": "stdout",
     "output_type": "stream",
     "text": [
      "Test Loss: 0.4954, Test Acc: 84.07%\n",
      "Epoch 38/60: Train Loss: 0.4202, Train Acc: 85.10%, Test Loss: 0.4954, Test Acc: 84.07%\n"
     ]
    },
    {
     "name": "stderr",
     "output_type": "stream",
     "text": [
      "Epoch 39/60: 100%|██████████| 391/391 [00:18<00:00, 21.42it/s, loss=0.412, acc=85.3]\n"
     ]
    },
    {
     "name": "stdout",
     "output_type": "stream",
     "text": [
      "Test Loss: 0.4978, Test Acc: 84.13%\n",
      "Epoch 39/60: Train Loss: 0.4122, Train Acc: 85.33%, Test Loss: 0.4978, Test Acc: 84.13%\n"
     ]
    },
    {
     "name": "stderr",
     "output_type": "stream",
     "text": [
      "Epoch 40/60: 100%|██████████| 391/391 [00:18<00:00, 21.24it/s, loss=0.403, acc=85.7]\n"
     ]
    },
    {
     "name": "stdout",
     "output_type": "stream",
     "text": [
      "Test Loss: 0.4846, Test Acc: 84.48%\n",
      "Epoch 40/60: Train Loss: 0.4034, Train Acc: 85.69%, Test Loss: 0.4846, Test Acc: 84.48%\n"
     ]
    },
    {
     "name": "stderr",
     "output_type": "stream",
     "text": [
      "Epoch 41/60: 100%|██████████| 391/391 [00:18<00:00, 21.27it/s, loss=0.392, acc=85.9]\n"
     ]
    },
    {
     "name": "stdout",
     "output_type": "stream",
     "text": [
      "Test Loss: 0.4994, Test Acc: 84.37%\n",
      "Epoch 41/60: Train Loss: 0.3918, Train Acc: 85.94%, Test Loss: 0.4994, Test Acc: 84.37%\n"
     ]
    },
    {
     "name": "stderr",
     "output_type": "stream",
     "text": [
      "Epoch 42/60: 100%|██████████| 391/391 [00:18<00:00, 21.33it/s, loss=0.381, acc=86.6]\n"
     ]
    },
    {
     "name": "stdout",
     "output_type": "stream",
     "text": [
      "Test Loss: 0.4771, Test Acc: 85.13%\n",
      "Epoch 42/60: Train Loss: 0.3806, Train Acc: 86.56%, Test Loss: 0.4771, Test Acc: 85.13%\n"
     ]
    },
    {
     "name": "stderr",
     "output_type": "stream",
     "text": [
      "Epoch 43/60: 100%|██████████| 391/391 [00:18<00:00, 21.32it/s, loss=0.37, acc=87]   \n"
     ]
    },
    {
     "name": "stdout",
     "output_type": "stream",
     "text": [
      "Test Loss: 0.4841, Test Acc: 84.45%\n",
      "Epoch 43/60: Train Loss: 0.3703, Train Acc: 87.00%, Test Loss: 0.4841, Test Acc: 84.45%\n"
     ]
    },
    {
     "name": "stderr",
     "output_type": "stream",
     "text": [
      "Epoch 44/60: 100%|██████████| 391/391 [00:18<00:00, 21.28it/s, loss=0.364, acc=87.2]\n"
     ]
    },
    {
     "name": "stdout",
     "output_type": "stream",
     "text": [
      "Test Loss: 0.4817, Test Acc: 84.62%\n",
      "Epoch 44/60: Train Loss: 0.3638, Train Acc: 87.20%, Test Loss: 0.4817, Test Acc: 84.62%\n"
     ]
    },
    {
     "name": "stderr",
     "output_type": "stream",
     "text": [
      "Epoch 45/60: 100%|██████████| 391/391 [00:18<00:00, 21.31it/s, loss=0.355, acc=87.4]\n"
     ]
    },
    {
     "name": "stdout",
     "output_type": "stream",
     "text": [
      "Test Loss: 0.4754, Test Acc: 85.02%\n",
      "Epoch 45/60: Train Loss: 0.3550, Train Acc: 87.45%, Test Loss: 0.4754, Test Acc: 85.02%\n"
     ]
    },
    {
     "name": "stderr",
     "output_type": "stream",
     "text": [
      "Epoch 46/60: 100%|██████████| 391/391 [00:18<00:00, 21.40it/s, loss=0.352, acc=87.6]\n"
     ]
    },
    {
     "name": "stdout",
     "output_type": "stream",
     "text": [
      "Test Loss: 0.4780, Test Acc: 85.14%\n",
      "Epoch 46/60: Train Loss: 0.3519, Train Acc: 87.58%, Test Loss: 0.4780, Test Acc: 85.14%\n"
     ]
    },
    {
     "name": "stderr",
     "output_type": "stream",
     "text": [
      "Epoch 47/60: 100%|██████████| 391/391 [00:18<00:00, 21.28it/s, loss=0.344, acc=87.7]\n"
     ]
    },
    {
     "name": "stdout",
     "output_type": "stream",
     "text": [
      "Test Loss: 0.4740, Test Acc: 85.27%\n",
      "Epoch 47/60: Train Loss: 0.3439, Train Acc: 87.69%, Test Loss: 0.4740, Test Acc: 85.27%\n"
     ]
    },
    {
     "name": "stderr",
     "output_type": "stream",
     "text": [
      "Epoch 48/60: 100%|██████████| 391/391 [00:18<00:00, 21.24it/s, loss=0.335, acc=88]  \n"
     ]
    },
    {
     "name": "stdout",
     "output_type": "stream",
     "text": [
      "Test Loss: 0.4761, Test Acc: 85.37%\n",
      "Epoch 48/60: Train Loss: 0.3349, Train Acc: 88.04%, Test Loss: 0.4761, Test Acc: 85.37%\n"
     ]
    },
    {
     "name": "stderr",
     "output_type": "stream",
     "text": [
      "Epoch 49/60: 100%|██████████| 391/391 [00:18<00:00, 21.37it/s, loss=0.332, acc=88.3]\n"
     ]
    },
    {
     "name": "stdout",
     "output_type": "stream",
     "text": [
      "Test Loss: 0.4771, Test Acc: 85.41%\n",
      "Epoch 49/60: Train Loss: 0.3316, Train Acc: 88.32%, Test Loss: 0.4771, Test Acc: 85.41%\n"
     ]
    },
    {
     "name": "stderr",
     "output_type": "stream",
     "text": [
      "Epoch 50/60: 100%|██████████| 391/391 [00:18<00:00, 21.28it/s, loss=0.326, acc=88.4]\n"
     ]
    },
    {
     "name": "stdout",
     "output_type": "stream",
     "text": [
      "Test Loss: 0.4787, Test Acc: 85.45%\n",
      "Epoch 50/60: Train Loss: 0.3263, Train Acc: 88.42%, Test Loss: 0.4787, Test Acc: 85.45%\n"
     ]
    },
    {
     "name": "stderr",
     "output_type": "stream",
     "text": [
      "Epoch 51/60: 100%|██████████| 391/391 [00:18<00:00, 21.27it/s, loss=0.322, acc=88.7]\n"
     ]
    },
    {
     "name": "stdout",
     "output_type": "stream",
     "text": [
      "Test Loss: 0.4868, Test Acc: 85.24%\n",
      "Epoch 51/60: Train Loss: 0.3222, Train Acc: 88.71%, Test Loss: 0.4868, Test Acc: 85.24%\n"
     ]
    },
    {
     "name": "stderr",
     "output_type": "stream",
     "text": [
      "Epoch 52/60: 100%|██████████| 391/391 [00:18<00:00, 21.32it/s, loss=0.315, acc=88.7]\n"
     ]
    },
    {
     "name": "stdout",
     "output_type": "stream",
     "text": [
      "Test Loss: 0.4789, Test Acc: 85.56%\n",
      "Epoch 52/60: Train Loss: 0.3153, Train Acc: 88.72%, Test Loss: 0.4789, Test Acc: 85.56%\n"
     ]
    },
    {
     "name": "stderr",
     "output_type": "stream",
     "text": [
      "Epoch 53/60: 100%|██████████| 391/391 [00:18<00:00, 21.35it/s, loss=0.315, acc=88.9]\n"
     ]
    },
    {
     "name": "stdout",
     "output_type": "stream",
     "text": [
      "Test Loss: 0.4790, Test Acc: 85.38%\n",
      "Epoch 53/60: Train Loss: 0.3151, Train Acc: 88.86%, Test Loss: 0.4790, Test Acc: 85.38%\n"
     ]
    },
    {
     "name": "stderr",
     "output_type": "stream",
     "text": [
      "Epoch 54/60: 100%|██████████| 391/391 [00:18<00:00, 21.40it/s, loss=0.313, acc=88.9]\n"
     ]
    },
    {
     "name": "stdout",
     "output_type": "stream",
     "text": [
      "Test Loss: 0.4816, Test Acc: 85.46%\n",
      "Epoch 54/60: Train Loss: 0.3132, Train Acc: 88.89%, Test Loss: 0.4816, Test Acc: 85.46%\n"
     ]
    },
    {
     "name": "stderr",
     "output_type": "stream",
     "text": [
      "Epoch 55/60: 100%|██████████| 391/391 [00:18<00:00, 21.35it/s, loss=0.313, acc=89.1]\n"
     ]
    },
    {
     "name": "stdout",
     "output_type": "stream",
     "text": [
      "Test Loss: 0.4806, Test Acc: 85.45%\n",
      "Epoch 55/60: Train Loss: 0.3129, Train Acc: 89.10%, Test Loss: 0.4806, Test Acc: 85.45%\n"
     ]
    },
    {
     "name": "stderr",
     "output_type": "stream",
     "text": [
      "Epoch 56/60: 100%|██████████| 391/391 [00:18<00:00, 21.39it/s, loss=0.306, acc=89.2]\n"
     ]
    },
    {
     "name": "stdout",
     "output_type": "stream",
     "text": [
      "Test Loss: 0.4835, Test Acc: 85.50%\n",
      "Epoch 56/60: Train Loss: 0.3058, Train Acc: 89.21%, Test Loss: 0.4835, Test Acc: 85.50%\n"
     ]
    },
    {
     "name": "stderr",
     "output_type": "stream",
     "text": [
      "Epoch 57/60: 100%|██████████| 391/391 [00:18<00:00, 21.37it/s, loss=0.307, acc=89.2]\n"
     ]
    },
    {
     "name": "stdout",
     "output_type": "stream",
     "text": [
      "Test Loss: 0.4809, Test Acc: 85.58%\n",
      "Epoch 57/60: Train Loss: 0.3065, Train Acc: 89.21%, Test Loss: 0.4809, Test Acc: 85.58%\n"
     ]
    },
    {
     "name": "stderr",
     "output_type": "stream",
     "text": [
      "Epoch 58/60: 100%|██████████| 391/391 [00:18<00:00, 21.59it/s, loss=0.306, acc=89.3]\n"
     ]
    },
    {
     "name": "stdout",
     "output_type": "stream",
     "text": [
      "Test Loss: 0.4795, Test Acc: 85.55%\n",
      "Epoch 58/60: Train Loss: 0.3062, Train Acc: 89.27%, Test Loss: 0.4795, Test Acc: 85.55%\n"
     ]
    },
    {
     "name": "stderr",
     "output_type": "stream",
     "text": [
      "Epoch 59/60: 100%|██████████| 391/391 [00:18<00:00, 21.42it/s, loss=0.304, acc=89.4]\n"
     ]
    },
    {
     "name": "stdout",
     "output_type": "stream",
     "text": [
      "Test Loss: 0.4792, Test Acc: 85.46%\n",
      "Epoch 59/60: Train Loss: 0.3040, Train Acc: 89.38%, Test Loss: 0.4792, Test Acc: 85.46%\n"
     ]
    },
    {
     "name": "stderr",
     "output_type": "stream",
     "text": [
      "Epoch 60/60: 100%|██████████| 391/391 [00:18<00:00, 21.36it/s, loss=0.306, acc=89.2]\n"
     ]
    },
    {
     "name": "stdout",
     "output_type": "stream",
     "text": [
      "Test Loss: 0.4790, Test Acc: 85.48%\n",
      "Epoch 60/60: Train Loss: 0.3060, Train Acc: 89.20%, Test Loss: 0.4790, Test Acc: 85.48%\n"
     ]
    },
    {
     "data": {
      "image/png": "[encoded data removed]",
      "text/plain": [
       "<Figure size 1200x500 with 2 Axes>"
      ]
     },
     "metadata": {},
     "output_type": "display_data"
    },
    {
     "name": "stdout",
     "output_type": "stream",
     "text": [
      "Training complete. Model saved to vit_cifar10_1_3-stft-sc-heavyaug-60ep.pth\n"
     ]
    }
   ],
   "source": [
    "import torch\n",
    "import torch.nn as nn\n",
    "import torch.nn.functional as F\n",
    "import torch.optim as optim\n",
    "from torch.utils.data import DataLoader\n",
    "from torchvision import datasets, transforms\n",
    "import math\n",
    "import matplotlib.pyplot as plt\n",
    "import numpy as np\n",
    "from tqdm import tqdm\n",
    "import random\n",
    "import numpy as np\n",
    "import torch\n",
    "\n",
    "# Set random seed for reproducibility\n",
    "seed = 42\n",
    "random.seed(seed)\n",
    "np.random.seed(seed)\n",
    "torch.manual_seed(seed)\n",
    "torch.cuda.manual_seed_all(seed)\n",
    "device = torch.device(\"cuda\" if torch.cuda.is_available() else \"cpu\")\n",
    "print(f\"Using device: {device}\")\n",
    "\n",
    "# Hyperparameters\n",
    "batch_size = 128\n",
    "num_epochs =60\n",
    "learning_rate = 3e-4\n",
    "weight_decay = 1e-4\n",
    "\n",
    "image_size = 32\n",
    "patch_size = 4\n",
    "num_classes = 10\n",
    "dim = 256  # Total dimension\n",
    "proj_dim = 256 - 64  # Dimension for patch projections (3d/4)\n",
    "pos_dim = 64  # Dimension for positional encodings (d/4)\n",
    "depth = 6\n",
    "heads = 8\n",
    "mlp_dim = 512\n",
    "channels = 3\n",
    "dropout = 0.1\n",
    "\n",
    "# Data Loading and Preprocessing\n",
    "transform_train = transforms.Compose([\n",
    "    transforms.RandomHorizontalFlip(),\n",
    "    transforms.RandAugment(num_ops = 2, magnitude = 9),\n",
    "    transforms.ToTensor(),\n",
    "    transforms.Normalize((0.4914, 0.4822, 0.4465), (0.2023, 0.1994, 0.2010)),\n",
    "])\n",
    "\n",
    "transform_test = transforms.Compose([\n",
    "    transforms.ToTensor(),\n",
    "    transforms.Normalize((0.4914, 0.4822, 0.4465), (0.2023, 0.1994, 0.2010)),\n",
    "])\n",
    "\n",
    "train_dataset = datasets.CIFAR10(root='./data', train=True, download=True, transform=transform_train)\n",
    "test_dataset = datasets.CIFAR10(root='./data', train=False, download=True, transform=transform_test)\n",
    "\n",
    "train_loader = DataLoader(train_dataset, batch_size=batch_size, shuffle=True, num_workers=4)\n",
    "test_loader = DataLoader(test_dataset, batch_size=batch_size, shuffle=False, num_workers=4)\n",
    "\n",
    "\n",
    "# Sinusoidal Positional Encoding\n",
    "class SinCosPositionalEncoding(nn.Module):\n",
    "    def __init__(self, dim, n_position=200):\n",
    "        super(SinCosPositionalEncoding, self).__init__()\n",
    "        self.dim = dim\n",
    "        \n",
    "        # Create constant positional encoding matrix\n",
    "        pe = torch.zeros(n_position, dim)\n",
    "        position = torch.arange(0, n_position).unsqueeze(1).float()\n",
    "        div_term = torch.exp(torch.arange(0, dim, 2).float() * -(math.log(10000.0) / dim))\n",
    "        \n",
    "        pe[:, 0::2] = torch.sin(position * div_term)\n",
    "        pe[:, 1::2] = torch.cos(position * div_term)\n",
    "        pe = pe.unsqueeze(0)\n",
    "        self.register_buffer('pe', pe)\n",
    "        \n",
    "    def forward(self, x):\n",
    "        return x + self.pe[:, :x.size(1)].to(x.device)\n",
    "\n",
    "# 2D Sinusoidal Positional Encoding for Vision Transformer\n",
    "class SinCos2DPositionalEncoding(nn.Module):\n",
    "    def __init__(self, dim, h=8, w=8):\n",
    "        super(SinCos2DPositionalEncoding, self).__init__()\n",
    "        \n",
    "        # Create 2D positional encoding\n",
    "        pos_enc = torch.zeros(h, w, dim)\n",
    "        \n",
    "        # Separate channels for width and height dimensions\n",
    "        dim_h = dim // 2\n",
    "        dim_w = dim // 2\n",
    "        \n",
    "        # Position indices\n",
    "        y_pos = torch.arange(h).unsqueeze(1).repeat(1, w).reshape(h, w)\n",
    "        x_pos = torch.arange(w).unsqueeze(0).repeat(h, 1).reshape(h, w)\n",
    "        \n",
    "        # Create division term for computing positional encoding values\n",
    "        div_term_h = torch.exp(torch.arange(0, dim_h, 2).float() * -(math.log(10000.0) / dim_h))\n",
    "        div_term_w = torch.exp(torch.arange(0, dim_w, 2).float() * -(math.log(10000.0) / dim_w))\n",
    "        \n",
    "        # Apply sin and cos to odd and even indices\n",
    "        for i in range(0, dim_h, 2):\n",
    "            if i < dim_h:\n",
    "                pos_enc[:, :, i] = torch.sin(y_pos.float() * div_term_h[i//2])\n",
    "                pos_enc[:, :, i+1] = torch.cos(y_pos.float() * div_term_h[i//2])\n",
    "            \n",
    "        for i in range(0, dim_w, 2):\n",
    "            if i + dim_h < dim:\n",
    "                pos_enc[:, :, i+dim_h] = torch.sin(x_pos.float() * div_term_w[i//2])\n",
    "                pos_enc[:, :, i+dim_h+1] = torch.cos(x_pos.float() * div_term_w[i//2])\n",
    "        \n",
    "        # Flatten the positional encoding to match the sequence format (h*w, dim)\n",
    "        pos_enc = pos_enc.reshape(h * w, dim)\n",
    "        \n",
    "        # Add extra position for class token\n",
    "        cls_pos_enc = torch.zeros(1, dim)\n",
    "        pos_enc = torch.cat([cls_pos_enc, pos_enc], dim=0)\n",
    "        \n",
    "        # Register as buffer (persistent but not model parameter)\n",
    "        self.register_buffer('pos_enc', pos_enc.unsqueeze(0))\n",
    "        self.cls_pos_enc = cls_pos_enc.unsqueeze(0)\n",
    "\n",
    "        \n",
    "    def forward(self, x):\n",
    "        return x + self.pos_enc\n",
    "\n",
    "\n",
    "class DFT2DPositionalEncoding(nn.Module):\n",
    "    def __init__(self, patch_size=16, dim=768, add_cls_token=True):\n",
    "        \"\"\"\n",
    "        Args:\n",
    "            patch_size: Size of each square image patch (e.g., 16 for 16x16 patches).\n",
    "            dim: Output embedding dimension (flattened DFT length should match this).\n",
    "            add_cls_token: Whether to reserve space for a class token.\n",
    "        \"\"\"\n",
    "        super().__init__()\n",
    "        self.patch_size = patch_size\n",
    "        self.dim = dim\n",
    "        self.add_cls_token = add_cls_token\n",
    "        \n",
    "        # Ensure the DFT output will match dim (real + imag parts)\n",
    "        self.dft_len = patch_size * patch_size * 2  # real and imag parts\n",
    "        # assert self.dft_len >= dim, f\"DFT vector too small for dim={dim}\"\n",
    "\n",
    "        # Optional projection to dim if needed\n",
    "        self.project = nn.Linear(self.dft_len, dim)\n",
    "\n",
    "    def forward(self, x):\n",
    "        \"\"\"\n",
    "        Args:\n",
    "            x: Tensor of shape (B, N, patch_size*patch_size), where N is number of patches\n",
    "        Returns:\n",
    "            Positional embeddings: (B, N, dim) to be added to patch embeddings\n",
    "        \"\"\"\n",
    "        B, N, P2 = x.shape\n",
    "        P = self.patch_size\n",
    "        assert P2 == P * P, \"Each patch must be flattened 2D (P*P)\"\n",
    "\n",
    "        # Reshape patches to (B*N, P, P)\n",
    "        x = x.view(B * N, P, P)\n",
    "\n",
    "        # Apply 2D FFT\n",
    "        fft = torch.fft.fft2(x)  # (B*N, P, P), complex\n",
    "\n",
    "        # Get real and imaginary parts and flatten\n",
    "        fft_real = fft.real.reshape(B * N, -1)\n",
    "        fft_imag = fft.imag.reshape(B * N, -1)\n",
    "        fft_features = torch.cat([fft_real, fft_imag], dim=-1)  # (B*N, 2*P*P)\n",
    "\n",
    "        # Project to desired dim\n",
    "        pos_emb = self.project(fft_features)  # (B*N, dim)\n",
    "        pos_emb = pos_emb.view(B, N, self.dim)\n",
    "\n",
    "        if self.add_cls_token:\n",
    "            # Add CLS token (same for every position)\n",
    "            cls_token = torch.zeros(B, 1, self.dim, device=x.device)\n",
    "            pos_emb = torch.cat([cls_token, pos_emb], dim=1)\n",
    "\n",
    "        return pos_emb\n",
    "\n",
    "\n",
    "\n",
    "# 2D Sinusoidal Positional Encoding Generator\n",
    "class SinCos2DPositionalEncodingAppend:\n",
    "    def __init__(self, pos_dim, h, w):\n",
    "        \"\"\"\n",
    "        Generate 2D sinusoidal positional encodings for image patches\n",
    "        \n",
    "        Args:\n",
    "            pos_dim: Dimension of the positional encoding vector\n",
    "            h: Number of patches in height dimension\n",
    "            w: Number of patches in width dimension\n",
    "        \"\"\"\n",
    "        self.pos_dim = pos_dim\n",
    "        self.h = h\n",
    "        self.w = w\n",
    "        \n",
    "        # Initialize positional encodings\n",
    "        self.generate_encodings()\n",
    "        \n",
    "    def generate_encodings(self):\n",
    "        # Create position indices\n",
    "        y_pos = torch.arange(self.h).unsqueeze(1).repeat(1, self.w).reshape(self.h, self.w)\n",
    "        x_pos = torch.arange(self.w).unsqueeze(0).repeat(self.h, 1).reshape(self.h, self.w)\n",
    "        \n",
    "        # Split dimensions for height and width\n",
    "        dim_h = self.pos_dim // 2\n",
    "        dim_w = self.pos_dim - dim_h  # In case pos_dim is odd\n",
    "        \n",
    "        # Division terms for computing positional encoding\n",
    "        div_term_h = torch.exp(torch.arange(0, dim_h, 2).float() * -(math.log(10000.0) / dim_h))\n",
    "        div_term_w = torch.exp(torch.arange(0, dim_w, 2).float() * -(math.log(10000.0) / dim_w))\n",
    "        \n",
    "        # Create positional encoding tensor\n",
    "        pos_enc = torch.zeros(self.h, self.w, self.pos_dim)\n",
    "        \n",
    "        # Apply sin and cos to encode height positions\n",
    "        for i in range(0, dim_h, 2):\n",
    "            if i < dim_h:\n",
    "                pos_enc[:, :, i] = torch.sin(y_pos.float() * div_term_h[i//2])\n",
    "                if i + 1 < dim_h:\n",
    "                    pos_enc[:, :, i+1] = torch.cos(y_pos.float() * div_term_h[i//2])\n",
    "        \n",
    "        # Apply sin and cos to encode width positions\n",
    "        for i in range(0, dim_w, 2):\n",
    "            if i + dim_h < self.pos_dim:\n",
    "                pos_enc[:, :, i+dim_h] = torch.sin(x_pos.float() * div_term_w[i//2])\n",
    "                if i + dim_h + 1 < self.pos_dim:\n",
    "                    pos_enc[:, :, i+dim_h+1] = torch.cos(x_pos.float() * div_term_w[i//2])\n",
    "        \n",
    "        # Reshape to (h*w, pos_dim)\n",
    "        self.pos_enc = pos_enc.reshape(self.h * self.w, self.pos_dim)\n",
    "        \n",
    "        # Create a special positional encoding for the class token\n",
    "        self.cls_pos_enc = torch.zeros(1, self.pos_dim)\n",
    "\n",
    "\n",
    "\n",
    "# Multi-head Self Attention\n",
    "class MultiHeadSelfAttention(nn.Module):\n",
    "    def __init__(self, dim, heads=8, dropout=0.1):\n",
    "        super(MultiHeadSelfAttention, self).__init__()\n",
    "        self.heads = heads\n",
    "        self.head_dim = dim // heads\n",
    "        self.scale = self.head_dim ** -0.5\n",
    "        \n",
    "        self.to_qkv = nn.Linear(dim, dim * 3, bias=False)\n",
    "        self.to_out = nn.Linear(dim, dim)\n",
    "        self.dropout = nn.Dropout(dropout)\n",
    "        \n",
    "    def forward(self, x):\n",
    "        b, n, c = x.shape\n",
    "        qkv = self.to_qkv(x).chunk(3, dim=-1)\n",
    "        q, k, v = map(lambda t: t.reshape(b, n, self.heads, self.head_dim).transpose(1, 2), qkv)\n",
    "        \n",
    "        # Attention\n",
    "        dots = torch.matmul(q, k.transpose(-1, -2)) * self.scale\n",
    "        attn = F.softmax(dots, dim=-1)\n",
    "        attn = self.dropout(attn)\n",
    "        \n",
    "        # Apply attention to v\n",
    "        out = torch.matmul(attn, v)\n",
    "        out = out.transpose(1, 2).reshape(b, n, c)\n",
    "        out = self.to_out(out)\n",
    "        return out\n",
    "\n",
    "# MLP Block\n",
    "class MLP(nn.Module):\n",
    "    def __init__(self, dim, hidden_dim, dropout=0.1):\n",
    "        super(MLP, self).__init__()\n",
    "        self.net = nn.Sequential(\n",
    "            nn.Linear(dim, hidden_dim),\n",
    "            nn.GELU(),\n",
    "            nn.Dropout(dropout),\n",
    "            nn.Linear(hidden_dim, dim),\n",
    "            nn.Dropout(dropout)\n",
    "        )\n",
    "    \n",
    "    def forward(self, x):\n",
    "        return self.net(x)\n",
    "\n",
    "# Transformer Encoder Block\n",
    "class TransformerBlock(nn.Module):\n",
    "    def __init__(self, dim, heads, mlp_dim, dropout=0.1):\n",
    "        super(TransformerBlock, self).__init__()\n",
    "        self.norm1 = nn.LayerNorm(dim)\n",
    "        self.attn = MultiHeadSelfAttention(dim, heads, dropout)\n",
    "        self.norm2 = nn.LayerNorm(dim)\n",
    "        self.mlp = MLP(dim, mlp_dim, dropout)\n",
    "        \n",
    "    def forward(self, x):\n",
    "        x = x + self.attn(self.norm1(x))\n",
    "        x = x + self.mlp(self.norm2(x))\n",
    "        return x\n",
    "\n",
    "# Vision Transformer with Concatenated Positional Encodings\n",
    "class ViT(nn.Module):\n",
    "    def __init__(\n",
    "        self, \n",
    "        image_size, \n",
    "        patch_size, \n",
    "        num_classes, \n",
    "        dim, \n",
    "        proj_dim,\n",
    "        pos_dim,\n",
    "        depth, \n",
    "        heads, \n",
    "        mlp_dim, \n",
    "        channels=3, \n",
    "        dropout=0.1\n",
    "    ):\n",
    "        super(ViT, self).__init__()\n",
    "        assert image_size % patch_size == 0, 'Image size must be divisible by patch size'\n",
    "        assert dim == proj_dim + pos_dim, 'proj_dim + pos_dim must equal dim'\n",
    "        \n",
    "        self.num_patches = (image_size // patch_size) ** 2\n",
    "        patch_dim = channels * patch_size ** 2\n",
    "        \n",
    "        self.patch_size = patch_size\n",
    "        self.h_patches = image_size // patch_size\n",
    "        self.w_patches = image_size // patch_size\n",
    "        \n",
    "        # Patch embedding - project to lower dimension (3d/4)\n",
    "        self.to_patch_embedding = nn.Linear(patch_dim, proj_dim)\n",
    "        \n",
    "        # Class token\n",
    "        self.cls_token = nn.Parameter(torch.randn(1, 1, dim))\n",
    "        \n",
    "        # Generate positional encodings\n",
    "        # self.pos_encoder = SinCos2DPositionalEncoding(pos_dim, self.h_patches, self.w_patches)\n",
    "        self.pos_encoder_1 = DFT2DPositionalEncoding(\n",
    "            patch_size=patch_size,\n",
    "            dim=pos_dim//2,\n",
    "            add_cls_token=True\n",
    "        )\n",
    "        self.pos_encoder_2 = SinCos2DPositionalEncoding(pos_dim//2, self.h_patches, self.w_patches)\n",
    "\n",
    "        # Register positional encodings as buffers\n",
    "        # self.register_buffer('patch_pos_enc', self.pos_encoder.pos_enc)\n",
    "        # self.register_buffer('cls_pos_enc', self.pos_encoder.cls_pos_enc)\n",
    "        \n",
    "        # Dropout\n",
    "        self.dropout = nn.Dropout(dropout)\n",
    "        \n",
    "        # Transformer blocks\n",
    "        self.transformer_blocks = nn.ModuleList([\n",
    "            TransformerBlock(dim, heads, mlp_dim, dropout) for _ in range(depth)\n",
    "        ])\n",
    "        \n",
    "        # MLP Head\n",
    "        self.mlp_head = nn.Sequential(\n",
    "            nn.LayerNorm(dim),\n",
    "            nn.Linear(dim, num_classes)\n",
    "        )\n",
    "        \n",
    "    def forward(self, img):\n",
    "        # Get batch size and reshape image into patches\n",
    "        b, c, h, w = img.shape\n",
    "        \n",
    "        # Split image into patches\n",
    "        patches = img.unfold(2, self.patch_size, self.patch_size).unfold(3, self.patch_size, self.patch_size)\n",
    "        patches = patches.contiguous().view(b, c, -1, self.patch_size, self.patch_size)\n",
    "        # patches = patches.permute(0, 2, 1, 3, 4).contiguous().view(b, -1, c * self.patch_size * self.patch_size)\n",
    "        patches = patches.permute(0, 2, 1, 3, 4)\n",
    "\n",
    "        patches_avg = patches.mean(dim=2)\n",
    "        patches_flat = patches_avg.reshape(b, -1, self.patch_size * self.patch_size)\n",
    "        # Project patches to embedding dimension (3d/4)\n",
    "        # x = self.to_patch_embedding(patches)  # (b, num_patches, proj_dim)\n",
    "        patches_proj = patches.reshape(b, -1, c * self.patch_size * self.patch_size)\n",
    "        x = self.to_patch_embedding(patches_proj)\n",
    "        pos_enc_1 = self.pos_encoder_1(patches_flat)[:, 1:, :]  # (B, N, pos_dim)\n",
    "        pos_enc_2 = self.pos_encoder_2.pos_enc[:, 1:, :].repeat(b, 1, 1)  \n",
    "        # print(x.shape)\n",
    "        # Get positional encodings for all patches (d/4)\n",
    "        # pos_enc = self.patch_pos_enc.repeat(b, 1, 1)  # (b, num_patches, pos_dim)\n",
    "        # pos_enc = self.pos_encoder.pos_enc[:, 1:, :].repeat(b, 1, 1)\n",
    "        # pos_enc = self.pos_encoder(patches)[:, 1:, :]\n",
    "        # Concatenate embeddings with positional encodings\n",
    "        x = torch.cat([x, pos_enc_1, pos_enc_2], dim=2)  # (b, num_patches, dim)\n",
    "        \n",
    "        # Add class token (already of full dimension)\n",
    "        cls_tokens = self.cls_token.expand(b, -1, -1)\n",
    "        x = torch.cat((cls_tokens, x), dim=1)  # (b, 1+num_patches, dim)\n",
    "        \n",
    "        # Apply dropout\n",
    "        x = self.dropout(x)\n",
    "        \n",
    "        # Apply transformer blocks\n",
    "        for block in self.transformer_blocks:\n",
    "            x = block(x)\n",
    "        \n",
    "        # Get the class token representation\n",
    "        x = x[:, 0]\n",
    "        \n",
    "        # MLP head\n",
    "        return self.mlp_head(x)\n",
    "\n",
    "# Create model, optimizer, and loss function\n",
    "model = ViT(\n",
    "    image_size=image_size,\n",
    "    patch_size=patch_size,\n",
    "    num_classes=num_classes,\n",
    "    dim=dim,\n",
    "    proj_dim=proj_dim,\n",
    "    pos_dim=pos_dim,\n",
    "    depth=depth,\n",
    "    heads=heads,\n",
    "    mlp_dim=mlp_dim,\n",
    "    channels=channels,\n",
    "    dropout=dropout\n",
    ").to(device)\n",
    "\n",
    "optimizer = optim.AdamW(model.parameters(), lr=learning_rate, weight_decay=weight_decay)\n",
    "scheduler = optim.lr_scheduler.CosineAnnealingLR(optimizer, T_max=num_epochs)\n",
    "criterion = nn.CrossEntropyLoss()\n",
    "\n",
    "# Training loop\n",
    "train_losses = []\n",
    "train_accs = []\n",
    "test_losses = []\n",
    "test_accs = []\n",
    "\n",
    "def train_one_epoch(model, train_loader, optimizer, criterion, epoch):\n",
    "    model.train()\n",
    "    running_loss = 0.0\n",
    "    correct = 0\n",
    "    total = 0\n",
    "    \n",
    "    pbar = tqdm(train_loader, desc=f'Epoch {epoch+1}/{num_epochs}')\n",
    "    for batch_idx, (inputs, targets) in enumerate(pbar):\n",
    "        inputs, targets = inputs.to(device), targets.to(device)\n",
    "        \n",
    "        # Zero gradients\n",
    "        optimizer.zero_grad()\n",
    "        \n",
    "        # Forward pass\n",
    "        outputs = model(inputs)\n",
    "        loss = criterion(outputs, targets)\n",
    "        \n",
    "        # Backward pass and optimize\n",
    "        loss.backward()\n",
    "        optimizer.step()\n",
    "        \n",
    "        # Statistics\n",
    "        running_loss += loss.item()\n",
    "        _, predicted = outputs.max(1)\n",
    "        total += targets.size(0)\n",
    "        correct += predicted.eq(targets).sum().item()\n",
    "        \n",
    "        # Update progress bar\n",
    "        pbar.set_postfix({\n",
    "            'loss': running_loss / (batch_idx + 1),\n",
    "            'acc': 100. * correct / total\n",
    "        })\n",
    "    \n",
    "    train_loss = running_loss / len(train_loader)\n",
    "    train_acc = 100. * correct / total\n",
    "    \n",
    "    return train_loss, train_acc\n",
    "\n",
    "def test(model, test_loader, criterion):\n",
    "    model.eval()\n",
    "    running_loss = 0.0\n",
    "    correct = 0\n",
    "    total = 0\n",
    "    \n",
    "    with torch.no_grad():\n",
    "        for batch_idx, (inputs, targets) in enumerate(test_loader):\n",
    "            inputs, targets = inputs.to(device), targets.to(device)\n",
    "            \n",
    "            # Forward pass\n",
    "            outputs = model(inputs)\n",
    "            loss = criterion(outputs, targets)\n",
    "            \n",
    "            # Statistics\n",
    "            running_loss += loss.item()\n",
    "            _, predicted = outputs.max(1)\n",
    "            total += targets.size(0)\n",
    "            correct += predicted.eq(targets).sum().item()\n",
    "    \n",
    "    test_loss = running_loss / len(test_loader)\n",
    "    test_acc = 100. * correct / total\n",
    "    \n",
    "    print(f'Test Loss: {test_loss:.4f}, Test Acc: {test_acc:.2f}%')\n",
    "    \n",
    "    return test_loss, test_acc\n",
    "\n",
    "# Main training loop\n",
    "for epoch in range(num_epochs):\n",
    "    # Train\n",
    "    train_loss, train_acc = train_one_epoch(model, train_loader, optimizer, criterion, epoch)\n",
    "    train_losses.append(train_loss)\n",
    "    train_accs.append(train_acc)\n",
    "    \n",
    "    # Test\n",
    "    test_loss, test_acc = test(model, test_loader, criterion)\n",
    "    test_losses.append(test_loss)\n",
    "    test_accs.append(test_acc)\n",
    "    \n",
    "    # Update learning rate\n",
    "    scheduler.step()\n",
    "    \n",
    "    print(f'Epoch {epoch+1}/{num_epochs}: Train Loss: {train_loss:.4f}, Train Acc: {train_acc:.2f}%, Test Loss: {test_loss:.4f}, Test Acc: {test_acc:.2f}%')\n",
    "\n",
    "# Plot training and testing curves\n",
    "plt.figure(figsize=(12, 5))\n",
    "\n",
    "plt.subplot(1, 2, 1)\n",
    "plt.plot(train_losses, label='Train Loss')\n",
    "plt.plot(test_losses, label='Test Loss')\n",
    "plt.xlabel('Epoch')\n",
    "plt.ylabel('Loss')\n",
    "plt.legend()\n",
    "plt.title('Loss Curves')\n",
    "\n",
    "plt.subplot(1, 2, 2)\n",
    "plt.plot(train_accs, label='Train Accuracy')\n",
    "plt.plot(test_accs, label='Test Accuracy')\n",
    "plt.xlabel('Epoch')\n",
    "plt.ylabel('Accuracy (%)')\n",
    "plt.legend()\n",
    "plt.title('Accuracy Curves')\n",
    "\n",
    "plt.tight_layout()\n",
    "plt.savefig('vit_training_curves.png')\n",
    "plt.show()\n",
    "\n",
    "# Save the model\n",
    "torch.save(model.state_dict(), f'vit_cifar10_1_3-stft-sc-heavyaug-{num_epochs}ep.pth')\n",
    "print(f'Training complete. Model saved to vit_cifar10_1_3-stft-sc-heavyaug-{num_epochs}ep.pth')"
   ]
  },
  {
   "cell_type": "code",
   "execution_count": 2,
   "metadata": {},
   "outputs": [],
   "source": [
    "import torch\n",
    "import torch.nn as nn\n",
    "import numpy as np\n",
    "import torch.fft as fft\n",
    "\n",
    "class FrequencyPixelAttacks(nn.Module):\n",
    "    \"\"\"\n",
    "    A PyTorch transform to apply various frequency-based and pixel-based attacks.\n",
    "    \"\"\"\n",
    "    def __init__(self, attack_type='phase', epsilon=0.1, frequency_radius=0.1, num_pixels=100, noise_std=0.05, seed=None):\n",
    "        super(FrequencyPixelAttacks, self).__init__()\n",
    "        self.attack_type = attack_type\n",
    "        self.epsilon = epsilon\n",
    "        self.frequency_radius = frequency_radius\n",
    "        self.num_pixels = num_pixels\n",
    "        self.noise_std = noise_std\n",
    "        if seed is not None:\n",
    "            torch.manual_seed(seed)\n",
    "            np.random.seed(seed)\n",
    "    \n",
    "    def forward(self, img):\n",
    "        perturbed_img = img.clone().detach()\n",
    "        if self.attack_type == 'phase':\n",
    "            perturbed_img = self._phase_attack(perturbed_img)\n",
    "        elif self.attack_type == 'magnitude':\n",
    "            perturbed_img = self._magnitude_attack(perturbed_img)\n",
    "        elif self.attack_type == 'low_freq':\n",
    "            perturbed_img = self._low_frequency_attack(perturbed_img)\n",
    "        elif self.attack_type == 'high_freq':\n",
    "            perturbed_img = self._high_frequency_attack(perturbed_img)\n",
    "        elif self.attack_type == 'pixel':\n",
    "            perturbed_img = self._pixel_attack(perturbed_img)\n",
    "        elif self.attack_type == 'normal':\n",
    "            perturbed_img = self._normal_noise_attack(perturbed_img)\n",
    "        else:\n",
    "            raise ValueError(f\"Unknown attack type: {self.attack_type}\")\n",
    "        return torch.clamp(perturbed_img, 0, 1)\n",
    "    \n",
    "    def _phase_attack(self, img):\n",
    "        batch, channels, height, width = img.shape\n",
    "        perturbed_img = torch.zeros_like(img)\n",
    "        for c in range(channels):\n",
    "            f_transform = fft.fftshift(fft.fft2(img[:, c]))\n",
    "            magnitude = torch.abs(f_transform)\n",
    "            phase = torch.angle(f_transform)\n",
    "            phase_noise = torch.randn_like(phase) * self.epsilon\n",
    "            perturbed_phase = phase + phase_noise\n",
    "            f_transform_perturbed = magnitude * torch.exp(1j * perturbed_phase)\n",
    "            img_perturbed = fft.ifft2(fft.ifftshift(f_transform_perturbed)).real\n",
    "            perturbed_img[:, c] = img_perturbed\n",
    "        return perturbed_img\n",
    "    \n",
    "    def _magnitude_attack(self, img):\n",
    "        batch, channels, height, width = img.shape\n",
    "        perturbed_img = torch.zeros_like(img)\n",
    "        for c in range(channels):\n",
    "            f_transform = fft.fftshift(fft.fft2(img[:, c]))\n",
    "            magnitude = torch.abs(f_transform)\n",
    "            phase = torch.angle(f_transform)\n",
    "            magnitude_noise = torch.randn_like(magnitude) * self.epsilon * magnitude\n",
    "            perturbed_magnitude = magnitude + magnitude_noise\n",
    "            f_transform_perturbed = perturbed_magnitude * torch.exp(1j * phase)\n",
    "            img_perturbed = fft.ifft2(fft.ifftshift(f_transform_perturbed)).real\n",
    "            perturbed_img[:, c] = img_perturbed\n",
    "        return perturbed_img\n",
    "    \n",
    "    def _create_frequency_mask(self, height, width, is_low_freq=True):\n",
    "        y_indices, x_indices = torch.meshgrid(torch.arange(height), torch.arange(width), indexing='ij')\n",
    "        y_indices = y_indices - height // 2\n",
    "        x_indices = x_indices - width // 2\n",
    "        distance = torch.sqrt(y_indices**2 + x_indices**2).float()\n",
    "        max_distance = torch.sqrt(torch.tensor(height**2 + width**2, dtype=torch.float32))\n",
    "        distance /= max_distance\n",
    "        return (distance <= self.frequency_radius).float() if is_low_freq else (distance >= (1 - self.frequency_radius)).float()\n",
    "    \n",
    "    def _low_frequency_attack(self, img):\n",
    "        batch, channels, height, width = img.shape\n",
    "        perturbed_img = torch.zeros_like(img)\n",
    "        mask = self._create_frequency_mask(height, width, is_low_freq=True).to(img.device)\n",
    "        for c in range(channels):\n",
    "            f_transform = fft.fftshift(fft.fft2(img[:, c]))\n",
    "            noise = (torch.randn_like(f_transform.real) + 1j * torch.randn_like(f_transform.imag)) * self.epsilon\n",
    "            f_transform_perturbed = f_transform + noise * mask\n",
    "            img_perturbed = fft.ifft2(fft.ifftshift(f_transform_perturbed)).real\n",
    "            perturbed_img[:, c] = img_perturbed\n",
    "        return perturbed_img\n",
    "    \n",
    "    def _high_frequency_attack(self, img):\n",
    "        batch, channels, height, width = img.shape\n",
    "        perturbed_img = torch.zeros_like(img)\n",
    "        mask = self._create_frequency_mask(height, width, is_low_freq=False).to(img.device)\n",
    "        for c in range(channels):\n",
    "            f_transform = fft.fftshift(fft.fft2(img[:, c]))\n",
    "            noise = (torch.randn_like(f_transform.real) + 1j * torch.randn_like(f_transform.imag)) * self.epsilon\n",
    "            f_transform_perturbed = f_transform + noise * mask\n",
    "            img_perturbed = fft.ifft2(fft.ifftshift(f_transform_perturbed)).real\n",
    "            perturbed_img[:, c] = img_perturbed\n",
    "        return perturbed_img\n",
    "    \n",
    "    def _pixel_attack(self, img):\n",
    "        batch, channels, height, width = img.shape\n",
    "        perturbed_img = img.clone()\n",
    "        num_pixels = min(self.num_pixels, height * width)\n",
    "        pixel_indices = torch.randint(0, height * width, (batch, num_pixels))\n",
    "        y_indices, x_indices = pixel_indices // width, pixel_indices % width\n",
    "        for b in range(batch):\n",
    "            for c in range(channels):\n",
    "                for i in range(num_pixels):\n",
    "                    perturbed_img[b, c, y_indices[b, i], x_indices[b, i]] += torch.randn(1).item() * self.epsilon\n",
    "        return perturbed_img\n",
    "    \n",
    "    def _normal_noise_attack(self, img):\n",
    "        noise = torch.randn_like(img) * self.noise_std\n",
    "        return img + noise\n",
    "\n",
    "def display_image(original, adversarial):\n",
    "    \"\"\"Display last batch of original and adversarial images.\"\"\"\n",
    "    fig, axes = plt.subplots(2, len(original), figsize=(16, 10))\n",
    "    \n",
    "    for i in range(len(original)):\n",
    "        orig_img = original[i].permute(1, 2, 0).cpu().numpy()\n",
    "        adv_img = adversarial[i].permute(1, 2, 0).cpu().numpy()\n",
    "        \n",
    "        orig_img = np.clip(orig_img, 0, 1)\n",
    "        adv_img = np.clip(adv_img, 0, 1)\n",
    "\n",
    "        \n",
    "        axes[0, i].imshow(orig_img)\n",
    "        axes[0, i].axis(\"off\")\n",
    "\n",
    "        axes[1, i].imshow(adv_img)\n",
    "        axes[1, i].axis(\"off\")\n",
    "\n",
    "    plt.show()\n",
    "\n",
    "\n",
    "def train_adversary(model):\n",
    "    device = torch.device(\"cuda\" if torch.cuda.is_available() else \"cpu\")\n",
    "\n",
    "    # 1. Freeze the model (so only adversary parameters are updated)\n",
    "    for param in model.parameters():\n",
    "        param.requires_grad = False\n",
    "    model.eval()\n",
    "    \n",
    "    # 2. Evaluate adversarial attack on test data\n",
    "    # _, test_loader, _ = load_dataset(\n",
    "    #     dataset_name='cifar10', \n",
    "    #     batch_size=1, \n",
    "    #     img_size=32\n",
    "    # )\n",
    "    test_dataset = datasets.CIFAR10(root='./data', train=False, download=True, transform=transform_test)\n",
    "    \n",
    "    test_loader = DataLoader(test_dataset, batch_size=1, shuffle=False, num_workers=4)\n",
    "    \n",
    "    # test_loader = load_pets_test(batch_size=1)  # Load test dataset\n",
    "    test_dataset = test_loader.dataset  # Get dataset without batching\n",
    "\n",
    "    attacks = [\n",
    "        {'attack_type': 'phase', 'epsilon': 0.1, 'frequency_radius': 0.1, 'num_pixels': 100, 'noise_std': 0.05, 'name': 'phase_weak'},\n",
    "        {'attack_type': 'phase', 'epsilon': 0.5, 'frequency_radius': 0.1, 'num_pixels': 100, 'noise_std': 0.05, 'name': 'phase_strong'},\n",
    "        {'attack_type': 'magnitude', 'epsilon': 0.1, 'frequency_radius': 0.1, 'num_pixels': 100, 'noise_std': 0.05, 'name': 'magnitude_weak'},\n",
    "        {'attack_type': 'magnitude', 'epsilon': 0.5, 'frequency_radius': 0.1, 'num_pixels': 100, 'noise_std': 0.05, 'name': 'magnitude_strong'},\n",
    "        # {'attack_type': 'low_freq', 'epsilon': 0.2, 'frequency_radius': 0.1, 'num_pixels': 100, 'noise_std': 0.05, 'name': 'low_freq_small_radius'},\n",
    "        # {'attack_type': 'low_freq', 'epsilon': 0.2, 'frequency_radius': 0.3, 'num_pixels': 100, 'noise_std': 0.05, 'name': 'low_freq_large_radius'},\n",
    "        # {'attack_type': 'high_freq', 'epsilon': 0.2, 'frequency_radius': 0.1, 'num_pixels': 100, 'noise_std': 0.05, 'name': 'high_freq_small_radius'},\n",
    "        # {'attack_type': 'high_freq', 'epsilon': 0.2, 'frequency_radius': 0.3, 'num_pixels': 100, 'noise_std': 0.05, 'name': 'high_freq_large_radius'},\n",
    "        {'attack_type': 'normal', 'epsilon': 0.1,  'frequency_radius': 0.1, 'num_pixels': 100, 'noise_std': 0.05, 'name': 'normal_weak'},\n",
    "        {'attack_type': 'normal', 'epsilon': 0.1, 'frequency_radius': 0.1, 'num_pixels': 100, 'noise_std': 0.2, 'name': 'normal_strong'},\n",
    "        # {'attack_type': 'pixel', 'epsilon': 0.5, 'frequency_radius': 0.1, 'num_pixels': 100, 'noise_std': 0.05, 'name': 'pixel_few'},\n",
    "        # {'attack_type': 'pixel', 'epsilon': 0.5, 'frequency_radius': 0.1, 'num_pixels': 1000, 'noise_std': 0.05, 'name': 'pixel_many'}\n",
    "    ]\n",
    "\n",
    "    for attack in attacks:\n",
    "        total_correct_original = 0\n",
    "        total_correct_perturbed = 0\n",
    "        total_samples = 0\n",
    "        last_batch_images = []\n",
    "        last_batch_perturbed = []\n",
    "        \n",
    "        adversary = FrequencyPixelAttacks(attack[\"attack_type\"], attack[\"epsilon\"], attack[\"frequency_radius\"], attack[\"num_pixels\"], attack[\"noise_std\"])\n",
    "\n",
    "        # Process each image individually\n",
    "        for i in range(len(test_dataset)):\n",
    "            image, label = test_dataset[i]  # Get single image and label\n",
    "            image, label = image.to(device).unsqueeze(0), torch.tensor([label]).to(device)  # Add batch dimension\n",
    "\n",
    "            # image = image.squeeze(0)  # Removes the batch dimension\n",
    "            perturbed_image = adversary(image)\n",
    "            \n",
    "            with torch.no_grad():\n",
    "                y_hat = model(image)\n",
    "                y_pred = model(perturbed_image)\n",
    "            \n",
    "            pred_original = torch.argmax(y_hat, dim=1)\n",
    "            pred_perturbed = torch.argmax(y_pred, dim=1)\n",
    "            \n",
    "            total_correct_original += (pred_original == label).item()\n",
    "            total_correct_perturbed += (pred_perturbed == label).item()\n",
    "            total_samples += 1  # Each image is processed individually\n",
    "            \n",
    "            if i < 5:  # Store only a few images for visualization\n",
    "                last_batch_images.append(image.cpu().squeeze(0))\n",
    "                last_batch_perturbed.append(perturbed_image.cpu().squeeze(0))\n",
    "\n",
    "        original_acc = (total_correct_original / total_samples) * 100\n",
    "        perturbed_acc = (total_correct_perturbed / total_samples) * 100\n",
    "    \n",
    "        print(f\"Attack: {attack['name']}\")\n",
    "        print(\"Total Samples: \", total_samples)\n",
    "        print(f\"Accuracy on Original Images: {original_acc:.2f}%\")\n",
    "        print(f\"Accuracy on Perturbed Images: {perturbed_acc:.2f}%\")\n",
    "\n",
    "        display_image(last_batch_images, last_batch_perturbed)"
   ]
  },
  {
   "cell_type": "code",
   "execution_count": 3,
   "metadata": {
    "execution": {
     "iopub.execute_input": "2025-04-01T14:40:29.029414Z",
     "iopub.status.busy": "2025-04-01T14:40:29.029120Z",
     "iopub.status.idle": "2025-04-01T14:53:38.128938Z",
     "shell.execute_reply": "2025-04-01T14:53:38.128191Z",
     "shell.execute_reply.started": "2025-04-01T14:40:29.029393Z"
    },
    "trusted": true
   },
   "outputs": [
    {
     "name": "stdout",
     "output_type": "stream",
     "text": [
      "Attack: phase_weak\n",
      "Total Samples:  10000\n",
      "Accuracy on Original Images: 85.48%\n",
      "Accuracy on Perturbed Images: 45.46%\n"
     ]
    },
    {
     "data": {
      "image/png": "[encoded data removed]",
      "text/plain": [
       "<Figure size 1600x1000 with 10 Axes>"
      ]
     },
     "metadata": {},
     "output_type": "display_data"
    },
    {
     "name": "stdout",
     "output_type": "stream",
     "text": [
      "Attack: phase_strong\n",
      "Total Samples:  10000\n",
      "Accuracy on Original Images: 85.48%\n",
      "Accuracy on Perturbed Images: 39.63%\n"
     ]
    },
    {
     "data": {
      "image/png": "[encoded data removed]",
      "text/plain": [
       "<Figure size 1600x1000 with 10 Axes>"
      ]
     },
     "metadata": {},
     "output_type": "display_data"
    },
    {
     "name": "stdout",
     "output_type": "stream",
     "text": [
      "Attack: magnitude_weak\n",
      "Total Samples:  10000\n",
      "Accuracy on Original Images: 85.48%\n",
      "Accuracy on Perturbed Images: 44.99%\n"
     ]
    },
    {
     "data": {
      "image/png": "[encoded data removed]",
      "text/plain": [
       "<Figure size 1600x1000 with 10 Axes>"
      ]
     },
     "metadata": {},
     "output_type": "display_data"
    },
    {
     "name": "stdout",
     "output_type": "stream",
     "text": [
      "Attack: magnitude_strong\n",
      "Total Samples:  10000\n",
      "Accuracy on Original Images: 85.48%\n",
      "Accuracy on Perturbed Images: 38.84%\n"
     ]
    },
    {
     "data": {
      "image/png": "[encoded data removed]",
      "text/plain": [
       "<Figure size 1600x1000 with 10 Axes>"
      ]
     },
     "metadata": {},
     "output_type": "display_data"
    },
    {
     "name": "stdout",
     "output_type": "stream",
     "text": [
      "Attack: normal_weak\n",
      "Total Samples:  10000\n",
      "Accuracy on Original Images: 85.48%\n",
      "Accuracy on Perturbed Images: 45.73%\n"
     ]
    },
    {
     "data": {
      "image/png": "[encoded data removed]",
      "text/plain": [
       "<Figure size 1600x1000 with 10 Axes>"
      ]
     },
     "metadata": {},
     "output_type": "display_data"
    },
    {
     "name": "stdout",
     "output_type": "stream",
     "text": [
      "Attack: normal_strong\n",
      "Total Samples:  10000\n",
      "Accuracy on Original Images: 85.48%\n",
      "Accuracy on Perturbed Images: 42.76%\n"
     ]
    },
    {
     "data": {
      "image/png": "[encoded data removed]",
      "text/plain": [
       "<Figure size 1600x1000 with 10 Axes>"
      ]
     },
     "metadata": {},
     "output_type": "display_data"
    }
   ],
   "source": [
    "train_adversary(model)"
   ]
  },
  {
   "cell_type": "code",
   "execution_count": 4,
   "metadata": {},
   "outputs": [
    {
     "name": "stdout",
     "output_type": "stream",
     "text": [
      "Total number of parameters: 3171818\n"
     ]
    }
   ],
   "source": [
    "total_params = sum(p.numel() for p in model.parameters())\n",
    "print(f\"Total number of parameters: {total_params}\")"
   ]
  },
  {
   "cell_type": "code",
   "execution_count": 5,
   "metadata": {},
   "outputs": [
    {
     "name": "stdout",
     "output_type": "stream",
     "text": [
      "ViT(\n",
      "  (to_patch_embedding): Linear(in_features=48, out_features=192, bias=True)\n",
      "  (pos_encoder_1): DFT2DPositionalEncoding(\n",
      "    (project): Linear(in_features=32, out_features=32, bias=True)\n",
      "  )\n",
      "  (pos_encoder_2): SinCos2DPositionalEncoding()\n",
      "  (dropout): Dropout(p=0.1, inplace=False)\n",
      "  (transformer_blocks): ModuleList(\n",
      "    (0-5): 6 x TransformerBlock(\n",
      "      (norm1): LayerNorm((256,), eps=1e-05, elementwise_affine=True)\n",
      "      (attn): MultiHeadSelfAttention(\n",
      "        (to_qkv): Linear(in_features=256, out_features=768, bias=False)\n",
      "        (to_out): Linear(in_features=256, out_features=256, bias=True)\n",
      "        (dropout): Dropout(p=0.1, inplace=False)\n",
      "      )\n",
      "      (norm2): LayerNorm((256,), eps=1e-05, elementwise_affine=True)\n",
      "      (mlp): MLP(\n",
      "        (net): Sequential(\n",
      "          (0): Linear(in_features=256, out_features=512, bias=True)\n",
      "          (1): GELU(approximate='none')\n",
      "          (2): Dropout(p=0.1, inplace=False)\n",
      "          (3): Linear(in_features=512, out_features=256, bias=True)\n",
      "          (4): Dropout(p=0.1, inplace=False)\n",
      "        )\n",
      "      )\n",
      "    )\n",
      "  )\n",
      "  (mlp_head): Sequential(\n",
      "    (0): LayerNorm((256,), eps=1e-05, elementwise_affine=True)\n",
      "    (1): Linear(in_features=256, out_features=10, bias=True)\n",
      "  )\n",
      ")\n"
     ]
    }
   ],
   "source": [
    "print(model)"
   ]
  }
 ],
 "metadata": {
  "kaggle": {
   "accelerator": "gpu",
   "dataSources": [],
   "dockerImageVersionId": 30919,
   "isGpuEnabled": true,
   "isInternetEnabled": true,
   "language": "python",
   "sourceType": "notebook"
  },
  "kernelspec": {
   "display_name": "ml",
   "language": "python",
   "name": "python3"
  },
  "language_info": {
   "codemirror_mode": {
    "name": "ipython",
    "version": 3
   },
   "file_extension": ".py",
   "mimetype": "text/x-python",
   "name": "python",
   "nbconvert_exporter": "python",
   "pygments_lexer": "ipython3",
   "version": "3.10.16"
  }
 },
 "nbformat": 4,
 "nbformat_minor": 4
}
