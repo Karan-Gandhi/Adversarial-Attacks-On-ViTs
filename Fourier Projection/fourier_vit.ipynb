{
 "cells": [
  {
   "cell_type": "code",
   "execution_count": 1,
   "id": "11aa6c4d",
   "metadata": {},
   "outputs": [
    {
     "name": "stdout",
     "output_type": "stream",
     "text": [
      "Using device: cuda\n"
     ]
    }
   ],
   "source": [
    "import torch\n",
    "import torch.nn as nn\n",
    "import torch.nn.functional as F\n",
    "import torch.optim as optim\n",
    "from torch.utils.data import DataLoader\n",
    "from torchvision import datasets, transforms\n",
    "import math\n",
    "import matplotlib.pyplot as plt\n",
    "import numpy as np\n",
    "from tqdm import tqdm\n",
    "\n",
    "# Set random seed for reproducibility\n",
    "torch.manual_seed(42)\n",
    "device = torch.device(\"cuda\" if torch.cuda.is_available() else \"cpu\")\n",
    "print(f\"Using device: {device}\")"
   ]
  },
  {
   "cell_type": "code",
   "execution_count": 2,
   "id": "1f5ea3b1",
   "metadata": {},
   "outputs": [],
   "source": [
    "# Hyperparameters\n",
    "batch_size = 128\n",
    "num_epochs = 50\n",
    "learning_rate = 3e-4\n",
    "weight_decay = 1e-4\n",
    "\n",
    "image_size = 32\n",
    "patch_size = 4\n",
    "num_classes = 10\n",
    "dim = 256\n",
    "depth = 6\n",
    "heads = 8\n",
    "mlp_dim = 512\n",
    "channels = 3\n",
    "dropout = 0.1\n",
    "\n",
    "# Data Loading and Preprocessing\n",
    "transform_train = transforms.Compose([\n",
    "    transforms.RandomCrop(32, padding=4),\n",
    "    transforms.RandomHorizontalFlip(),\n",
    "    transforms.ToTensor(),\n",
    "    transforms.Normalize((0.4914, 0.4822, 0.4465), (0.2023, 0.1994, 0.2010)),\n",
    "])\n",
    "\n",
    "transform_test = transforms.Compose([\n",
    "    transforms.ToTensor(),\n",
    "    transforms.Normalize((0.4914, 0.4822, 0.4465), (0.2023, 0.1994, 0.2010)),\n",
    "])\n",
    "\n",
    "train_dataset = datasets.CIFAR10(root='./data', train=True, download=True, transform=transform_train)\n",
    "test_dataset = datasets.CIFAR10(root='./data', train=False, download=True, transform=transform_test)\n",
    "\n",
    "train_loader = DataLoader(train_dataset, batch_size=batch_size, shuffle=True, num_workers=4)\n",
    "test_loader = DataLoader(test_dataset, batch_size=batch_size, shuffle=False, num_workers=4)"
   ]
  },
  {
   "cell_type": "code",
   "execution_count": 3,
   "id": "a8d4a59d",
   "metadata": {},
   "outputs": [],
   "source": [
    "# Sinusoidal Positional Encoding\n",
    "class SinCosPositionalEncoding(nn.Module):\n",
    "    def __init__(self, dim, n_position=200):\n",
    "        super(SinCosPositionalEncoding, self).__init__()\n",
    "        self.dim = dim\n",
    "        \n",
    "        # Create constant positional encoding matrix\n",
    "        pe = torch.zeros(n_position, dim)\n",
    "        position = torch.arange(0, n_position).unsqueeze(1).float()\n",
    "        div_term = torch.exp(torch.arange(0, dim, 2).float() * -(math.log(10000.0) / dim))\n",
    "        \n",
    "        pe[:, 0::2] = torch.sin(position * div_term)\n",
    "        pe[:, 1::2] = torch.cos(position * div_term)\n",
    "        pe = pe.unsqueeze(0)\n",
    "        self.register_buffer('pe', pe)\n",
    "        \n",
    "    def forward(self, x):\n",
    "        return x + self.pe[:, :x.size(1)].to(x.device)\n",
    "\n",
    "# 2D Sinusoidal Positional Encoding for Vision Transformer\n",
    "class SinCos2DPositionalEncoding(nn.Module):\n",
    "    def __init__(self, dim, h=8, w=8):\n",
    "        super(SinCos2DPositionalEncoding, self).__init__()\n",
    "        \n",
    "        # Create 2D positional encoding\n",
    "        pos_enc = torch.zeros(h, w, dim)\n",
    "        \n",
    "        # Separate channels for width and height dimensions\n",
    "        dim_h = dim // 2\n",
    "        dim_w = dim // 2\n",
    "        \n",
    "        # Position indices\n",
    "        y_pos = torch.arange(h).unsqueeze(1).repeat(1, w).reshape(h, w)\n",
    "        x_pos = torch.arange(w).unsqueeze(0).repeat(h, 1).reshape(h, w)\n",
    "        \n",
    "        # Create division term for computing positional encoding values\n",
    "        div_term_h = torch.exp(torch.arange(0, dim_h, 2).float() * -(math.log(10000.0) / dim_h))\n",
    "        div_term_w = torch.exp(torch.arange(0, dim_w, 2).float() * -(math.log(10000.0) / dim_w))\n",
    "        \n",
    "        # Apply sin and cos to odd and even indices\n",
    "        for i in range(0, dim_h, 2):\n",
    "            if i < dim_h:\n",
    "                pos_enc[:, :, i] = torch.sin(y_pos.float() * div_term_h[i//2])\n",
    "                pos_enc[:, :, i+1] = torch.cos(y_pos.float() * div_term_h[i//2])\n",
    "            \n",
    "        for i in range(0, dim_w, 2):\n",
    "            if i + dim_h < dim:\n",
    "                pos_enc[:, :, i+dim_h] = torch.sin(x_pos.float() * div_term_w[i//2])\n",
    "                pos_enc[:, :, i+dim_h+1] = torch.cos(x_pos.float() * div_term_w[i//2])\n",
    "        \n",
    "        # Flatten the positional encoding to match the sequence format (h*w, dim)\n",
    "        pos_enc = pos_enc.reshape(h * w, dim)\n",
    "        \n",
    "        # Add extra position for class token\n",
    "        cls_pos_enc = torch.zeros(1, dim)\n",
    "        pos_enc = torch.cat([cls_pos_enc, pos_enc], dim=0)\n",
    "        \n",
    "        # Register as buffer (persistent but not model parameter)\n",
    "        self.register_buffer('pos_enc', pos_enc.unsqueeze(0))\n",
    "        \n",
    "    def forward(self, x):\n",
    "        return x + self.pos_enc\n",
    "\n",
    "# 2D Sinusoidal Positional Encoding Generator\n",
    "class SinCos2DPositionalEncodingAppend:\n",
    "    def __init__(self, pos_dim, h, w):\n",
    "        \"\"\"\n",
    "        Generate 2D sinusoidal positional encodings for image patches\n",
    "        \n",
    "        Args:\n",
    "            pos_dim: Dimension of the positional encoding vector\n",
    "            h: Number of patches in height dimension\n",
    "            w: Number of patches in width dimension\n",
    "        \"\"\"\n",
    "        self.pos_dim = pos_dim\n",
    "        self.h = h\n",
    "        self.w = w\n",
    "        \n",
    "        # Initialize positional encodings\n",
    "        self.generate_encodings()\n",
    "        \n",
    "    def generate_encodings(self):\n",
    "        # Create position indices\n",
    "        y_pos = torch.arange(self.h).unsqueeze(1).repeat(1, self.w).reshape(self.h, self.w)\n",
    "        x_pos = torch.arange(self.w).unsqueeze(0).repeat(self.h, 1).reshape(self.h, self.w)\n",
    "        \n",
    "        # Split dimensions for height and width\n",
    "        dim_h = self.pos_dim // 2\n",
    "        dim_w = self.pos_dim - dim_h  # In case pos_dim is odd\n",
    "        \n",
    "        # Division terms for computing positional encoding\n",
    "        div_term_h = torch.exp(torch.arange(0, dim_h, 2).float() * -(math.log(10000.0) / dim_h))\n",
    "        div_term_w = torch.exp(torch.arange(0, dim_w, 2).float() * -(math.log(10000.0) / dim_w))\n",
    "        \n",
    "        # Create positional encoding tensor\n",
    "        pos_enc = torch.zeros(self.h, self.w, self.pos_dim)\n",
    "        \n",
    "        # Apply sin and cos to encode height positions\n",
    "        for i in range(0, dim_h, 2):\n",
    "            if i < dim_h:\n",
    "                pos_enc[:, :, i] = torch.sin(y_pos.float() * div_term_h[i//2])\n",
    "                if i + 1 < dim_h:\n",
    "                    pos_enc[:, :, i+1] = torch.cos(y_pos.float() * div_term_h[i//2])\n",
    "        \n",
    "        # Apply sin and cos to encode width positions\n",
    "        for i in range(0, dim_w, 2):\n",
    "            if i + dim_h < self.pos_dim:\n",
    "                pos_enc[:, :, i+dim_h] = torch.sin(x_pos.float() * div_term_w[i//2])\n",
    "                if i + dim_h + 1 < self.pos_dim:\n",
    "                    pos_enc[:, :, i+dim_h+1] = torch.cos(x_pos.float() * div_term_w[i//2])\n",
    "        \n",
    "        # Reshape to (h*w, pos_dim)\n",
    "        self.pos_enc = pos_enc.reshape(self.h * self.w, self.pos_dim)\n",
    "        \n",
    "        # Create a special positional encoding for the class token\n",
    "        self.cls_pos_enc = torch.zeros(1, self.pos_dim)"
   ]
  },
  {
   "cell_type": "code",
   "execution_count": 4,
   "id": "66438766",
   "metadata": {},
   "outputs": [],
   "source": [
    "def reality_splitter(x):\n",
    "    # Compute the FFT of the input.\n",
    "    fft_x = torch.fft.fft2(x)\n",
    "    \n",
    "    # Split the FFT into real and imaginary parts.\n",
    "    real = fft_x.real\n",
    "    imag = fft_x.imag\n",
    "    \n",
    "    return real, imag"
   ]
  },
  {
   "cell_type": "code",
   "execution_count": 5,
   "id": "79a33522",
   "metadata": {},
   "outputs": [
    {
     "name": "stdout",
     "output_type": "stream",
     "text": [
      "Using device: cuda\n"
     ]
    },
    {
     "name": "stderr",
     "output_type": "stream",
     "text": [
      "Epoch 1/50: 100%|██████████| 391/391 [00:20<00:00, 18.78it/s, loss=1.76, acc=35.6]\n"
     ]
    },
    {
     "name": "stdout",
     "output_type": "stream",
     "text": [
      "Test Loss: 1.4884, Test Acc: 46.28%\n",
      "Epoch 1/50: Train Loss: 1.7641, Train Acc: 35.62%, Test Loss: 1.4884, Test Acc: 46.28%\n"
     ]
    },
    {
     "name": "stderr",
     "output_type": "stream",
     "text": [
      "Epoch 2/50: 100%|██████████| 391/391 [00:20<00:00, 18.77it/s, loss=1.49, acc=46.3]\n"
     ]
    },
    {
     "name": "stdout",
     "output_type": "stream",
     "text": [
      "Test Loss: 1.3398, Test Acc: 51.38%\n",
      "Epoch 2/50: Train Loss: 1.4898, Train Acc: 46.29%, Test Loss: 1.3398, Test Acc: 51.38%\n"
     ]
    },
    {
     "name": "stderr",
     "output_type": "stream",
     "text": [
      "Epoch 3/50: 100%|██████████| 391/391 [00:20<00:00, 18.77it/s, loss=1.39, acc=50]  \n"
     ]
    },
    {
     "name": "stdout",
     "output_type": "stream",
     "text": [
      "Test Loss: 1.2735, Test Acc: 54.05%\n",
      "Epoch 3/50: Train Loss: 1.3905, Train Acc: 50.00%, Test Loss: 1.2735, Test Acc: 54.05%\n"
     ]
    },
    {
     "name": "stderr",
     "output_type": "stream",
     "text": [
      "Epoch 4/50: 100%|██████████| 391/391 [00:20<00:00, 18.76it/s, loss=1.33, acc=52.3]\n"
     ]
    },
    {
     "name": "stdout",
     "output_type": "stream",
     "text": [
      "Test Loss: 1.2317, Test Acc: 55.39%\n",
      "Epoch 4/50: Train Loss: 1.3296, Train Acc: 52.27%, Test Loss: 1.2317, Test Acc: 55.39%\n"
     ]
    },
    {
     "name": "stderr",
     "output_type": "stream",
     "text": [
      "Epoch 5/50: 100%|██████████| 391/391 [00:20<00:00, 18.69it/s, loss=1.27, acc=54.2]\n"
     ]
    },
    {
     "name": "stdout",
     "output_type": "stream",
     "text": [
      "Test Loss: 1.1986, Test Acc: 56.72%\n",
      "Epoch 5/50: Train Loss: 1.2736, Train Acc: 54.24%, Test Loss: 1.1986, Test Acc: 56.72%\n"
     ]
    },
    {
     "name": "stderr",
     "output_type": "stream",
     "text": [
      "Epoch 6/50: 100%|██████████| 391/391 [00:20<00:00, 18.65it/s, loss=1.23, acc=56.1]\n"
     ]
    },
    {
     "name": "stdout",
     "output_type": "stream",
     "text": [
      "Test Loss: 1.1642, Test Acc: 58.14%\n",
      "Epoch 6/50: Train Loss: 1.2259, Train Acc: 56.10%, Test Loss: 1.1642, Test Acc: 58.14%\n"
     ]
    },
    {
     "name": "stderr",
     "output_type": "stream",
     "text": [
      "Epoch 7/50: 100%|██████████| 391/391 [00:20<00:00, 18.68it/s, loss=1.19, acc=57.3]\n"
     ]
    },
    {
     "name": "stdout",
     "output_type": "stream",
     "text": [
      "Test Loss: 1.1360, Test Acc: 59.05%\n",
      "Epoch 7/50: Train Loss: 1.1923, Train Acc: 57.30%, Test Loss: 1.1360, Test Acc: 59.05%\n"
     ]
    },
    {
     "name": "stderr",
     "output_type": "stream",
     "text": [
      "Epoch 8/50: 100%|██████████| 391/391 [00:20<00:00, 18.66it/s, loss=1.16, acc=58.4]\n"
     ]
    },
    {
     "name": "stdout",
     "output_type": "stream",
     "text": [
      "Test Loss: 1.1324, Test Acc: 59.62%\n",
      "Epoch 8/50: Train Loss: 1.1611, Train Acc: 58.35%, Test Loss: 1.1324, Test Acc: 59.62%\n"
     ]
    },
    {
     "name": "stderr",
     "output_type": "stream",
     "text": [
      "Epoch 9/50: 100%|██████████| 391/391 [00:20<00:00, 18.75it/s, loss=1.14, acc=59.1]\n"
     ]
    },
    {
     "name": "stdout",
     "output_type": "stream",
     "text": [
      "Test Loss: 1.0661, Test Acc: 61.94%\n",
      "Epoch 9/50: Train Loss: 1.1370, Train Acc: 59.13%, Test Loss: 1.0661, Test Acc: 61.94%\n"
     ]
    },
    {
     "name": "stderr",
     "output_type": "stream",
     "text": [
      "Epoch 10/50: 100%|██████████| 391/391 [00:20<00:00, 18.63it/s, loss=1.11, acc=60.4]\n"
     ]
    },
    {
     "name": "stdout",
     "output_type": "stream",
     "text": [
      "Test Loss: 1.0489, Test Acc: 62.75%\n",
      "Epoch 10/50: Train Loss: 1.1067, Train Acc: 60.36%, Test Loss: 1.0489, Test Acc: 62.75%\n"
     ]
    },
    {
     "name": "stderr",
     "output_type": "stream",
     "text": [
      "Epoch 11/50: 100%|██████████| 391/391 [00:20<00:00, 18.83it/s, loss=1.08, acc=61.1]\n"
     ]
    },
    {
     "name": "stdout",
     "output_type": "stream",
     "text": [
      "Test Loss: 1.0284, Test Acc: 63.43%\n",
      "Epoch 11/50: Train Loss: 1.0842, Train Acc: 61.08%, Test Loss: 1.0284, Test Acc: 63.43%\n"
     ]
    },
    {
     "name": "stderr",
     "output_type": "stream",
     "text": [
      "Epoch 12/50: 100%|██████████| 391/391 [00:20<00:00, 18.71it/s, loss=1.06, acc=62.2]\n"
     ]
    },
    {
     "name": "stdout",
     "output_type": "stream",
     "text": [
      "Test Loss: 1.0107, Test Acc: 63.98%\n",
      "Epoch 12/50: Train Loss: 1.0555, Train Acc: 62.17%, Test Loss: 1.0107, Test Acc: 63.98%\n"
     ]
    },
    {
     "name": "stderr",
     "output_type": "stream",
     "text": [
      "Epoch 13/50: 100%|██████████| 391/391 [00:20<00:00, 18.69it/s, loss=1.03, acc=63.2]\n"
     ]
    },
    {
     "name": "stdout",
     "output_type": "stream",
     "text": [
      "Test Loss: 1.0037, Test Acc: 64.58%\n",
      "Epoch 13/50: Train Loss: 1.0288, Train Acc: 63.21%, Test Loss: 1.0037, Test Acc: 64.58%\n"
     ]
    },
    {
     "name": "stderr",
     "output_type": "stream",
     "text": [
      "Epoch 14/50: 100%|██████████| 391/391 [00:20<00:00, 18.72it/s, loss=1.01, acc=64]   \n"
     ]
    },
    {
     "name": "stdout",
     "output_type": "stream",
     "text": [
      "Test Loss: 0.9814, Test Acc: 64.67%\n",
      "Epoch 14/50: Train Loss: 1.0060, Train Acc: 63.96%, Test Loss: 0.9814, Test Acc: 64.67%\n"
     ]
    },
    {
     "name": "stderr",
     "output_type": "stream",
     "text": [
      "Epoch 15/50: 100%|██████████| 391/391 [00:20<00:00, 19.06it/s, loss=0.986, acc=64.8]\n"
     ]
    },
    {
     "name": "stdout",
     "output_type": "stream",
     "text": [
      "Test Loss: 0.9648, Test Acc: 65.79%\n",
      "Epoch 15/50: Train Loss: 0.9863, Train Acc: 64.81%, Test Loss: 0.9648, Test Acc: 65.79%\n"
     ]
    },
    {
     "name": "stderr",
     "output_type": "stream",
     "text": [
      "Epoch 16/50: 100%|██████████| 391/391 [00:21<00:00, 18.58it/s, loss=0.962, acc=65.6]\n"
     ]
    },
    {
     "name": "stdout",
     "output_type": "stream",
     "text": [
      "Test Loss: 0.9439, Test Acc: 66.75%\n",
      "Epoch 16/50: Train Loss: 0.9623, Train Acc: 65.58%, Test Loss: 0.9439, Test Acc: 66.75%\n"
     ]
    },
    {
     "name": "stderr",
     "output_type": "stream",
     "text": [
      "Epoch 17/50: 100%|██████████| 391/391 [00:20<00:00, 18.67it/s, loss=0.941, acc=66.4]\n"
     ]
    },
    {
     "name": "stdout",
     "output_type": "stream",
     "text": [
      "Test Loss: 0.9430, Test Acc: 66.91%\n",
      "Epoch 17/50: Train Loss: 0.9413, Train Acc: 66.40%, Test Loss: 0.9430, Test Acc: 66.91%\n"
     ]
    },
    {
     "name": "stderr",
     "output_type": "stream",
     "text": [
      "Epoch 18/50: 100%|██████████| 391/391 [00:21<00:00, 18.60it/s, loss=0.92, acc=67.1] \n"
     ]
    },
    {
     "name": "stdout",
     "output_type": "stream",
     "text": [
      "Test Loss: 0.9297, Test Acc: 67.57%\n",
      "Epoch 18/50: Train Loss: 0.9201, Train Acc: 67.08%, Test Loss: 0.9297, Test Acc: 67.57%\n"
     ]
    },
    {
     "name": "stderr",
     "output_type": "stream",
     "text": [
      "Epoch 19/50: 100%|██████████| 391/391 [00:21<00:00, 18.61it/s, loss=0.901, acc=67.8]\n"
     ]
    },
    {
     "name": "stdout",
     "output_type": "stream",
     "text": [
      "Test Loss: 0.8971, Test Acc: 68.25%\n",
      "Epoch 19/50: Train Loss: 0.9006, Train Acc: 67.79%, Test Loss: 0.8971, Test Acc: 68.25%\n"
     ]
    },
    {
     "name": "stderr",
     "output_type": "stream",
     "text": [
      "Epoch 20/50: 100%|██████████| 391/391 [00:20<00:00, 18.69it/s, loss=0.882, acc=68.2]\n"
     ]
    },
    {
     "name": "stdout",
     "output_type": "stream",
     "text": [
      "Test Loss: 0.8908, Test Acc: 68.57%\n",
      "Epoch 20/50: Train Loss: 0.8817, Train Acc: 68.25%, Test Loss: 0.8908, Test Acc: 68.57%\n"
     ]
    },
    {
     "name": "stderr",
     "output_type": "stream",
     "text": [
      "Epoch 21/50: 100%|██████████| 391/391 [00:20<00:00, 18.64it/s, loss=0.862, acc=69.3]\n"
     ]
    },
    {
     "name": "stdout",
     "output_type": "stream",
     "text": [
      "Test Loss: 0.8741, Test Acc: 69.29%\n",
      "Epoch 21/50: Train Loss: 0.8625, Train Acc: 69.27%, Test Loss: 0.8741, Test Acc: 69.29%\n"
     ]
    },
    {
     "name": "stderr",
     "output_type": "stream",
     "text": [
      "Epoch 22/50: 100%|██████████| 391/391 [00:21<00:00, 18.56it/s, loss=0.843, acc=70]  \n"
     ]
    },
    {
     "name": "stdout",
     "output_type": "stream",
     "text": [
      "Test Loss: 0.8791, Test Acc: 69.04%\n",
      "Epoch 22/50: Train Loss: 0.8430, Train Acc: 69.98%, Test Loss: 0.8791, Test Acc: 69.04%\n"
     ]
    },
    {
     "name": "stderr",
     "output_type": "stream",
     "text": [
      "Epoch 23/50: 100%|██████████| 391/391 [00:21<00:00, 18.59it/s, loss=0.828, acc=70.4]\n"
     ]
    },
    {
     "name": "stdout",
     "output_type": "stream",
     "text": [
      "Test Loss: 0.8636, Test Acc: 70.01%\n",
      "Epoch 23/50: Train Loss: 0.8284, Train Acc: 70.36%, Test Loss: 0.8636, Test Acc: 70.01%\n"
     ]
    },
    {
     "name": "stderr",
     "output_type": "stream",
     "text": [
      "Epoch 24/50: 100%|██████████| 391/391 [00:20<00:00, 18.65it/s, loss=0.812, acc=71]  \n"
     ]
    },
    {
     "name": "stdout",
     "output_type": "stream",
     "text": [
      "Test Loss: 0.8338, Test Acc: 70.74%\n",
      "Epoch 24/50: Train Loss: 0.8125, Train Acc: 71.04%, Test Loss: 0.8338, Test Acc: 70.74%\n"
     ]
    },
    {
     "name": "stderr",
     "output_type": "stream",
     "text": [
      "Epoch 25/50: 100%|██████████| 391/391 [00:20<00:00, 18.65it/s, loss=0.795, acc=71.7]\n"
     ]
    },
    {
     "name": "stdout",
     "output_type": "stream",
     "text": [
      "Test Loss: 0.8349, Test Acc: 70.75%\n",
      "Epoch 25/50: Train Loss: 0.7954, Train Acc: 71.69%, Test Loss: 0.8349, Test Acc: 70.75%\n"
     ]
    },
    {
     "name": "stderr",
     "output_type": "stream",
     "text": [
      "Epoch 26/50: 100%|██████████| 391/391 [00:20<00:00, 18.68it/s, loss=0.778, acc=72.3]\n"
     ]
    },
    {
     "name": "stdout",
     "output_type": "stream",
     "text": [
      "Test Loss: 0.8444, Test Acc: 70.59%\n",
      "Epoch 26/50: Train Loss: 0.7785, Train Acc: 72.32%, Test Loss: 0.8444, Test Acc: 70.59%\n"
     ]
    },
    {
     "name": "stderr",
     "output_type": "stream",
     "text": [
      "Epoch 27/50: 100%|██████████| 391/391 [00:21<00:00, 18.58it/s, loss=0.763, acc=72.7]\n"
     ]
    },
    {
     "name": "stdout",
     "output_type": "stream",
     "text": [
      "Test Loss: 0.8375, Test Acc: 71.06%\n",
      "Epoch 27/50: Train Loss: 0.7631, Train Acc: 72.69%, Test Loss: 0.8375, Test Acc: 71.06%\n"
     ]
    },
    {
     "name": "stderr",
     "output_type": "stream",
     "text": [
      "Epoch 28/50: 100%|██████████| 391/391 [00:21<00:00, 18.60it/s, loss=0.745, acc=73.6]\n"
     ]
    },
    {
     "name": "stdout",
     "output_type": "stream",
     "text": [
      "Test Loss: 0.8142, Test Acc: 72.11%\n",
      "Epoch 28/50: Train Loss: 0.7453, Train Acc: 73.61%, Test Loss: 0.8142, Test Acc: 72.11%\n"
     ]
    },
    {
     "name": "stderr",
     "output_type": "stream",
     "text": [
      "Epoch 29/50: 100%|██████████| 391/391 [00:20<00:00, 18.67it/s, loss=0.727, acc=74]  \n"
     ]
    },
    {
     "name": "stdout",
     "output_type": "stream",
     "text": [
      "Test Loss: 0.8292, Test Acc: 71.83%\n",
      "Epoch 29/50: Train Loss: 0.7272, Train Acc: 74.02%, Test Loss: 0.8292, Test Acc: 71.83%\n"
     ]
    },
    {
     "name": "stderr",
     "output_type": "stream",
     "text": [
      "Epoch 30/50: 100%|██████████| 391/391 [00:20<00:00, 18.65it/s, loss=0.716, acc=74.4]\n"
     ]
    },
    {
     "name": "stdout",
     "output_type": "stream",
     "text": [
      "Test Loss: 0.8354, Test Acc: 71.22%\n",
      "Epoch 30/50: Train Loss: 0.7157, Train Acc: 74.45%, Test Loss: 0.8354, Test Acc: 71.22%\n"
     ]
    },
    {
     "name": "stderr",
     "output_type": "stream",
     "text": [
      "Epoch 31/50: 100%|██████████| 391/391 [00:20<00:00, 18.63it/s, loss=0.707, acc=74.9]\n"
     ]
    },
    {
     "name": "stdout",
     "output_type": "stream",
     "text": [
      "Test Loss: 0.8085, Test Acc: 72.28%\n",
      "Epoch 31/50: Train Loss: 0.7075, Train Acc: 74.85%, Test Loss: 0.8085, Test Acc: 72.28%\n"
     ]
    },
    {
     "name": "stderr",
     "output_type": "stream",
     "text": [
      "Epoch 32/50: 100%|██████████| 391/391 [00:20<00:00, 18.74it/s, loss=0.691, acc=75.5]\n"
     ]
    },
    {
     "name": "stdout",
     "output_type": "stream",
     "text": [
      "Test Loss: 0.7992, Test Acc: 72.19%\n",
      "Epoch 32/50: Train Loss: 0.6914, Train Acc: 75.45%, Test Loss: 0.7992, Test Acc: 72.19%\n"
     ]
    },
    {
     "name": "stderr",
     "output_type": "stream",
     "text": [
      "Epoch 33/50: 100%|██████████| 391/391 [00:21<00:00, 18.59it/s, loss=0.679, acc=75.9]\n"
     ]
    },
    {
     "name": "stdout",
     "output_type": "stream",
     "text": [
      "Test Loss: 0.8012, Test Acc: 73.08%\n",
      "Epoch 33/50: Train Loss: 0.6793, Train Acc: 75.86%, Test Loss: 0.8012, Test Acc: 73.08%\n"
     ]
    },
    {
     "name": "stderr",
     "output_type": "stream",
     "text": [
      "Epoch 34/50: 100%|██████████| 391/391 [00:20<00:00, 18.67it/s, loss=0.666, acc=76.3]\n"
     ]
    },
    {
     "name": "stdout",
     "output_type": "stream",
     "text": [
      "Test Loss: 0.7824, Test Acc: 72.80%\n",
      "Epoch 34/50: Train Loss: 0.6658, Train Acc: 76.28%, Test Loss: 0.7824, Test Acc: 72.80%\n"
     ]
    },
    {
     "name": "stderr",
     "output_type": "stream",
     "text": [
      "Epoch 35/50: 100%|██████████| 391/391 [00:20<00:00, 18.62it/s, loss=0.651, acc=76.7]\n"
     ]
    },
    {
     "name": "stdout",
     "output_type": "stream",
     "text": [
      "Test Loss: 0.7900, Test Acc: 72.69%\n",
      "Epoch 35/50: Train Loss: 0.6508, Train Acc: 76.68%, Test Loss: 0.7900, Test Acc: 72.69%\n"
     ]
    },
    {
     "name": "stderr",
     "output_type": "stream",
     "text": [
      "Epoch 36/50: 100%|██████████| 391/391 [00:20<00:00, 18.65it/s, loss=0.641, acc=77.2]\n"
     ]
    },
    {
     "name": "stdout",
     "output_type": "stream",
     "text": [
      "Test Loss: 0.7700, Test Acc: 73.70%\n",
      "Epoch 36/50: Train Loss: 0.6414, Train Acc: 77.22%, Test Loss: 0.7700, Test Acc: 73.70%\n"
     ]
    },
    {
     "name": "stderr",
     "output_type": "stream",
     "text": [
      "Epoch 37/50: 100%|██████████| 391/391 [00:20<00:00, 18.73it/s, loss=0.632, acc=77.7]\n"
     ]
    },
    {
     "name": "stdout",
     "output_type": "stream",
     "text": [
      "Test Loss: 0.7781, Test Acc: 73.37%\n",
      "Epoch 37/50: Train Loss: 0.6325, Train Acc: 77.67%, Test Loss: 0.7781, Test Acc: 73.37%\n"
     ]
    },
    {
     "name": "stderr",
     "output_type": "stream",
     "text": [
      "Epoch 38/50: 100%|██████████| 391/391 [00:20<00:00, 18.67it/s, loss=0.624, acc=77.7]\n"
     ]
    },
    {
     "name": "stdout",
     "output_type": "stream",
     "text": [
      "Test Loss: 0.7722, Test Acc: 73.63%\n",
      "Epoch 38/50: Train Loss: 0.6235, Train Acc: 77.65%, Test Loss: 0.7722, Test Acc: 73.63%\n"
     ]
    },
    {
     "name": "stderr",
     "output_type": "stream",
     "text": [
      "Epoch 39/50: 100%|██████████| 391/391 [00:20<00:00, 18.66it/s, loss=0.619, acc=77.8]\n"
     ]
    },
    {
     "name": "stdout",
     "output_type": "stream",
     "text": [
      "Test Loss: 0.7694, Test Acc: 73.59%\n",
      "Epoch 39/50: Train Loss: 0.6191, Train Acc: 77.83%, Test Loss: 0.7694, Test Acc: 73.59%\n"
     ]
    },
    {
     "name": "stderr",
     "output_type": "stream",
     "text": [
      "Epoch 40/50: 100%|██████████| 391/391 [00:20<00:00, 18.65it/s, loss=0.607, acc=78.3]\n"
     ]
    },
    {
     "name": "stdout",
     "output_type": "stream",
     "text": [
      "Test Loss: 0.7650, Test Acc: 73.93%\n",
      "Epoch 40/50: Train Loss: 0.6073, Train Acc: 78.26%, Test Loss: 0.7650, Test Acc: 73.93%\n"
     ]
    },
    {
     "name": "stderr",
     "output_type": "stream",
     "text": [
      "Epoch 41/50: 100%|██████████| 391/391 [00:20<00:00, 18.72it/s, loss=0.597, acc=78.6]\n"
     ]
    },
    {
     "name": "stdout",
     "output_type": "stream",
     "text": [
      "Test Loss: 0.7646, Test Acc: 73.90%\n",
      "Epoch 41/50: Train Loss: 0.5975, Train Acc: 78.59%, Test Loss: 0.7646, Test Acc: 73.90%\n"
     ]
    },
    {
     "name": "stderr",
     "output_type": "stream",
     "text": [
      "Epoch 42/50: 100%|██████████| 391/391 [00:20<00:00, 18.71it/s, loss=0.593, acc=78.8]\n"
     ]
    },
    {
     "name": "stdout",
     "output_type": "stream",
     "text": [
      "Test Loss: 0.7647, Test Acc: 74.23%\n",
      "Epoch 42/50: Train Loss: 0.5933, Train Acc: 78.80%, Test Loss: 0.7647, Test Acc: 74.23%\n"
     ]
    },
    {
     "name": "stderr",
     "output_type": "stream",
     "text": [
      "Epoch 43/50: 100%|██████████| 391/391 [00:20<00:00, 18.75it/s, loss=0.584, acc=79.3]\n"
     ]
    },
    {
     "name": "stdout",
     "output_type": "stream",
     "text": [
      "Test Loss: 0.7664, Test Acc: 74.36%\n",
      "Epoch 43/50: Train Loss: 0.5839, Train Acc: 79.29%, Test Loss: 0.7664, Test Acc: 74.36%\n"
     ]
    },
    {
     "name": "stderr",
     "output_type": "stream",
     "text": [
      "Epoch 44/50: 100%|██████████| 391/391 [00:21<00:00, 18.62it/s, loss=0.587, acc=78.9]\n"
     ]
    },
    {
     "name": "stdout",
     "output_type": "stream",
     "text": [
      "Test Loss: 0.7679, Test Acc: 74.46%\n",
      "Epoch 44/50: Train Loss: 0.5866, Train Acc: 78.94%, Test Loss: 0.7679, Test Acc: 74.46%\n"
     ]
    },
    {
     "name": "stderr",
     "output_type": "stream",
     "text": [
      "Epoch 45/50: 100%|██████████| 391/391 [00:21<00:00, 18.56it/s, loss=0.58, acc=79.4] \n"
     ]
    },
    {
     "name": "stdout",
     "output_type": "stream",
     "text": [
      "Test Loss: 0.7649, Test Acc: 74.49%\n",
      "Epoch 45/50: Train Loss: 0.5796, Train Acc: 79.44%, Test Loss: 0.7649, Test Acc: 74.49%\n"
     ]
    },
    {
     "name": "stderr",
     "output_type": "stream",
     "text": [
      "Epoch 46/50: 100%|██████████| 391/391 [00:21<00:00, 18.62it/s, loss=0.572, acc=79.5]\n"
     ]
    },
    {
     "name": "stdout",
     "output_type": "stream",
     "text": [
      "Test Loss: 0.7627, Test Acc: 74.49%\n",
      "Epoch 46/50: Train Loss: 0.5722, Train Acc: 79.49%, Test Loss: 0.7627, Test Acc: 74.49%\n"
     ]
    },
    {
     "name": "stderr",
     "output_type": "stream",
     "text": [
      "Epoch 47/50: 100%|██████████| 391/391 [00:20<00:00, 18.63it/s, loss=0.572, acc=79.6]\n"
     ]
    },
    {
     "name": "stdout",
     "output_type": "stream",
     "text": [
      "Test Loss: 0.7659, Test Acc: 74.45%\n",
      "Epoch 47/50: Train Loss: 0.5723, Train Acc: 79.59%, Test Loss: 0.7659, Test Acc: 74.45%\n"
     ]
    },
    {
     "name": "stderr",
     "output_type": "stream",
     "text": [
      "Epoch 48/50: 100%|██████████| 391/391 [00:21<00:00, 18.53it/s, loss=0.572, acc=79.7]\n"
     ]
    },
    {
     "name": "stdout",
     "output_type": "stream",
     "text": [
      "Test Loss: 0.7650, Test Acc: 74.51%\n",
      "Epoch 48/50: Train Loss: 0.5720, Train Acc: 79.67%, Test Loss: 0.7650, Test Acc: 74.51%\n"
     ]
    },
    {
     "name": "stderr",
     "output_type": "stream",
     "text": [
      "Epoch 49/50: 100%|██████████| 391/391 [00:20<00:00, 18.71it/s, loss=0.57, acc=79.9] \n"
     ]
    },
    {
     "name": "stdout",
     "output_type": "stream",
     "text": [
      "Test Loss: 0.7654, Test Acc: 74.54%\n",
      "Epoch 49/50: Train Loss: 0.5703, Train Acc: 79.91%, Test Loss: 0.7654, Test Acc: 74.54%\n"
     ]
    },
    {
     "name": "stderr",
     "output_type": "stream",
     "text": [
      "Epoch 50/50: 100%|██████████| 391/391 [00:20<00:00, 18.65it/s, loss=0.569, acc=79.6]\n"
     ]
    },
    {
     "name": "stdout",
     "output_type": "stream",
     "text": [
      "Test Loss: 0.7653, Test Acc: 74.56%\n",
      "Epoch 50/50: Train Loss: 0.5695, Train Acc: 79.61%, Test Loss: 0.7653, Test Acc: 74.56%\n"
     ]
    },
    {
     "data": {
      "image/png": "[encoded data removed]",
      "text/plain": [
       "<Figure size 1200x500 with 2 Axes>"
      ]
     },
     "metadata": {},
     "output_type": "display_data"
    },
    {
     "name": "stdout",
     "output_type": "stream",
     "text": [
      "Training complete. Model saved to vit_cifar10.pth\n"
     ]
    }
   ],
   "source": [
    "import torch\n",
    "import torch.nn as nn\n",
    "import torch.nn.functional as F\n",
    "import torch.optim as optim\n",
    "from torch.utils.data import DataLoader\n",
    "from torchvision import datasets, transforms\n",
    "import math\n",
    "import matplotlib.pyplot as plt\n",
    "import numpy as np\n",
    "from tqdm import tqdm\n",
    "\n",
    "# Set random seed for reproducibility\n",
    "torch.manual_seed(42)\n",
    "device = torch.device(\"cuda\" if torch.cuda.is_available() else \"cpu\")\n",
    "print(f\"Using device: {device}\")\n",
    "\n",
    "# Hyperparameters\n",
    "batch_size = 128\n",
    "num_epochs = 50\n",
    "learning_rate = 3e-4\n",
    "weight_decay = 1e-4\n",
    "\n",
    "image_size = 32\n",
    "patch_size = 4\n",
    "num_classes = 10\n",
    "dim = 256\n",
    "depth = 6\n",
    "heads = 8\n",
    "mlp_dim = 512\n",
    "channels = 3\n",
    "dropout = 0.1\n",
    "\n",
    "# Data Loading and Preprocessing\n",
    "transform_train = transforms.Compose([\n",
    "    transforms.RandomCrop(32, padding=4),\n",
    "    transforms.RandomHorizontalFlip(),\n",
    "    transforms.ToTensor(),\n",
    "    transforms.Normalize((0.4914, 0.4822, 0.4465), (0.2023, 0.1994, 0.2010)),\n",
    "])\n",
    "\n",
    "transform_test = transforms.Compose([\n",
    "    transforms.ToTensor(),\n",
    "    transforms.Normalize((0.4914, 0.4822, 0.4465), (0.2023, 0.1994, 0.2010)),\n",
    "])\n",
    "\n",
    "train_dataset = datasets.CIFAR10(root='./data', train=True, download=True, transform=transform_train)\n",
    "test_dataset = datasets.CIFAR10(root='./data', train=False, download=True, transform=transform_test)\n",
    "\n",
    "train_loader = DataLoader(train_dataset, batch_size=batch_size, shuffle=True, num_workers=4)\n",
    "test_loader = DataLoader(test_dataset, batch_size=batch_size, shuffle=False, num_workers=4)\n",
    "\n",
    "# Multi-head Self Attention\n",
    "class MultiHeadSelfAttention(nn.Module):\n",
    "    def __init__(self, dim, heads=8, dropout=0.1):\n",
    "        super(MultiHeadSelfAttention, self).__init__()\n",
    "        self.heads = heads\n",
    "        self.head_dim = dim // heads\n",
    "        self.scale = self.head_dim ** -0.5\n",
    "        \n",
    "        self.to_qkv = nn.Linear(dim, dim * 3, bias=False)\n",
    "        self.to_out = nn.Linear(dim, dim)\n",
    "        self.dropout = nn.Dropout(dropout)\n",
    "        \n",
    "    def forward(self, x):\n",
    "        b, n, c = x.shape\n",
    "        qkv = self.to_qkv(x).chunk(3, dim=-1)\n",
    "        q, k, v = map(lambda t: t.reshape(b, n, self.heads, self.head_dim).transpose(1, 2), qkv)\n",
    "        \n",
    "        # Attention\n",
    "        dots = torch.matmul(q, k.transpose(-1, -2)) * self.scale\n",
    "        attn = F.softmax(dots, dim=-1)\n",
    "        attn = self.dropout(attn)\n",
    "        \n",
    "        # Apply attention to v\n",
    "        out = torch.matmul(attn, v)\n",
    "        out = out.transpose(1, 2).reshape(b, n, c)\n",
    "        out = self.to_out(out)\n",
    "        return out\n",
    "\n",
    "# MLP Block\n",
    "class MLP(nn.Module):\n",
    "    def __init__(self, dim, hidden_dim, dropout=0.1):\n",
    "        super(MLP, self).__init__()\n",
    "        self.net = nn.Sequential(\n",
    "            nn.Linear(dim, hidden_dim),\n",
    "            nn.GELU(),\n",
    "            nn.Dropout(dropout),\n",
    "            nn.Linear(hidden_dim, dim),\n",
    "            nn.Dropout(dropout)\n",
    "        )\n",
    "    \n",
    "    def forward(self, x):\n",
    "        return self.net(x)\n",
    "\n",
    "# Transformer Encoder Block\n",
    "class TransformerBlock(nn.Module):\n",
    "    def __init__(self, dim, heads, mlp_dim, dropout=0.1):\n",
    "        super(TransformerBlock, self).__init__()\n",
    "        self.norm1 = nn.LayerNorm(dim)\n",
    "        self.attn = MultiHeadSelfAttention(dim, heads, dropout)\n",
    "        self.norm2 = nn.LayerNorm(dim)\n",
    "        self.mlp = MLP(dim, mlp_dim, dropout)\n",
    "        \n",
    "    def forward(self, x):\n",
    "        x = x + self.attn(self.norm1(x))\n",
    "        x = x + self.mlp(self.norm2(x))\n",
    "        return x\n",
    "\n",
    "# Vision Transformer\n",
    "class ViT(nn.Module):\n",
    "    def __init__(\n",
    "        self, \n",
    "        image_size, \n",
    "        patch_size, \n",
    "        num_classes, \n",
    "        dim, \n",
    "        depth, \n",
    "        heads, \n",
    "        mlp_dim, \n",
    "        channels=3, \n",
    "        dropout=0.1\n",
    "    ):\n",
    "        super(ViT, self).__init__()\n",
    "        assert image_size % patch_size == 0, 'Image size must be divisible by patch size'\n",
    "        self.num_patches = (image_size // patch_size) ** 2\n",
    "        patch_dim = 3 * channels * patch_size ** 2\n",
    "        \n",
    "        self.patch_size = patch_size\n",
    "        self.h_patches = image_size // patch_size\n",
    "        self.w_patches = image_size // patch_size\n",
    "        \n",
    "        # Patch embedding\n",
    "        self.to_patch_embedding = nn.Linear(patch_dim, dim)\n",
    "        \n",
    "        # Class token\n",
    "        self.cls_token = nn.Parameter(torch.randn(1, 1, dim))\n",
    "        \n",
    "        # Positional encoding - 2D version\n",
    "        self.pos_embedding = SinCos2DPositionalEncoding(dim, h=self.h_patches, w=self.w_patches)\n",
    "        \n",
    "        # Dropout\n",
    "        self.dropout = nn.Dropout(dropout)\n",
    "        \n",
    "        # Transformer blocks\n",
    "        self.transformer_blocks = nn.ModuleList([\n",
    "            TransformerBlock(dim, heads, mlp_dim, dropout) for _ in range(depth)\n",
    "        ])\n",
    "        \n",
    "        # MLP Head\n",
    "        self.mlp_head = nn.Sequential(\n",
    "            nn.LayerNorm(dim),\n",
    "            nn.Linear(dim, num_classes)\n",
    "        )\n",
    "        \n",
    "    def forward(self, img):\n",
    "        # Get batch size and reshape image into patches\n",
    "        x = img\n",
    "        real, imag = reality_splitter(x)\n",
    "        x = torch.cat([x, real, imag], dim=1)\n",
    "        b, c, h, w = x.shape\n",
    "        \n",
    "        # Split image into patches\n",
    "        patches = x.unfold(2, self.patch_size, self.patch_size).unfold(3, self.patch_size, self.patch_size)\n",
    "        patches = patches.contiguous().view(b, c, -1, self.patch_size, self.patch_size)\n",
    "        patches = patches.permute(0, 2, 1, 3, 4).contiguous().view(b, -1, c * self.patch_size * self.patch_size)\n",
    "        # print(\"HERE\")\n",
    "        # print(patches.shape)\n",
    "        # Project patches to embedding dimension\n",
    "        x = self.to_patch_embedding(patches)\n",
    "        \n",
    "        # Add class token\n",
    "        cls_tokens = self.cls_token.expand(b, -1, -1)\n",
    "        x = torch.cat((cls_tokens, x), dim=1)\n",
    "        \n",
    "        # Add positional encoding - now 2D aware\n",
    "        x = self.pos_embedding(x)\n",
    "        x = self.dropout(x)\n",
    "        \n",
    "        # Apply transformer blocks\n",
    "        for block in self.transformer_blocks:\n",
    "            x = block(x)\n",
    "        \n",
    "        # Get the class token representation\n",
    "        x = x[:, 0]\n",
    "        \n",
    "        # MLP head\n",
    "        return self.mlp_head(x)\n",
    "\n",
    "# Create model, optimizer, and loss function\n",
    "model = ViT(\n",
    "    image_size=image_size,\n",
    "    patch_size=patch_size,\n",
    "    num_classes=num_classes,\n",
    "    dim=dim,\n",
    "    depth=depth,\n",
    "    heads=heads,\n",
    "    mlp_dim=mlp_dim,\n",
    "    channels=channels,\n",
    "    dropout=dropout\n",
    ").to(device)\n",
    "\n",
    "optimizer = optim.AdamW(model.parameters(), lr=learning_rate, weight_decay=weight_decay)\n",
    "scheduler = optim.lr_scheduler.CosineAnnealingLR(optimizer, T_max=num_epochs)\n",
    "criterion = nn.CrossEntropyLoss()\n",
    "\n",
    "# Training loop\n",
    "train_losses = []\n",
    "train_accs = []\n",
    "test_losses = []\n",
    "test_accs = []\n",
    "\n",
    "def train_one_epoch(model, train_loader, optimizer, criterion, epoch):\n",
    "    model.train()\n",
    "    running_loss = 0.0\n",
    "    correct = 0\n",
    "    total = 0\n",
    "    \n",
    "    pbar = tqdm(train_loader, desc=f'Epoch {epoch+1}/{num_epochs}')\n",
    "    for batch_idx, (inputs, targets) in enumerate(pbar):\n",
    "        inputs, targets = inputs.to(device), targets.to(device)\n",
    "        \n",
    "        # Zero gradients\n",
    "        optimizer.zero_grad()\n",
    "        \n",
    "        # Forward pass\n",
    "        outputs = model(inputs)\n",
    "        loss = criterion(outputs, targets)\n",
    "        \n",
    "        # Backward pass and optimize\n",
    "        loss.backward()\n",
    "        optimizer.step()\n",
    "        \n",
    "        # Statistics\n",
    "        running_loss += loss.item()\n",
    "        _, predicted = outputs.max(1)\n",
    "        total += targets.size(0)\n",
    "        correct += predicted.eq(targets).sum().item()\n",
    "        \n",
    "        # Update progress bar\n",
    "        pbar.set_postfix({\n",
    "            'loss': running_loss / (batch_idx + 1),\n",
    "            'acc': 100. * correct / total\n",
    "        })\n",
    "    \n",
    "    train_loss = running_loss / len(train_loader)\n",
    "    train_acc = 100. * correct / total\n",
    "    \n",
    "    return train_loss, train_acc\n",
    "\n",
    "def test(model, test_loader, criterion):\n",
    "    model.eval()\n",
    "    running_loss = 0.0\n",
    "    correct = 0\n",
    "    total = 0\n",
    "    \n",
    "    with torch.no_grad():\n",
    "        for batch_idx, (inputs, targets) in enumerate(test_loader):\n",
    "            inputs, targets = inputs.to(device), targets.to(device)\n",
    "            \n",
    "            # Forward pass\n",
    "            outputs = model(inputs)\n",
    "            loss = criterion(outputs, targets)\n",
    "            \n",
    "            # Statistics\n",
    "            running_loss += loss.item()\n",
    "            _, predicted = outputs.max(1)\n",
    "            total += targets.size(0)\n",
    "            correct += predicted.eq(targets).sum().item()\n",
    "    \n",
    "    test_loss = running_loss / len(test_loader)\n",
    "    test_acc = 100. * correct / total\n",
    "    \n",
    "    print(f'Test Loss: {test_loss:.4f}, Test Acc: {test_acc:.2f}%')\n",
    "    \n",
    "    return test_loss, test_acc\n",
    "\n",
    "# Main training loop\n",
    "for epoch in range(num_epochs):\n",
    "    # Train\n",
    "    train_loss, train_acc = train_one_epoch(model, train_loader, optimizer, criterion, epoch)\n",
    "    train_losses.append(train_loss)\n",
    "    train_accs.append(train_acc)\n",
    "    \n",
    "    # Test\n",
    "    test_loss, test_acc = test(model, test_loader, criterion)\n",
    "    test_losses.append(test_loss)\n",
    "    test_accs.append(test_acc)\n",
    "    \n",
    "    # Update learning rate\n",
    "    scheduler.step()\n",
    "    \n",
    "    print(f'Epoch {epoch+1}/{num_epochs}: Train Loss: {train_loss:.4f}, Train Acc: {train_acc:.2f}%, Test Loss: {test_loss:.4f}, Test Acc: {test_acc:.2f}%')\n",
    "\n",
    "# Plot training and testing curves\n",
    "plt.figure(figsize=(12, 5))\n",
    "\n",
    "plt.subplot(1, 2, 1)\n",
    "plt.plot(train_losses, label='Train Loss')\n",
    "plt.plot(test_losses, label='Test Loss')\n",
    "plt.xlabel('Epoch')\n",
    "plt.ylabel('Loss')\n",
    "plt.legend()\n",
    "plt.title('Loss Curves')\n",
    "\n",
    "plt.subplot(1, 2, 2)\n",
    "plt.plot(train_accs, label='Train Accuracy')\n",
    "plt.plot(test_accs, label='Test Accuracy')\n",
    "plt.xlabel('Epoch')\n",
    "plt.ylabel('Accuracy (%)')\n",
    "plt.legend()\n",
    "plt.title('Accuracy Curves')\n",
    "\n",
    "plt.tight_layout()\n",
    "plt.savefig('vit_training_curves.png')\n",
    "plt.show()\n",
    "\n",
    "# Save the model\n",
    "torch.save(model.state_dict(), 'vit_cifar10_fourier.pth')\n",
    "print('Training complete. Model saved to vit_cifar10.pth')"
   ]
  },
  {
   "cell_type": "code",
   "execution_count": 8,
   "id": "3a93f067",
   "metadata": {},
   "outputs": [],
   "source": [
    "import torch\n",
    "import torch.nn as nn\n",
    "import numpy as np\n",
    "import torch.fft as fft\n",
    "\n",
    "class FrequencyPixelAttacks(nn.Module):\n",
    "    \"\"\"\n",
    "    A PyTorch transform to apply various frequency-based and pixel-based attacks.\n",
    "    \"\"\"\n",
    "    def __init__(self, attack_type='phase', epsilon=0.1, frequency_radius=0.1, num_pixels=100, noise_std=0.05, seed=None):\n",
    "        super(FrequencyPixelAttacks, self).__init__()\n",
    "        self.attack_type = attack_type\n",
    "        self.epsilon = epsilon\n",
    "        self.frequency_radius = frequency_radius\n",
    "        self.num_pixels = num_pixels\n",
    "        self.noise_std = noise_std\n",
    "        if seed is not None:\n",
    "            torch.manual_seed(seed)\n",
    "            np.random.seed(seed)\n",
    "    \n",
    "    def forward(self, img):\n",
    "        perturbed_img = img.clone().detach()\n",
    "        if self.attack_type == 'phase':\n",
    "            perturbed_img = self._phase_attack(perturbed_img)\n",
    "        elif self.attack_type == 'magnitude':\n",
    "            perturbed_img = self._magnitude_attack(perturbed_img)\n",
    "        elif self.attack_type == 'low_freq':\n",
    "            perturbed_img = self._low_frequency_attack(perturbed_img)\n",
    "        elif self.attack_type == 'high_freq':\n",
    "            perturbed_img = self._high_frequency_attack(perturbed_img)\n",
    "        elif self.attack_type == 'pixel':\n",
    "            perturbed_img = self._pixel_attack(perturbed_img)\n",
    "        elif self.attack_type == 'normal':\n",
    "            perturbed_img = self._normal_noise_attack(perturbed_img)\n",
    "        else:\n",
    "            raise ValueError(f\"Unknown attack type: {self.attack_type}\")\n",
    "        return torch.clamp(perturbed_img, 0, 1)\n",
    "    \n",
    "    def _phase_attack(self, img):\n",
    "        batch, channels, height, width = img.shape\n",
    "        perturbed_img = torch.zeros_like(img)\n",
    "        for c in range(channels):\n",
    "            f_transform = fft.fftshift(fft.fft2(img[:, c]))\n",
    "            magnitude = torch.abs(f_transform)\n",
    "            phase = torch.angle(f_transform)\n",
    "            phase_noise = torch.randn_like(phase) * self.epsilon\n",
    "            perturbed_phase = phase + phase_noise\n",
    "            f_transform_perturbed = magnitude * torch.exp(1j * perturbed_phase)\n",
    "            img_perturbed = fft.ifft2(fft.ifftshift(f_transform_perturbed)).real\n",
    "            perturbed_img[:, c] = img_perturbed\n",
    "        return perturbed_img\n",
    "    \n",
    "    def _magnitude_attack(self, img):\n",
    "        batch, channels, height, width = img.shape\n",
    "        perturbed_img = torch.zeros_like(img)\n",
    "        for c in range(channels):\n",
    "            f_transform = fft.fftshift(fft.fft2(img[:, c]))\n",
    "            magnitude = torch.abs(f_transform)\n",
    "            phase = torch.angle(f_transform)\n",
    "            magnitude_noise = torch.randn_like(magnitude) * self.epsilon * magnitude\n",
    "            perturbed_magnitude = magnitude + magnitude_noise\n",
    "            f_transform_perturbed = perturbed_magnitude * torch.exp(1j * phase)\n",
    "            img_perturbed = fft.ifft2(fft.ifftshift(f_transform_perturbed)).real\n",
    "            perturbed_img[:, c] = img_perturbed\n",
    "        return perturbed_img\n",
    "    \n",
    "    def _create_frequency_mask(self, height, width, is_low_freq=True):\n",
    "        y_indices, x_indices = torch.meshgrid(torch.arange(height), torch.arange(width), indexing='ij')\n",
    "        y_indices = y_indices - height // 2\n",
    "        x_indices = x_indices - width // 2\n",
    "        distance = torch.sqrt(y_indices**2 + x_indices**2).float()\n",
    "        max_distance = torch.sqrt(torch.tensor(height**2 + width**2, dtype=torch.float32))\n",
    "        distance /= max_distance\n",
    "        return (distance <= self.frequency_radius).float() if is_low_freq else (distance >= (1 - self.frequency_radius)).float()\n",
    "    \n",
    "    def _low_frequency_attack(self, img):\n",
    "        batch, channels, height, width = img.shape\n",
    "        perturbed_img = torch.zeros_like(img)\n",
    "        mask = self._create_frequency_mask(height, width, is_low_freq=True).to(img.device)\n",
    "        for c in range(channels):\n",
    "            f_transform = fft.fftshift(fft.fft2(img[:, c]))\n",
    "            noise = (torch.randn_like(f_transform.real) + 1j * torch.randn_like(f_transform.imag)) * self.epsilon\n",
    "            f_transform_perturbed = f_transform + noise * mask\n",
    "            img_perturbed = fft.ifft2(fft.ifftshift(f_transform_perturbed)).real\n",
    "            perturbed_img[:, c] = img_perturbed\n",
    "        return perturbed_img\n",
    "    \n",
    "    def _high_frequency_attack(self, img):\n",
    "        batch, channels, height, width = img.shape\n",
    "        perturbed_img = torch.zeros_like(img)\n",
    "        mask = self._create_frequency_mask(height, width, is_low_freq=False).to(img.device)\n",
    "        for c in range(channels):\n",
    "            f_transform = fft.fftshift(fft.fft2(img[:, c]))\n",
    "            noise = (torch.randn_like(f_transform.real) + 1j * torch.randn_like(f_transform.imag)) * self.epsilon\n",
    "            f_transform_perturbed = f_transform + noise * mask\n",
    "            img_perturbed = fft.ifft2(fft.ifftshift(f_transform_perturbed)).real\n",
    "            perturbed_img[:, c] = img_perturbed\n",
    "        return perturbed_img\n",
    "    \n",
    "    def _pixel_attack(self, img):\n",
    "        batch, channels, height, width = img.shape\n",
    "        perturbed_img = img.clone()\n",
    "        num_pixels = min(self.num_pixels, height * width)\n",
    "        pixel_indices = torch.randint(0, height * width, (batch, num_pixels))\n",
    "        y_indices, x_indices = pixel_indices // width, pixel_indices % width\n",
    "        for b in range(batch):\n",
    "            for c in range(channels):\n",
    "                for i in range(num_pixels):\n",
    "                    perturbed_img[b, c, y_indices[b, i], x_indices[b, i]] += torch.randn(1).item() * self.epsilon\n",
    "        return perturbed_img\n",
    "    \n",
    "    def _normal_noise_attack(self, img):\n",
    "        noise = torch.randn_like(img) * self.noise_std\n",
    "        return img + noise\n",
    "\n",
    "def display_image(original, adversarial):\n",
    "    \"\"\"Display last batch of original and adversarial images.\"\"\"\n",
    "    fig, axes = plt.subplots(2, len(original), figsize=(16, 10))\n",
    "    \n",
    "    for i in range(len(original)):\n",
    "        orig_img = original[i].permute(1, 2, 0).cpu().numpy()\n",
    "        adv_img = adversarial[i].permute(1, 2, 0).cpu().numpy()\n",
    "        \n",
    "        orig_img = np.clip(orig_img, 0, 1)\n",
    "        adv_img = np.clip(adv_img, 0, 1)\n",
    "\n",
    "        \n",
    "        axes[0, i].imshow(orig_img)\n",
    "        axes[0, i].axis(\"off\")\n",
    "\n",
    "        axes[1, i].imshow(adv_img)\n",
    "        axes[1, i].axis(\"off\")\n",
    "\n",
    "    plt.show()"
   ]
  },
  {
   "cell_type": "code",
   "execution_count": 9,
   "id": "0f9e491d",
   "metadata": {},
   "outputs": [],
   "source": [
    "def train_adversary(model):\n",
    "    device = torch.device(\"cuda\" if torch.cuda.is_available() else \"cpu\")\n",
    "\n",
    "    # 1. Freeze the model (so only adversary parameters are updated)\n",
    "    for param in model.parameters():\n",
    "        param.requires_grad = False\n",
    "    model.eval()\n",
    "    \n",
    "    # 2. Evaluate adversarial attack on test data\n",
    "    # _, test_loader, _ = load_dataset(\n",
    "    #     dataset_name='cifar10', \n",
    "    #     batch_size=1, \n",
    "    #     img_size=32\n",
    "    # )\n",
    "    test_dataset = datasets.CIFAR10(root='./data', train=False, download=True, transform=transform_test)\n",
    "    \n",
    "    test_loader = DataLoader(test_dataset, batch_size=1, shuffle=False, num_workers=4)\n",
    "    \n",
    "    # test_loader = load_pets_test(batch_size=1)  # Load test dataset\n",
    "    test_dataset = test_loader.dataset  # Get dataset without batching\n",
    "\n",
    "    attacks = [\n",
    "        # {'attack_type': 'phase', 'epsilon': 0.1, 'frequency_radius': 0.1, 'num_pixels': 100, 'noise_std': 0.05, 'name': 'phase_weak'},\n",
    "        {'attack_type': 'phase', 'epsilon': 0.5, 'frequency_radius': 0.1, 'num_pixels': 100, 'noise_std': 0.05, 'name': 'phase_strong'},\n",
    "        # {'attack_type': 'magnitude', 'epsilon': 0.1, 'frequency_radius': 0.1, 'num_pixels': 100, 'noise_std': 0.05, 'name': 'magnitude_weak'},\n",
    "        {'attack_type': 'magnitude', 'epsilon': 0.5, 'frequency_radius': 0.1, 'num_pixels': 100, 'noise_std': 0.05, 'name': 'magnitude_strong'},\n",
    "        # {'attack_type': 'low_freq', 'epsilon': 0.2, 'frequency_radius': 0.1, 'num_pixels': 100, 'noise_std': 0.05, 'name': 'low_freq_small_radius'},\n",
    "        # {'attack_type': 'low_freq', 'epsilon': 0.2, 'frequency_radius': 0.3, 'num_pixels': 100, 'noise_std': 0.05, 'name': 'low_freq_large_radius'},\n",
    "        # {'attack_type': 'high_freq', 'epsilon': 0.2, 'frequency_radius': 0.1, 'num_pixels': 100, 'noise_std': 0.05, 'name': 'high_freq_small_radius'},\n",
    "        # {'attack_type': 'high_freq', 'epsilon': 0.2, 'frequency_radius': 0.3, 'num_pixels': 100, 'noise_std': 0.05, 'name': 'high_freq_large_radius'},\n",
    "        # {'attack_type': 'normal', 'epsilon': 0.1,  'frequency_radius': 0.1, 'num_pixels': 100, 'noise_std': 0.05, 'name': 'normal_weak'},\n",
    "        {'attack_type': 'normal', 'epsilon': 0.1, 'frequency_radius': 0.1, 'num_pixels': 100, 'noise_std': 0.2, 'name': 'normal_strong'},\n",
    "        # {'attack_type': 'pixel', 'epsilon': 0.5, 'frequency_radius': 0.1, 'num_pixels': 100, 'noise_std': 0.05, 'name': 'pixel_few'},\n",
    "        # {'attack_type': 'pixel', 'epsilon': 0.5, 'frequency_radius': 0.1, 'num_pixels': 1000, 'noise_std': 0.05, 'name': 'pixel_many'}\n",
    "    ]\n",
    "\n",
    "    for attack in attacks:\n",
    "        total_correct_original = 0\n",
    "        total_correct_perturbed = 0\n",
    "        total_samples = 0\n",
    "        last_batch_images = []\n",
    "        last_batch_perturbed = []\n",
    "        \n",
    "        adversary = FrequencyPixelAttacks(attack[\"attack_type\"], attack[\"epsilon\"], attack[\"frequency_radius\"], attack[\"num_pixels\"], attack[\"noise_std\"])\n",
    "\n",
    "        # Process each image individually\n",
    "        for i in range(len(test_dataset)):\n",
    "            image, label = test_dataset[i]  # Get single image and label\n",
    "            image, label = image.to(device).unsqueeze(0), torch.tensor([label]).to(device)  # Add batch dimension\n",
    "\n",
    "            # image = image.squeeze(0)  # Removes the batch dimension\n",
    "            perturbed_image = adversary(image)\n",
    "            \n",
    "            with torch.no_grad():\n",
    "                y_hat = model(image)\n",
    "                y_pred = model(perturbed_image)\n",
    "            \n",
    "            pred_original = torch.argmax(y_hat, dim=1)\n",
    "            pred_perturbed = torch.argmax(y_pred, dim=1)\n",
    "            \n",
    "            total_correct_original += (pred_original == label).item()\n",
    "            total_correct_perturbed += (pred_perturbed == label).item()\n",
    "            total_samples += 1  # Each image is processed individually\n",
    "            \n",
    "            if i < 5:  # Store only a few images for visualization\n",
    "                last_batch_images.append(image.cpu().squeeze(0))\n",
    "                last_batch_perturbed.append(perturbed_image.cpu().squeeze(0))\n",
    "\n",
    "        original_acc = (total_correct_original / total_samples) * 100\n",
    "        perturbed_acc = (total_correct_perturbed / total_samples) * 100\n",
    "    \n",
    "        print(f\"Attack: {attack['name']}\")\n",
    "        print(\"Total Samples: \", total_samples)\n",
    "        print(f\"Accuracy on Original Images: {original_acc:.2f}%\")\n",
    "        print(f\"Accuracy on Perturbed Images: {perturbed_acc:.2f}%\")\n",
    "\n",
    "        display_image(last_batch_images, last_batch_perturbed)"
   ]
  },
  {
   "cell_type": "code",
   "execution_count": 10,
   "id": "1bc46d96",
   "metadata": {},
   "outputs": [
    {
     "name": "stdout",
     "output_type": "stream",
     "text": [
      "Attack: phase_strong\n",
      "Total Samples:  10000\n",
      "Accuracy on Original Images: 74.56%\n",
      "Accuracy on Perturbed Images: 26.29%\n"
     ]
    },
    {
     "data": {
      "image/png": "[encoded data removed]",
      "text/plain": [
       "<Figure size 1600x1000 with 10 Axes>"
      ]
     },
     "metadata": {},
     "output_type": "display_data"
    },
    {
     "name": "stdout",
     "output_type": "stream",
     "text": [
      "Attack: magnitude_strong\n",
      "Total Samples:  10000\n",
      "Accuracy on Original Images: 74.56%\n",
      "Accuracy on Perturbed Images: 25.55%\n"
     ]
    },
    {
     "data": {
      "image/png": "[encoded data removed]",
      "text/plain": [
       "<Figure size 1600x1000 with 10 Axes>"
      ]
     },
     "metadata": {},
     "output_type": "display_data"
    },
    {
     "name": "stdout",
     "output_type": "stream",
     "text": [
      "Attack: normal_strong\n",
      "Total Samples:  10000\n",
      "Accuracy on Original Images: 74.56%\n",
      "Accuracy on Perturbed Images: 25.07%\n"
     ]
    },
    {
     "data": {
      "image/png": "[encoded data removed]",
      "text/plain": [
       "<Figure size 1600x1000 with 10 Axes>"
      ]
     },
     "metadata": {},
     "output_type": "display_data"
    }
   ],
   "source": [
    "train_adversary(model)"
   ]
  }
 ],
 "metadata": {
  "kernelspec": {
   "display_name": "ml",
   "language": "python",
   "name": "python3"
  },
  "language_info": {
   "codemirror_mode": {
    "name": "ipython",
    "version": 3
   },
   "file_extension": ".py",
   "mimetype": "text/x-python",
   "name": "python",
   "nbconvert_exporter": "python",
   "pygments_lexer": "ipython3",
   "version": "3.10.16"
  }
 },
 "nbformat": 4,
 "nbformat_minor": 5
}
